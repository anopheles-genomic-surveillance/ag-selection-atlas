{
 "cells": [
  {
   "cell_type": "code",
   "execution_count": 1,
   "id": "fa3c4324-223f-40e3-9b39-4ac350ece708",
   "metadata": {
    "tags": [
     "parameters",
     "remove-input"
    ]
   },
   "outputs": [],
   "source": [
    "# Notebook parameters. Values here are for development only and\n",
    "# will be overridden when running via snakemake and papermill.\n",
    "\n",
    "# Parameter provided manually.\n",
    "alert_id = \"SA-AG-01\"\n",
    "\n",
    "# Parameters from the alert yaml.\n",
    "label = \"Voltage-gated sodium channel\"\n",
    "region = \"2RL:63,000,000-65,000,000\"\n",
    "ir_candidate_genes = [\n",
    "    dict(\n",
    "        identifier=\"AGAP004707\",\n",
    "        names=[\"Vgsc\", \"Para\"],\n",
    "        notes=\"Blah blah blah.\",\n",
    "        references=[\n",
    "            dict(\n",
    "                citation=\"Clarkson et al. (2021)\",\n",
    "                title=\"FOo bar\",\n",
    "                url=\"https://doi.org/10.1111/mec.15845\",\n",
    "            ),\n",
    "            dict(\n",
    "                citation=\"Martinez-Torres et al. (1998)\",\n",
    "                title=\"Spam eggs\",\n",
    "                url=\"https://pubmed.ncbi.nlm.nih.gov/9535162/\",\n",
    "            ),\n",
    "        ],\n",
    "    ),\n",
    "]\n",
    "\n",
    "# Parameters from the workflow config.yaml.\n",
    "cohorts_analysis = \"20240924\"\n",
    "analysis_version = \"2025.02.07\"\n",
    "dask_scheduler = \"single-threaded\""
   ]
  },
  {
   "cell_type": "code",
   "execution_count": 7,
   "id": "b8d03936-b453-449c-bc35-278ca3aaf330",
   "metadata": {
    "tags": [
     "remove-input"
    ]
   },
   "outputs": [
    {
     "data": {
      "application/javascript": "'use strict';\n(function(root) {\n  function now() {\n    return new Date();\n  }\n\n  const force = true;\n\n  if (typeof root._bokeh_onload_callbacks === \"undefined\" || force === true) {\n    root._bokeh_onload_callbacks = [];\n    root._bokeh_is_loading = undefined;\n  }\n\nconst JS_MIME_TYPE = 'application/javascript';\n  const HTML_MIME_TYPE = 'text/html';\n  const EXEC_MIME_TYPE = 'application/vnd.bokehjs_exec.v0+json';\n  const CLASS_NAME = 'output_bokeh rendered_html';\n\n  /**\n   * Render data to the DOM node\n   */\n  function render(props, node) {\n    const script = document.createElement(\"script\");\n    node.appendChild(script);\n  }\n\n  /**\n   * Handle when an output is cleared or removed\n   */\n  function handleClearOutput(event, handle) {\n    function drop(id) {\n      const view = Bokeh.index.get_by_id(id)\n      if (view != null) {\n        view.model.document.clear()\n        Bokeh.index.delete(view)\n      }\n    }\n\n    const cell = handle.cell;\n\n    const id = cell.output_area._bokeh_element_id;\n    const server_id = cell.output_area._bokeh_server_id;\n\n    // Clean up Bokeh references\n    if (id != null) {\n      drop(id)\n    }\n\n    if (server_id !== undefined) {\n      // Clean up Bokeh references\n      const cmd_clean = \"from bokeh.io.state import curstate; print(curstate().uuid_to_server['\" + server_id + \"'].get_sessions()[0].document.roots[0]._id)\";\n      cell.notebook.kernel.execute(cmd_clean, {\n        iopub: {\n          output: function(msg) {\n            const id = msg.content.text.trim()\n            drop(id)\n          }\n        }\n      });\n      // Destroy server and session\n      const cmd_destroy = \"import bokeh.io.notebook as ion; ion.destroy_server('\" + server_id + \"')\";\n      cell.notebook.kernel.execute(cmd_destroy);\n    }\n  }\n\n  /**\n   * Handle when a new output is added\n   */\n  function handleAddOutput(event, handle) {\n    const output_area = handle.output_area;\n    const output = handle.output;\n\n    // limit handleAddOutput to display_data with EXEC_MIME_TYPE content only\n    if ((output.output_type != \"display_data\") || (!Object.prototype.hasOwnProperty.call(output.data, EXEC_MIME_TYPE))) {\n      return\n    }\n\n    const toinsert = output_area.element.find(\".\" + CLASS_NAME.split(' ')[0]);\n\n    if (output.metadata[EXEC_MIME_TYPE][\"id\"] !== undefined) {\n      toinsert[toinsert.length - 1].firstChild.textContent = output.data[JS_MIME_TYPE];\n      // store reference to embed id on output_area\n      output_area._bokeh_element_id = output.metadata[EXEC_MIME_TYPE][\"id\"];\n    }\n    if (output.metadata[EXEC_MIME_TYPE][\"server_id\"] !== undefined) {\n      const bk_div = document.createElement(\"div\");\n      bk_div.innerHTML = output.data[HTML_MIME_TYPE];\n      const script_attrs = bk_div.children[0].attributes;\n      for (let i = 0; i < script_attrs.length; i++) {\n        toinsert[toinsert.length - 1].firstChild.setAttribute(script_attrs[i].name, script_attrs[i].value);\n        toinsert[toinsert.length - 1].firstChild.textContent = bk_div.children[0].textContent\n      }\n      // store reference to server id on output_area\n      output_area._bokeh_server_id = output.metadata[EXEC_MIME_TYPE][\"server_id\"];\n    }\n  }\n\n  function register_renderer(events, OutputArea) {\n\n    function append_mime(data, metadata, element) {\n      // create a DOM node to render to\n      const toinsert = this.create_output_subarea(\n        metadata,\n        CLASS_NAME,\n        EXEC_MIME_TYPE\n      );\n      this.keyboard_manager.register_events(toinsert);\n      // Render to node\n      const props = {data: data, metadata: metadata[EXEC_MIME_TYPE]};\n      render(props, toinsert[toinsert.length - 1]);\n      element.append(toinsert);\n      return toinsert\n    }\n\n    /* Handle when an output is cleared or removed */\n    events.on('clear_output.CodeCell', handleClearOutput);\n    events.on('delete.Cell', handleClearOutput);\n\n    /* Handle when a new output is added */\n    events.on('output_added.OutputArea', handleAddOutput);\n\n    /**\n     * Register the mime type and append_mime function with output_area\n     */\n    OutputArea.prototype.register_mime_type(EXEC_MIME_TYPE, append_mime, {\n      /* Is output safe? */\n      safe: true,\n      /* Index of renderer in `output_area.display_order` */\n      index: 0\n    });\n  }\n\n  // register the mime type if in Jupyter Notebook environment and previously unregistered\n  if (root.Jupyter !== undefined) {\n    const events = require('base/js/events');\n    const OutputArea = require('notebook/js/outputarea').OutputArea;\n\n    if (OutputArea.prototype.mime_types().indexOf(EXEC_MIME_TYPE) == -1) {\n      register_renderer(events, OutputArea);\n    }\n  }\n  if (typeof (root._bokeh_timeout) === \"undefined\" || force === true) {\n    root._bokeh_timeout = Date.now() + 5000;\n    root._bokeh_failed_load = false;\n  }\n\n  const NB_LOAD_WARNING = {'data': {'text/html':\n     \"<div style='background-color: #fdd'>\\n\"+\n     \"<p>\\n\"+\n     \"BokehJS does not appear to have successfully loaded. If loading BokehJS from CDN, this \\n\"+\n     \"may be due to a slow or bad network connection. Possible fixes:\\n\"+\n     \"</p>\\n\"+\n     \"<ul>\\n\"+\n     \"<li>re-rerun `output_notebook()` to attempt to load from CDN again, or</li>\\n\"+\n     \"<li>use INLINE resources instead, as so:</li>\\n\"+\n     \"</ul>\\n\"+\n     \"<code>\\n\"+\n     \"from bokeh.resources import INLINE\\n\"+\n     \"output_notebook(resources=INLINE)\\n\"+\n     \"</code>\\n\"+\n     \"</div>\"}};\n\n  function display_loaded(error = null) {\n    const el = document.getElementById(null);\n    if (el != null) {\n      const html = (() => {\n        if (typeof root.Bokeh === \"undefined\") {\n          if (error == null) {\n            return \"BokehJS is loading ...\";\n          } else {\n            return \"BokehJS failed to load.\";\n          }\n        } else {\n          const prefix = `BokehJS ${root.Bokeh.version}`;\n          if (error == null) {\n            return `${prefix} successfully loaded.`;\n          } else {\n            return `${prefix} <b>encountered errors</b> while loading and may not function as expected.`;\n          }\n        }\n      })();\n      el.innerHTML = html;\n\n      if (error != null) {\n        const wrapper = document.createElement(\"div\");\n        wrapper.style.overflow = \"auto\";\n        wrapper.style.height = \"5em\";\n        wrapper.style.resize = \"vertical\";\n        const content = document.createElement(\"div\");\n        content.style.fontFamily = \"monospace\";\n        content.style.whiteSpace = \"pre-wrap\";\n        content.style.backgroundColor = \"rgb(255, 221, 221)\";\n        content.textContent = error.stack ?? error.toString();\n        wrapper.append(content);\n        el.append(wrapper);\n      }\n    } else if (Date.now() < root._bokeh_timeout) {\n      setTimeout(() => display_loaded(error), 100);\n    }\n  }\n\n  function run_callbacks() {\n    try {\n      root._bokeh_onload_callbacks.forEach(function(callback) {\n        if (callback != null)\n          callback();\n      });\n    } finally {\n      delete root._bokeh_onload_callbacks\n    }\n    console.debug(\"Bokeh: all callbacks have finished\");\n  }\n\n  function load_libs(css_urls, js_urls, callback) {\n    if (css_urls == null) css_urls = [];\n    if (js_urls == null) js_urls = [];\n\n    root._bokeh_onload_callbacks.push(callback);\n    if (root._bokeh_is_loading > 0) {\n      console.debug(\"Bokeh: BokehJS is being loaded, scheduling callback at\", now());\n      return null;\n    }\n    if (js_urls == null || js_urls.length === 0) {\n      run_callbacks();\n      return null;\n    }\n    console.debug(\"Bokeh: BokehJS not loaded, scheduling load and callback at\", now());\n    root._bokeh_is_loading = css_urls.length + js_urls.length;\n\n    function on_load() {\n      root._bokeh_is_loading--;\n      if (root._bokeh_is_loading === 0) {\n        console.debug(\"Bokeh: all BokehJS libraries/stylesheets loaded\");\n        run_callbacks()\n      }\n    }\n\n    function on_error(url) {\n      console.error(\"failed to load \" + url);\n    }\n\n    for (let i = 0; i < css_urls.length; i++) {\n      const url = css_urls[i];\n      const element = document.createElement(\"link\");\n      element.onload = on_load;\n      element.onerror = on_error.bind(null, url);\n      element.rel = \"stylesheet\";\n      element.type = \"text/css\";\n      element.href = url;\n      console.debug(\"Bokeh: injecting link tag for BokehJS stylesheet: \", url);\n      document.body.appendChild(element);\n    }\n\n    for (let i = 0; i < js_urls.length; i++) {\n      const url = js_urls[i];\n      const element = document.createElement('script');\n      element.onload = on_load;\n      element.onerror = on_error.bind(null, url);\n      element.async = false;\n      element.src = url;\n      console.debug(\"Bokeh: injecting script tag for BokehJS library: \", url);\n      document.head.appendChild(element);\n    }\n  };\n\n  function inject_raw_css(css) {\n    const element = document.createElement(\"style\");\n    element.appendChild(document.createTextNode(css));\n    document.body.appendChild(element);\n  }\n\n  const js_urls = [\"https://cdn.bokeh.org/bokeh/release/bokeh-3.6.3.min.js\", \"https://cdn.bokeh.org/bokeh/release/bokeh-gl-3.6.3.min.js\", \"https://cdn.bokeh.org/bokeh/release/bokeh-widgets-3.6.3.min.js\", \"https://cdn.bokeh.org/bokeh/release/bokeh-tables-3.6.3.min.js\", \"https://cdn.bokeh.org/bokeh/release/bokeh-mathjax-3.6.3.min.js\"];\n  const css_urls = [];\n\n  const inline_js = [    function(Bokeh) {\n      Bokeh.set_log_level(\"info\");\n    },\nfunction(Bokeh) {\n    }\n  ];\n\n  function run_inline_js() {\n    if (root.Bokeh !== undefined || force === true) {\n      try {\n            for (let i = 0; i < inline_js.length; i++) {\n      inline_js[i].call(root, root.Bokeh);\n    }\n\n      } catch (error) {throw error;\n      }} else if (Date.now() < root._bokeh_timeout) {\n      setTimeout(run_inline_js, 100);\n    } else if (!root._bokeh_failed_load) {\n      console.log(\"Bokeh: BokehJS failed to load within specified timeout.\");\n      root._bokeh_failed_load = true;\n    } else if (force !== true) {\n      const cell = $(document.getElementById(null)).parents('.cell').data().cell;\n      cell.output_area.append_execute_result(NB_LOAD_WARNING)\n    }\n  }\n\n  if (root._bokeh_is_loading === 0) {\n    console.debug(\"Bokeh: BokehJS loaded, going straight to plotting\");\n    run_inline_js();\n  } else {\n    load_libs(css_urls, js_urls, function() {\n      console.debug(\"Bokeh: BokehJS plotting callback run at\", now());\n      run_inline_js();\n    });\n  }\n}(window));",
      "application/vnd.bokehjs_load.v0+json": ""
     },
     "metadata": {},
     "output_type": "display_data"
    },
    {
     "ename": "NameError",
     "evalue": "name 'output_notebook' is not defined",
     "output_type": "error",
     "traceback": [
      "\u001b[0;31m---------------------------------------------------------------------------\u001b[0m",
      "\u001b[0;31mNameError\u001b[0m                                 Traceback (most recent call last)",
      "Cell \u001b[0;32mIn[7], line 12\u001b[0m\n\u001b[1;32m      5\u001b[0m region_start, region_stop \u001b[38;5;241m=\u001b[39m region_span\u001b[38;5;241m.\u001b[39mreplace(\u001b[38;5;124m\"\u001b[39m\u001b[38;5;124m,\u001b[39m\u001b[38;5;124m\"\u001b[39m, \u001b[38;5;124m\"\u001b[39m\u001b[38;5;124m\"\u001b[39m)\u001b[38;5;241m.\u001b[39msplit(\u001b[38;5;124m\"\u001b[39m\u001b[38;5;124m-\u001b[39m\u001b[38;5;124m\"\u001b[39m)\n\u001b[1;32m      7\u001b[0m \u001b[38;5;66;03m# N.B., do not add the \"remove-output\" tag to this cell!!! If you do,\u001b[39;00m\n\u001b[1;32m      8\u001b[0m \u001b[38;5;66;03m# the bokeh javascript libraries will not get loaded in the generated\u001b[39;00m\n\u001b[1;32m      9\u001b[0m \u001b[38;5;66;03m# HTML page. The call to output_notebook() injects javascript in the\u001b[39;00m\n\u001b[1;32m     10\u001b[0m \u001b[38;5;66;03m# cell output which triggers the bokeh javascript libraries to be loaded\u001b[39;00m\n\u001b[1;32m     11\u001b[0m \u001b[38;5;66;03m# in the page.\u001b[39;00m\n\u001b[0;32m---> 12\u001b[0m \u001b[43moutput_notebook\u001b[49m(hide_banner\u001b[38;5;241m=\u001b[39m\u001b[38;5;28;01mTrue\u001b[39;00m)\n",
      "\u001b[0;31mNameError\u001b[0m: name 'output_notebook' is not defined"
     ]
    }
   ],
   "source": [
    "from pyprojroot import here\n",
    "\n",
    "root = here()\n",
    "%run -i {root}/workflow/notebooks/site-utils.py\n",
    "\n",
    "region_contig, region_span = region.split(\":\")\n",
    "region_start, region_stop = region_span.replace(\",\", \"\").split(\"-\")\n",
    "\n",
    "# N.B., do not add the \"remove-output\" tag to this cell!!! If you do,\n",
    "# the bokeh javascript libraries will not get loaded in the generated\n",
    "# HTML page. The call to output_notebook() injects javascript in the\n",
    "# cell output which triggers the bokeh javascript libraries to be loaded\n",
    "# in the page.\n",
    "output_notebook(hide_banner=True)"
   ]
  },
  {
   "cell_type": "markdown",
   "id": "1f2288aa-fe3d-44c2-88be-aa897d9b4b49",
   "metadata": {},
   "source": [
    "# Alert Foo\n"
   ]
  },
  {
   "cell_type": "code",
   "execution_count": null,
   "id": "77a6a3b4-138a-4fde-a4ec-1bbfd9649c34",
   "metadata": {
    "tags": [
     "remove-input"
    ]
   },
   "outputs": [],
   "source": [
    "html = f\"This alert reports selection signals on contig {region_contig} within the region {region_span} bp.\"\n",
    "HTML(html)"
   ]
  },
  {
   "cell_type": "markdown",
   "id": "17aae4ac-f7b3-4b94-ba3e-746c20102bcf",
   "metadata": {
    "tags": []
   },
   "source": [
    "## Selection signals\n",
    "\n",
    "Selection signals overlapping this genome region are shown in the figure below."
   ]
  },
  {
   "cell_type": "code",
   "execution_count": null,
   "id": "81786065-8265-4ee4-9f92-8a43d3f33609",
   "metadata": {
    "tags": [
     "remove-input"
    ]
   },
   "outputs": [],
   "source": [
    "df_signals = load_signals(\n",
    "    contig=region_contig,\n",
    "    start=region_start,\n",
    "    stop=region_stop,\n",
    ")\n",
    "\n",
    "plot_signals(\n",
    "    df=df_signals,\n",
    "    contig=region_contig,\n",
    "    x_min=df_signals[\"span2_pstart\"].min() - 50_000,\n",
    "    x_max=df_signals[\"span2_pstop\"].max() + 50_000,\n",
    ")"
   ]
  },
  {
   "cell_type": "markdown",
   "id": "97da6cd4-0dc2-4ba4-8cac-4f93edc4badc",
   "metadata": {},
   "source": [
    "## Cohorts affected\n",
    "Overlapping signals of selection are found in the following cohorts. "
   ]
  },
  {
   "cell_type": "code",
   "execution_count": null,
   "id": "9222a438-686f-410f-8fd9-02428c2d3095",
   "metadata": {
    "tags": [
     "remove-input"
    ]
   },
   "outputs": [],
   "source": [
    "cohort_links = [\n",
    "    '<a href=\"../cohort/' + row[\"cohort_id\"] + '.html\">' + row[\"cohort_label\"] + \"</a>\"\n",
    "    for i, row in df_signals.iterrows()\n",
    "]\n",
    "html_message = \"<li>\" + \"</li><li>\".join(cohort_links) + \"</li>\"\n",
    "HTML(html_message)"
   ]
  },
  {
   "cell_type": "markdown",
   "id": "b29f7a5a-c33d-4f5a-b6d3-9023ab7ebe55",
   "metadata": {},
   "source": [
    "## Insecticide resistance genes\n",
    "\n",
    "The following genes are found within this genome region and may be driving recent positive selection based on evidence for an association with resistance to insecticides."
   ]
  },
  {
   "cell_type": "code",
   "execution_count": null,
   "id": "36715af3-9e4a-4fe8-a91f-0b7981b2845e",
   "metadata": {
    "tags": [
     "remove-input"
    ]
   },
   "outputs": [],
   "source": [
    "for gene in ir_candidate_genes:\n",
    "    gene_id = gene[\"identifier\"]\n",
    "    html = f'<p><strong><a href=\"https://vectorbase.org/vectorbase/app/record/gene/{gene_id}\">{gene_id}</a></strong>'\n",
    "    gene_names = gene[\"names\"]\n",
    "    if gene_names:\n",
    "        html += \" (\" + \", \".join(gene_names) + \")\"\n",
    "    html += \" — \"\n",
    "    notes = gene[\"notes\"]\n",
    "    html += f\"{notes} See also:\"\n",
    "    html += \"<ul>\"\n",
    "    for reference in gene[\"references\"]:\n",
    "        citation = reference[\"citation\"]\n",
    "        url = reference[\"url\"]\n",
    "        title = reference[\"title\"]\n",
    "        html += f'<li><a href=\"{url}\">{citation}</a> {title}</li>'\n",
    "    html += \"</ul></p>\"\n",
    "    display(HTML(html))"
   ]
  }
 ],
 "metadata": {
  "kernelspec": {
   "display_name": "Python 3.12.8 (conda)",
   "language": "python",
   "name": "python3"
  },
  "language_info": {
   "codemirror_mode": {
    "name": "ipython",
    "version": 3
   },
   "file_extension": ".py",
   "mimetype": "text/x-python",
   "name": "python",
   "nbconvert_exporter": "python",
   "pygments_lexer": "ipython3",
   "version": "3.12.8"
  },
  "vscode": {
   "interpreter": {
    "hash": "413cdeb219e8bff135b0b2763a87a5764c0fe7d0a4036c131f34ed4d6caa02ac"
   }
  }
 },
 "nbformat": 4,
 "nbformat_minor": 5
}

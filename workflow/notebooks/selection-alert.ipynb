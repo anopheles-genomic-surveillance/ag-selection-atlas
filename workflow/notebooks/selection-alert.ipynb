{
 "cells": [
  {
   "cell_type": "code",
   "execution_count": null,
   "id": "969dc032-7d84-4598-9820-fe982c7aed77",
   "metadata": {
    "tags": [
     "parameters",
     "remove-input"
    ]
   },
   "outputs": [],
   "source": [
    "region = \"2RL:63,000,000-65,000,000\"\n",
    "region_name = \"the Vgsc\"\n",
    "contig, span = region.split(\":\")\n",
    "dask_scheduler = \"threads\"\n",
    "use_gcs_cache = False\n",
    "cohorts_analysis = \"20230223\"\n",
    "analysis_version = \"dev\""
   ]
  },
  {
   "cell_type": "code",
   "execution_count": null,
   "id": "b8d03936-b453-449c-bc35-278ca3aaf330",
   "metadata": {
    "tags": [
     "remove-input"
    ]
   },
   "outputs": [],
   "source": [
    "from IPython.display import Markdown, HTML\n",
    "import malariagen_data\n",
    "import numpy as np\n",
    "import pandas as pd\n",
    "from pyprojroot import here\n",
    "import yaml\n",
    "import dask\n",
    "\n",
    "dask.config.set(scheduler=dask_scheduler)\n",
    "from textwrap import dedent\n",
    "\n",
    "import geopandas as gpd\n",
    "import bokeh.layouts as bklay\n",
    "import bokeh.plotting as bkplt\n",
    "import bokeh.models as bkmod\n",
    "import plotly.express as px\n",
    "\n",
    "from bokeh.io import output_notebook  # enables plot interface in J notebook\n",
    "\n",
    "# N.B., do not add the \"remove-output\" tag to this cell!!! If you do,\n",
    "# the bokeh javascript libraries will not get loaded in the generated\n",
    "# HTML page. The call to output_notebook() injects javascript in the\n",
    "# cell output which triggers the bokeh javascript libraries to be loaded\n",
    "# in the page.\n",
    "output_notebook(hide_banner=True)"
   ]
  },
  {
   "cell_type": "markdown",
   "id": "1f2288aa-fe3d-44c2-88be-aa897d9b4b49",
   "metadata": {},
   "source": [
    "# SA-1"
   ]
  },
  {
   "cell_type": "markdown",
   "id": "b29f7a5a-c33d-4f5a-b6d3-9023ab7ebe55",
   "metadata": {},
   "source": [
    "## Signals"
   ]
  },
  {
   "cell_type": "code",
   "execution_count": null,
   "id": "9a2a86dd-58c7-4037-b99c-53ede4c54f87",
   "metadata": {
    "tags": [
     "remove-input",
     "remove-output"
    ]
   },
   "outputs": [],
   "source": [
    "extra_params = dict()\n",
    "if use_gcs_cache:\n",
    "    extra_params[\"url\"] = \"simplecache::gs://vo_agam_release_master_us_central1\"\n",
    "    extra_params[\"simplecache\"] = dict(cache_storage=(here() / \"gcs_cache\").as_posix())\n",
    "\n",
    "ag3 = malariagen_data.Ag3(\n",
    "    # pin the version of the cohorts analysis for reproducibility\n",
    "    cohorts_analysis=cohorts_analysis,\n",
    "    results_cache=(here() / \"build\" / \"malariagen_data_cache\").as_posix(),\n",
    "    **extra_params,\n",
    ")\n",
    "ag3"
   ]
  },
  {
   "cell_type": "code",
   "execution_count": null,
   "id": "e4e56901-47ff-4492-a9a5-fd33010b0343",
   "metadata": {
    "tags": [
     "remove-input",
     "remove-output"
    ]
   },
   "outputs": [],
   "source": [
    "def load_signals(cohorts, contig):\n",
    "    df_signals = []\n",
    "    for _, row in cohorts.iterrows():\n",
    "        try:\n",
    "            df_signals.append(\n",
    "                pd.read_csv(\n",
    "                    here()\n",
    "                    / \"build/h12-signal-detection/\"\n",
    "                    / f\"{row['cohort_id']}_{contig}.csv\"\n",
    "                ).assign(taxon=row[\"taxon\"])\n",
    "            )\n",
    "        except pd.errors.EmptyDataError:\n",
    "            continue\n",
    "\n",
    "    df_signals = (\n",
    "        pd.concat(df_signals, axis=0).assign(statistic=\"H12\").sort_values(\"taxon\")\n",
    "    )\n",
    "    color_dict = {\"gambiae\": \"#BEC4FF\", \"coluzzii\": \"#D7B2A6\", \"arabiensis\": \"#A6D7CA\"}\n",
    "\n",
    "    df_signals[\"color\"] = df_signals[\"taxon\"].map(color_dict).fillna(\"lightgrey\")\n",
    "\n",
    "    return df_signals\n",
    "\n",
    "\n",
    "cohorts = gpd.read_file(here() / \"build\" / \"final_cohorts.geojson\")\n",
    "df_signals = load_signals(cohorts=cohorts, contig=contig)\n",
    "\n",
    "start, stop = span.replace(\",\", \"\").split(\"-\")\n",
    "region_signals = df_signals.query(\n",
    "    f\"focus_pstop < {int(stop)} and focus_pstart > {int(start)}\"\n",
    ").sort_values(\"cohort_id\")\n",
    "region_signals = region_signals.merge(cohorts)"
   ]
  },
  {
   "cell_type": "code",
   "execution_count": null,
   "id": "c3570073-ca91-45e0-938b-1a446ee6c34f",
   "metadata": {
    "tags": [
     "remove-input"
    ]
   },
   "outputs": [],
   "source": [
    "def stack_overlaps(df, start_col, end_col, tolerance=10000):\n",
    "    import numpy as np\n",
    "\n",
    "    occupants = [None]\n",
    "    out = []\n",
    "    for _, cur in df.iterrows():\n",
    "        level = 0\n",
    "        prv = occupants[level]\n",
    "        # search upwards to find the first vacant level\n",
    "        while prv is not None and cur[start_col] <= (prv[end_col] + tolerance):\n",
    "            level += 1\n",
    "            if level == len(occupants):\n",
    "                occupants.append(None)\n",
    "            prv = occupants[level]\n",
    "        occupants[level] = cur\n",
    "        out.append(level)\n",
    "    return np.asarray(out)\n",
    "\n",
    "\n",
    "region_signals = region_signals.sort_values(by=\"span2_pstart\")\n",
    "region_signals[\"level\"] = stack_overlaps(region_signals, \"span2_pstart\", \"span2_pstop\")"
   ]
  },
  {
   "cell_type": "code",
   "execution_count": null,
   "id": "e3ac47e4-4f45-4063-beb9-578342a59e02",
   "metadata": {
    "tags": [
     "remove-input"
    ]
   },
   "outputs": [],
   "source": [
    "def plot_region_summary(df, x_min, x_max, region_name):\n",
    "    \"\"\"\n",
    "    This function is the same as the plot_chromosome_summary() in the chromosome pages notebook, but sets the\n",
    "    x_range to be the left-most signal -> right-most signal, rather than the start and end of the chromosome.\n",
    "    \"\"\"\n",
    "    x_min = df[\"span2_pstart\"].min() - 500_000\n",
    "    x_max = df[\"span2_pstop\"].max() + 500_000\n",
    "\n",
    "    # set up triangle shapes for bokeh patches glyphs\n",
    "    left_xs = [\n",
    "        np.array([row.span2_pstart, row.focus_pstart, row.focus_pstart])\n",
    "        for idx, row in df.iterrows()\n",
    "    ]\n",
    "    left_ys = [\n",
    "        np.array([row.level + 0.1, row.level, row.level + 0.2])\n",
    "        for idx, row in df.iterrows()\n",
    "    ]\n",
    "\n",
    "    right_xs = [\n",
    "        np.array([row.focus_pstop, row.focus_pstop, row.span2_pstop])\n",
    "        for idx, row in df.iterrows()\n",
    "    ]\n",
    "    right_ys = [\n",
    "        np.array([row.level, row.level + 0.2, row.level + 0.1])\n",
    "        for idx, row in df.iterrows()\n",
    "    ]\n",
    "\n",
    "    center_xs = [np.array([row.pcenter, row.pcenter]) for idx, row in df.iterrows()]\n",
    "    center_ys = [np.array([row.level, row.level + 0.2]) for idx, row in df.iterrows()]\n",
    "\n",
    "    source = bkmod.ColumnDataSource(\n",
    "        data={\n",
    "            \"cohort\": df.cohort_id,\n",
    "            \"taxon\": df.taxon,\n",
    "            \"statistic\": df.statistic,\n",
    "            \"chromosome\": df.contig,\n",
    "            \"score\": df.delta_i.astype(int),\n",
    "            \"peak_start\": df.span2_pstart,\n",
    "            \"peak_stop\": df.span2_pstop,\n",
    "            \"focus_start\": df.focus_pstart,\n",
    "            \"focus_stop\": df.focus_pstop,\n",
    "            \"left_xs\": left_xs,\n",
    "            \"left_ys\": left_ys,\n",
    "            \"right_xs\": right_xs,\n",
    "            \"right_ys\": right_ys,\n",
    "            \"center_xs\": center_xs,\n",
    "            \"center_ys\": center_ys,\n",
    "            \"bottom\": df.level,\n",
    "            \"mid\": df.level + 0.5,\n",
    "            \"top\": df.level + 0.2,\n",
    "            \"taxon_color\": df.color,\n",
    "        }\n",
    "    )\n",
    "\n",
    "    hover = bkmod.HoverTool(\n",
    "        tooltips=[\n",
    "            (\"Cohort\", \"@cohort\"),\n",
    "            (\"Statistic\", \"@statistic\"),\n",
    "            (\"Score\", \"@score\"),\n",
    "            (\"Focus\", \"@focus_start{,} - @focus_stop{,}\"),\n",
    "        ]\n",
    "    )\n",
    "\n",
    "    xwheel_zoom = bkmod.WheelZoomTool(dimensions=\"width\", maintain_focus=False)\n",
    "\n",
    "    # make figure\n",
    "    fig1 = bkplt.figure(\n",
    "        title=f\"Selection signals at {region_name}\",\n",
    "        width=900,\n",
    "        height=200 + (10 * max(df.level)),\n",
    "        tools=[\"tap\", \"xpan\", \"xzoom_in\", \"xzoom_out\", \"reset\", xwheel_zoom, hover],\n",
    "        toolbar_location=\"above\",\n",
    "        active_drag=\"xpan\",\n",
    "        x_range=bkmod.Range1d(x_min, x_max, bounds=\"auto\"),\n",
    "        y_range=bkmod.Range1d(-0.5, max(df.level) + 1.3, bounds=\"auto\"),\n",
    "        active_scroll=xwheel_zoom,\n",
    "    )\n",
    "\n",
    "    fig1.patches(\n",
    "        xs=\"left_xs\",\n",
    "        ys=\"left_ys\",\n",
    "        source=source,\n",
    "        color=\"taxon_color\",\n",
    "        alpha=0.7,\n",
    "        line_width=2,\n",
    "        legend_field=\"taxon\",\n",
    "    )\n",
    "    fig1.patches(\n",
    "        xs=\"right_xs\",\n",
    "        ys=\"right_ys\",\n",
    "        source=source,\n",
    "        color=\"taxon_color\",\n",
    "        alpha=0.7,\n",
    "        line_width=2,\n",
    "        legend_field=\"taxon\",\n",
    "    )\n",
    "\n",
    "    fig1.quad(\n",
    "        bottom=\"bottom\",\n",
    "        top=\"top\",\n",
    "        left=\"focus_start\",\n",
    "        right=\"focus_stop\",\n",
    "        source=source,\n",
    "        color=\"red\",\n",
    "        alpha=0.5,\n",
    "        line_width=2,\n",
    "    )\n",
    "\n",
    "    glyph = bkmod.MultiLine(\n",
    "        xs=\"center_xs\", ys=\"center_ys\", line_color=\"red\", line_width=2, line_alpha=0.8\n",
    "    )\n",
    "    fig1.add_glyph(source, glyph)\n",
    "\n",
    "    # tidy up the plot\n",
    "    fig1.yaxis.visible = False\n",
    "    fig1.xaxis.visible = False\n",
    "    fig1.ygrid.visible = False\n",
    "    fig1.legend.background_fill_alpha = 0.2\n",
    "\n",
    "    url = \"../cohort/@cohort.html\"\n",
    "    taptool = fig1.select(type=bkmod.TapTool)\n",
    "    taptool.callback = bkmod.OpenURL(url=url)\n",
    "\n",
    "    fig2 = ag3.plot_genes(\n",
    "        region=contig, sizing_mode=\"stretch_width\", x_range=fig1.x_range, show=False\n",
    "    )\n",
    "\n",
    "    fig = bklay.gridplot(\n",
    "        [fig1, fig2],\n",
    "        ncols=1,\n",
    "        toolbar_location=\"above\",\n",
    "        merge_tools=True,\n",
    "        sizing_mode=\"stretch_width\",\n",
    "    )\n",
    "\n",
    "    bkplt.show(fig)\n",
    "\n",
    "\n",
    "plot_region_summary(df=region_signals.reset_index(), region_name=region_name)"
   ]
  },
  {
   "cell_type": "markdown",
   "id": "97da6cd4-0dc2-4ba4-8cac-4f93edc4badc",
   "metadata": {},
   "source": [
    "## Cohorts affected\n",
    "Overlapping signals of selection are found in the following cohorts. "
   ]
  },
  {
   "cell_type": "code",
   "execution_count": null,
   "id": "346bbbd3-c0f8-4f44-a3ce-e417080d2245",
   "metadata": {
    "tags": [
     "remove-input"
    ]
   },
   "outputs": [],
   "source": [
    "cohort_links = [\n",
    "    '<a href=\"../cohort/' + row[\"cohort_id\"] + '.html\">' + row[\"cohort_label\"] + \"</a>\"\n",
    "    for i, row in region_signals.iterrows()\n",
    "]\n",
    "html_message = \"<li>\" + \"</li><li>\".join(cohort_links) + \"</li>\"\n",
    "HTML(html_message)"
   ]
  },
  {
   "cell_type": "markdown",
   "id": "db71a1cd",
   "metadata": {},
   "source": [
    "## Candidate genes\n",
    "\n",
    "AGAP004707 (*Vgsc*) - The Voltage-gated sodium channel (VGSC) is the target of pyrethroids and DDT. Mutations in this gene are associated with knockdown resistance (kdr) to pyrethroids and DDT..."
   ]
  },
  {
   "cell_type": "markdown",
   "id": "fbf2eacc-ee18-425e-a3ee-ad8e53bda5f9",
   "metadata": {},
   "source": [
    "## Change log\n",
    "- 2000-00-00 - first version published"
   ]
  }
 ],
 "metadata": {
  "kernelspec": {
   "display_name": "selection-atlas",
   "language": "python",
   "name": "selection-atlas"
  },
  "language_info": {
   "codemirror_mode": {
    "name": "ipython",
    "version": 3
   },
   "file_extension": ".py",
   "mimetype": "text/x-python",
   "name": "python",
   "nbconvert_exporter": "python",
   "pygments_lexer": "ipython3",
   "version": "3.11.11"
  }
 },
 "nbformat": 4,
 "nbformat_minor": 5
}

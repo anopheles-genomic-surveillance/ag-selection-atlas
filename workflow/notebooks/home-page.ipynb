{
 "cells": [
  {
   "cell_type": "code",
   "execution_count": null,
   "id": "944cabdc-4f36-4ab9-b4a0-9d0606b91ae7",
   "metadata": {
    "tags": [
     "parameters",
     "remove-input"
    ]
   },
   "outputs": [],
   "source": [
    "analysis_version = \"dev\""
   ]
  },
  {
   "cell_type": "markdown",
   "id": "f9360e53",
   "metadata": {},
   "source": [
    "# The malaria vector selection atlas"
   ]
  },
  {
   "cell_type": "code",
   "execution_count": null,
   "id": "4d823aef-e233-4d39-b731-5f48093011fd",
   "metadata": {
    "tags": [
     "remove-input"
    ]
   },
   "outputs": [],
   "source": [
    "from IPython.display import Markdown, HTML\n",
    "from ipyleaflet import Map, Marker, basemaps, AwesomeIcon\n",
    "from ipywidgets import HTML\n",
    "from pyprojroot import here\n",
    "import geopandas as gpd\n",
    "\n",
    "home_info = f\"\"\"Welcome to the malaria vector selection atlas (v{analysis_version}). This site summarises selection signals found in the \n",
    "*Anopheles* 1000 genomes project.\n",
    "\n",
    "For more information on how to navigate the site, please watch the user guide.\n",
    "\"\"\"\n",
    "\n",
    "display(Markdown(home_info))"
   ]
  },
  {
   "cell_type": "code",
   "execution_count": null,
   "id": "b271bbe0",
   "metadata": {
    "tags": [
     "remove-input"
    ]
   },
   "outputs": [],
   "source": [
    "# load cohorts to find sample query \n",
    "gdf_cohorts = gpd.read_file(here() / \"build\" / analysis_version / \"analysis\" / \"final_cohorts.geojson\").set_index('cohort_id')"
   ]
  },
  {
   "cell_type": "code",
   "execution_count": null,
   "id": "d2286c43",
   "metadata": {
    "tags": [
     "remove-input"
    ]
   },
   "outputs": [],
   "source": [
    "center = (-2, 20)\n",
    "\n",
    "m = Map(center=center, zoom=3, basemap=basemaps.OpenTopoMap)\n",
    "\n",
    "for shapeID in gdf_cohorts.shapeID.unique():\n",
    "\n",
    "    df = gdf_cohorts.query(\"shapeID == @shapeID\")    \n",
    "    html_text = '<br>'.join([\n",
    "                                f'<a href=\"cohort/{coh_id}.html\">{row.cohort_label} (n={row.cohort_size})</a>' \n",
    "                                for coh_id, row in df.iterrows()\n",
    "                            ])\n",
    "\n",
    "    lat, long = df[['representative_lat', 'representative_lon']].drop_duplicates().values[0]\n",
    "    \n",
    "    icon1 = AwesomeIcon(\n",
    "        name='bug',\n",
    "        marker_color=\"gray\",\n",
    "        icon_color='white',\n",
    "        spin=False\n",
    "    )\n",
    "    \n",
    "    marker = Marker(location=(lat, long), icon=icon1, draggable=False, opacity=0.7)\n",
    "    m.add_layer(marker);\n",
    "    \n",
    "    message2 = HTML()\n",
    "    message2.value = html_text\n",
    "    marker.popup = message2\n",
    "\n",
    "display(m)"
   ]
  },
  {
   "cell_type": "markdown",
   "id": "26ff807f",
   "metadata": {},
   "source": [
    "## News feed\n",
    "\n",
    "21-02-2023: the malaria vector selection atlas was born!"
   ]
  }
 ],
 "metadata": {
  "celltoolbar": "Tags",
  "kernelspec": {
   "display_name": "Python 3 (ipykernel)",
   "language": "python",
   "name": "python3"
  },
  "language_info": {
   "codemirror_mode": {
    "name": "ipython",
    "version": 3
   },
   "file_extension": ".py",
   "mimetype": "text/x-python",
   "name": "python",
   "nbconvert_exporter": "python",
   "pygments_lexer": "ipython3",
   "version": "3.10.11"
  }
 },
 "nbformat": 4,
 "nbformat_minor": 5
}

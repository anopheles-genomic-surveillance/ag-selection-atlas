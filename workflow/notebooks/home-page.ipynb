{
 "cells": [
  {
   "cell_type": "markdown",
   "id": "f9360e53",
   "metadata": {},
   "source": [
    "# The malaria vector selection atlas\n",
    "\n",
    "Welcome to the malaria vector selection atlas. This site summarises selection signals found in the *Anopheles* 1000 genomes project. XXXX\n",
    "\n",
    "For more information on how to navigate the site, please visit the [tutorial](hyperlink) page. "
   ]
  },
  {
   "cell_type": "code",
   "execution_count": 1,
   "id": "eda27ace",
   "metadata": {},
   "outputs": [],
   "source": [
    "import pandas as pd\n",
    "from ipyleaflet import Map, Marker, basemaps, AwesomeIcon, Popup\n",
    "from ipywidgets import HTML\n",
    "from pyprojroot import here"
   ]
  },
  {
   "cell_type": "code",
   "execution_count": 2,
   "id": "b271bbe0",
   "metadata": {},
   "outputs": [],
   "source": [
    "# load cohorts to find sample query \n",
    "df_cohorts = pd.read_csv(here() / \"build\" / \"cohorts.csv\").set_index(\"cohort_id\")"
   ]
  },
  {
   "cell_type": "code",
   "execution_count": 3,
   "id": "872f4c22",
   "metadata": {},
   "outputs": [
    {
     "data": {
      "text/html": [
       "<div>\n",
       "<style scoped>\n",
       "    .dataframe tbody tr th:only-of-type {\n",
       "        vertical-align: middle;\n",
       "    }\n",
       "\n",
       "    .dataframe tbody tr th {\n",
       "        vertical-align: top;\n",
       "    }\n",
       "\n",
       "    .dataframe thead th {\n",
       "        text-align: right;\n",
       "    }\n",
       "</style>\n",
       "<table border=\"1\" class=\"dataframe\">\n",
       "  <thead>\n",
       "    <tr style=\"text-align: right;\">\n",
       "      <th></th>\n",
       "      <th>cohort_size</th>\n",
       "      <th>country</th>\n",
       "      <th>admin1_iso</th>\n",
       "      <th>admin1_name</th>\n",
       "      <th>admin2_name</th>\n",
       "      <th>taxon</th>\n",
       "      <th>year</th>\n",
       "      <th>quarter</th>\n",
       "      <th>cohort_label</th>\n",
       "      <th>sample_query</th>\n",
       "      <th>latitude</th>\n",
       "      <th>longitude</th>\n",
       "    </tr>\n",
       "    <tr>\n",
       "      <th>cohort_id</th>\n",
       "      <th></th>\n",
       "      <th></th>\n",
       "      <th></th>\n",
       "      <th></th>\n",
       "      <th></th>\n",
       "      <th></th>\n",
       "      <th></th>\n",
       "      <th></th>\n",
       "      <th></th>\n",
       "      <th></th>\n",
       "      <th></th>\n",
       "      <th></th>\n",
       "    </tr>\n",
       "  </thead>\n",
       "  <tbody>\n",
       "    <tr>\n",
       "      <th>BF-09_Houet_colu_2012_Q3</th>\n",
       "      <td>78</td>\n",
       "      <td>Burkina Faso</td>\n",
       "      <td>BF-09</td>\n",
       "      <td>Hauts-Bassins</td>\n",
       "      <td>Houet</td>\n",
       "      <td>coluzzii</td>\n",
       "      <td>2012</td>\n",
       "      <td>3</td>\n",
       "      <td>Burkina Faso / Houet / coluzzii / 2012 / Q3</td>\n",
       "      <td>cohort_admin2_quarter == 'BF-09_Houet_colu_201...</td>\n",
       "      <td>11.223768</td>\n",
       "      <td>-4.356390</td>\n",
       "    </tr>\n",
       "    <tr>\n",
       "      <th>BF-09_Houet_gamb_2012_Q3</th>\n",
       "      <td>73</td>\n",
       "      <td>Burkina Faso</td>\n",
       "      <td>BF-09</td>\n",
       "      <td>Hauts-Bassins</td>\n",
       "      <td>Houet</td>\n",
       "      <td>gambiae</td>\n",
       "      <td>2012</td>\n",
       "      <td>3</td>\n",
       "      <td>Burkina Faso / Houet / gambiae / 2012 / Q3</td>\n",
       "      <td>cohort_admin2_quarter == 'BF-09_Houet_gamb_201...</td>\n",
       "      <td>11.194657</td>\n",
       "      <td>-4.290061</td>\n",
       "    </tr>\n",
       "  </tbody>\n",
       "</table>\n",
       "</div>"
      ],
      "text/plain": [
       "                          cohort_size       country admin1_iso    admin1_name  \\\n",
       "cohort_id                                                                       \n",
       "BF-09_Houet_colu_2012_Q3           78  Burkina Faso      BF-09  Hauts-Bassins   \n",
       "BF-09_Houet_gamb_2012_Q3           73  Burkina Faso      BF-09  Hauts-Bassins   \n",
       "\n",
       "                         admin2_name     taxon  year  quarter  \\\n",
       "cohort_id                                                       \n",
       "BF-09_Houet_colu_2012_Q3       Houet  coluzzii  2012        3   \n",
       "BF-09_Houet_gamb_2012_Q3       Houet   gambiae  2012        3   \n",
       "\n",
       "                                                         cohort_label  \\\n",
       "cohort_id                                                               \n",
       "BF-09_Houet_colu_2012_Q3  Burkina Faso / Houet / coluzzii / 2012 / Q3   \n",
       "BF-09_Houet_gamb_2012_Q3   Burkina Faso / Houet / gambiae / 2012 / Q3   \n",
       "\n",
       "                                                               sample_query  \\\n",
       "cohort_id                                                                     \n",
       "BF-09_Houet_colu_2012_Q3  cohort_admin2_quarter == 'BF-09_Houet_colu_201...   \n",
       "BF-09_Houet_gamb_2012_Q3  cohort_admin2_quarter == 'BF-09_Houet_gamb_201...   \n",
       "\n",
       "                           latitude  longitude  \n",
       "cohort_id                                       \n",
       "BF-09_Houet_colu_2012_Q3  11.223768  -4.356390  \n",
       "BF-09_Houet_gamb_2012_Q3  11.194657  -4.290061  "
      ]
     },
     "execution_count": 3,
     "metadata": {},
     "output_type": "execute_result"
    }
   ],
   "source": [
    "df_cohorts"
   ]
  },
  {
   "cell_type": "code",
   "execution_count": null,
   "id": "65471a6d",
   "metadata": {},
   "outputs": [],
   "source": []
  },
  {
   "cell_type": "code",
   "execution_count": 4,
   "id": "d2286c43",
   "metadata": {
    "scrolled": false
   },
   "outputs": [
    {
     "data": {
      "application/vnd.jupyter.widget-view+json": {
       "model_id": "da09f40922524a138cb26e41c9228402",
       "version_major": 2,
       "version_minor": 0
      },
      "text/plain": [
       "Map(center=[-2, 20], controls=(ZoomControl(options=['position', 'zoom_in_text', 'zoom_in_title', 'zoom_out_tex…"
      ]
     },
     "metadata": {},
     "output_type": "display_data"
    }
   ],
   "source": [
    "center = (-2, 20)\n",
    "\n",
    "m = Map(center=center, zoom=4, basemap=basemaps.OpenTopoMap)\n",
    "\n",
    "for coh_id, row in df_cohorts.iterrows():\n",
    "    lat, long = row[['latitude', 'longitude']]\n",
    "    \n",
    "    if row['taxon'] == 'gambiae':\n",
    "        color= 'red'\n",
    "    elif row['taxon'] == 'coluzzii':\n",
    "        color='cadetblue'\n",
    "    elif row['taxon'] == 'arabiensis':\n",
    "        color='lightgreen'\n",
    "    else: \n",
    "        color='gray'\n",
    "    \n",
    "    \n",
    "    icon1 = AwesomeIcon(\n",
    "        name='bug',\n",
    "        marker_color=color,\n",
    "        icon_color='white',\n",
    "        spin=False\n",
    "    )\n",
    "    \n",
    "    marker = Marker(location=(lat, long), icon=icon1, draggable=True, opacity=0.7)\n",
    "    m.add_layer(marker);\n",
    "    \n",
    "    message2 = HTML()\n",
    "    message2.value = f'<a href=\"https://github.com/anopheles-genomic-surveillance/selection-atlas\">{coh_id}</a>'\n",
    "    marker.popup = message2\n",
    "\n",
    "display(m)"
   ]
  },
  {
   "cell_type": "markdown",
   "id": "b4408a49",
   "metadata": {},
   "source": [
    "### User Guide"
   ]
  },
  {
   "cell_type": "markdown",
   "id": "26ff807f",
   "metadata": {},
   "source": [
    "### News feed\n",
    "\n",
    "21-02-2023: the malaria vector selection atlas was born!"
   ]
  }
 ],
 "metadata": {
  "kernelspec": {
   "display_name": "Python 3 (ipykernel)",
   "language": "python",
   "name": "python3"
  },
  "language_info": {
   "codemirror_mode": {
    "name": "ipython",
    "version": 3
   },
   "file_extension": ".py",
   "mimetype": "text/x-python",
   "name": "python",
   "nbconvert_exporter": "python",
   "pygments_lexer": "ipython3",
   "version": "3.7.13"
  }
 },
 "nbformat": 4,
 "nbformat_minor": 5
}

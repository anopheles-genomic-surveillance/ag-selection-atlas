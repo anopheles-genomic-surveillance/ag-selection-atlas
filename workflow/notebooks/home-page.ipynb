{
 "cells": [
  {
   "cell_type": "code",
   "execution_count": null,
   "id": "944cabdc-4f36-4ab9-b4a0-9d0606b91ae7",
   "metadata": {
    "tags": [
     "parameters",
     "remove-input"
    ]
   },
   "outputs": [],
   "source": [
    "# Parameters from the workflow config.yaml.\n",
    "cohorts_analysis = \"20240924\"\n",
    "analysis_version = \"2025.02.07\"\n",
    "dask_scheduler = \"single-threaded\""
   ]
  },
  {
   "cell_type": "markdown",
   "id": "f9360e53",
   "metadata": {},
   "source": [
    "# The malaria vector selection atlas"
   ]
  },
  {
   "cell_type": "code",
   "execution_count": null,
   "id": "4d823aef-e233-4d39-b731-5f48093011fd",
   "metadata": {
    "tags": [
     "remove-input"
    ]
   },
   "outputs": [],
   "source": [
    "from pyprojroot import here\n",
    "\n",
    "root = here()\n",
    "%run -i {root}/workflow/notebooks/site-utils.py\n",
    "\n",
    "home_info = f\"\"\"\n",
    "    Welcome to the Malaria Vector Selection Atlas (build v{analysis_version}). This site \n",
    "    reports signals of recent selection found in natural populations of malaria vectors\n",
    "    in the *Anopheles gambiae* species complex.\n",
    "\"\"\"\n",
    "\n",
    "display(Markdown(home_info))"
   ]
  },
  {
   "cell_type": "code",
   "execution_count": null,
   "id": "d2286c43",
   "metadata": {
    "tags": [
     "remove-input"
    ]
   },
   "outputs": [],
   "source": [
    "center = (-2, 20)\n",
    "\n",
    "m = Map(center=center, zoom=3, basemap=basemaps.OpenTopoMap)\n",
    "\n",
    "for shapeID in gdf_cohorts.shapeID.unique():\n",
    "    df = gdf_cohorts.query(\"shapeID == @shapeID\")\n",
    "    html_text = \"<br>\".join(\n",
    "        [\n",
    "            f'<a href=\"cohort/{coh_id}.html\">{row.cohort_label} (n={row.cohort_size})</a>'\n",
    "            for coh_id, row in df.iterrows()\n",
    "        ]\n",
    "    )\n",
    "\n",
    "    lat, long = (\n",
    "        df[[\"representative_lat\", \"representative_lon\"]].drop_duplicates().values[0]\n",
    "    )\n",
    "\n",
    "    icon1 = AwesomeIcon(name=\"bug\", marker_color=\"gray\", icon_color=\"white\", spin=False)\n",
    "\n",
    "    marker = Marker(location=(lat, long), icon=icon1, draggable=False, opacity=0.7)\n",
    "    m.add_layer(marker)\n",
    "\n",
    "    message2 = HTML()\n",
    "    message2.value = html_text\n",
    "    marker.popup = message2\n",
    "\n",
    "display(m)"
   ]
  }
 ],
 "metadata": {
  "celltoolbar": "Tags",
  "kernelspec": {
   "display_name": "Python 3 (ipykernel)",
   "language": "python",
   "name": "python3"
  },
  "language_info": {
   "codemirror_mode": {
    "name": "ipython",
    "version": 3
   },
   "file_extension": ".py",
   "mimetype": "text/x-python",
   "name": "python",
   "nbconvert_exporter": "python",
   "pygments_lexer": "ipython3",
   "version": "3.10.11"
  }
 },
 "nbformat": 4,
 "nbformat_minor": 5
}

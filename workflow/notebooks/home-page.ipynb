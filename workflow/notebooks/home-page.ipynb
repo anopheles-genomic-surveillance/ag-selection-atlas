{
 "cells": [
  {
   "cell_type": "markdown",
   "id": "f9360e53",
   "metadata": {},
   "source": [
    "# The malaria vector selection atlas\n",
    "\n",
    "Welcome to the malaria vector selection atlas. This site summarises selection signals found in the *Anopheles* 1000 genomes project. XXXX\n",
    "\n",
    "For more information on how to navigate the site, please visit the [tutorial](hyperlink) page. "
   ]
  },
  {
   "cell_type": "code",
   "execution_count": null,
   "id": "eda27ace",
   "metadata": {
    "tags": [
     "remove-input"
    ]
   },
   "outputs": [],
   "source": [
    "import pandas as pd\n",
    "from ipyleaflet import Map, Marker, basemaps, AwesomeIcon, Popup\n",
    "from ipywidgets import HTML\n",
    "from pyprojroot import here\n",
    "import geopandas as gpd"
   ]
  },
  {
   "cell_type": "code",
   "execution_count": null,
   "id": "b271bbe0",
   "metadata": {
    "tags": [
     "remove-input"
    ]
   },
   "outputs": [],
   "source": [
    "# load cohorts to find sample query \n",
    "gdf_cohorts = gpd.read_file(here() / \"build\" / \"final_cohorts.geojson\")"
   ]
  },
  {
   "cell_type": "code",
   "execution_count": null,
   "id": "d2286c43",
   "metadata": {
    "scrolled": false,
    "tags": [
     "remove-input"
    ]
   },
   "outputs": [],
   "source": [
    "center = (-2, 20)\n",
    "\n",
    "m = Map(center=center, zoom=3.5, basemap=basemaps.OpenTopoMap)\n",
    "\n",
    "for coh_id, row in gdf_cohorts.iterrows():\n",
    "    lat, long = row[['latitude', 'longitude']]\n",
    "    \n",
    "    if row['taxon'] == 'gambiae':\n",
    "        color= 'red'\n",
    "    elif row['taxon'] == 'coluzzii':\n",
    "        color='cadetblue'\n",
    "    elif row['taxon'] == 'arabiensis':\n",
    "        color='lightgreen'\n",
    "    else: \n",
    "        color='gray'\n",
    "    \n",
    "    icon1 = AwesomeIcon(\n",
    "        name='bug',\n",
    "        marker_color=color,\n",
    "        icon_color='white',\n",
    "        spin=False\n",
    "    )\n",
    "    \n",
    "    marker = Marker(location=(lat, long), icon=icon1, draggable=True, opacity=0.7)\n",
    "    m.add_layer(marker);\n",
    "    \n",
    "    message2 = HTML()\n",
    "    message2.value = f'<a href=\"https://github.com/anopheles-genomic-surveillance/selection-atlas\">{coh_id}</a>'\n",
    "    marker.popup = message2\n",
    "\n",
    "display(m)"
   ]
  },
  {
   "cell_type": "markdown",
   "id": "b4408a49",
   "metadata": {},
   "source": [
    "### User Guide"
   ]
  },
  {
   "cell_type": "markdown",
   "id": "26ff807f",
   "metadata": {},
   "source": [
    "### News feed\n",
    "\n",
    "21-02-2023: the malaria vector selection atlas was born!"
   ]
  }
 ],
 "metadata": {
  "celltoolbar": "Tags",
  "kernelspec": {
   "display_name": "Python 3 (ipykernel)",
   "language": "python",
   "name": "python3"
  },
  "language_info": {
   "codemirror_mode": {
    "name": "ipython",
    "version": 3
   },
   "file_extension": ".py",
   "mimetype": "text/x-python",
   "name": "python",
   "nbconvert_exporter": "python",
   "pygments_lexer": "ipython3",
   "version": "3.7.12"
  }
 },
 "nbformat": 4,
 "nbformat_minor": 5
}

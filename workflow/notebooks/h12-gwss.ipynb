{
 "cells": [
  {
   "cell_type": "code",
   "execution_count": null,
   "id": "3abe056c",
   "metadata": {
    "tags": [
     "parameters"
    ]
   },
   "outputs": [],
   "source": [
    "# parameters\n",
    "cohort_id = 'AO-LUA_Luanda_colu_2009'"
   ]
  },
  {
   "cell_type": "code",
   "execution_count": null,
   "id": "df2f18c0",
   "metadata": {},
   "outputs": [],
   "source": [
    "import yaml\n",
    "import pandas as pd\n",
    "import malariagen_data\n",
    "from pyprojroot import here\n",
    "import numpy as np\n",
    "import os"
   ]
  },
  {
   "cell_type": "code",
   "execution_count": null,
   "id": "96d1d6ac",
   "metadata": {},
   "outputs": [],
   "source": [
    "ag3 = malariagen_data.Ag3(\n",
    "    # TODO in production build, remove use of simplecache if running inside google cloud\n",
    "    url=\"simplecache::gs://vo_agam_release\",\n",
    "    simplecache=dict(cache_storage=(here() / \"gcs_cache\").as_posix()),\n",
    "    results_cache=(here() / \"malariagen_data_cache\").as_posix(),\n",
    ")\n",
    "ag3"
   ]
  },
  {
   "cell_type": "code",
   "execution_count": null,
   "id": "a513350e",
   "metadata": {},
   "outputs": [],
   "source": [
    "# load parameters \n",
    "with open(here() / \"workflow\" / \"params.yaml\") as params_file:\n",
    "    params = yaml.safe_load(params_file)\n",
    "params"
   ]
  },
  {
   "cell_type": "code",
   "execution_count": null,
   "id": "4de3e8dd",
   "metadata": {},
   "outputs": [],
   "source": [
    "# load window sizes \n",
    "outdir = here() / \"build\" / \"h12-calibration\"\n",
    "with open(outdir / f\"{cohort_id}.yaml\") as yaml:\n",
    "    window_size_params = yaml.safe_load(params_file)"
   ]
  },
  {
   "cell_type": "code",
   "execution_count": null,
   "id": "53d5999d",
   "metadata": {},
   "outputs": [],
   "source": [
    "# load cohorts to find sample query \n",
    "df_cohorts = pd.read_csv(here() / \"workflow\" / \"cohorts.csv\").set_index(\"cohort_id\")\n",
    "cohort = df_cohorts.loc[cohort_id]\n",
    "cohort"
   ]
  },
  {
   "cell_type": "code",
   "execution_count": null,
   "id": "739344b6",
   "metadata": {},
   "outputs": [],
   "source": [
    "sample_query = df_cohorts.query(\"cohort_id in @cohort_id\").loc[:, 'sample_query'].to_list()[0]"
   ]
  },
  {
   "cell_type": "code",
   "execution_count": null,
   "id": "ec39fbce",
   "metadata": {},
   "outputs": [],
   "source": [
    "if cohort.taxon == 'arabiensis':\n",
    "    phasing_analysis = 'arab'\n",
    "else:\n",
    "    phasing_analysis = 'gamb_colu'\n",
    "phasing_analysis"
   ]
  },
  {
   "cell_type": "code",
   "execution_count": null,
   "id": "4f4fff2f",
   "metadata": {},
   "outputs": [],
   "source": [
    "if cohort.cohort_size > params['max_cohort_size']:\n",
    "    # downsampling for computational efficiency\n",
    "    cohort_size = params['max_cohort_size']\n",
    "else:\n",
    "    # no downsampling\n",
    "    cohort_size = None \n",
    "cohort_size"
   ]
  },
  {
   "cell_type": "code",
   "execution_count": null,
   "id": "394f5afb",
   "metadata": {},
   "outputs": [],
   "source": [
    "for contig in params['ag']['contigs']:\n",
    "    ag3.h12_gwss(contig=contig, sample_query=sample_query, analysis=phasing_analysis, window_size=window_size_params['h12_window_size'], cohort_size=params['max_cohort_size'])"
   ]
  }
 ],
 "metadata": {
  "kernelspec": {
   "display_name": "selection-atlas",
   "language": "python",
   "name": "selection-atlas"
  },
  "language_info": {
   "codemirror_mode": {
    "name": "ipython",
    "version": 3
   },
   "file_extension": ".py",
   "mimetype": "text/x-python",
   "name": "python",
   "nbconvert_exporter": "python",
   "pygments_lexer": "ipython3",
   "version": "3.7.13"
  }
 },
 "nbformat": 4,
 "nbformat_minor": 5
}

{
 "cells": [
  {
   "cell_type": "markdown",
   "id": "7b236ee1-7932-43a9-bb4f-078b2bd0e6b6",
   "metadata": {},
   "source": [
    "# H12 genome-wide selection scans"
   ]
  },
  {
   "cell_type": "code",
   "execution_count": null,
   "id": "3abe056c",
   "metadata": {
    "tags": [
     "parameters"
    ]
   },
   "outputs": [],
   "source": [
    "# Notebook parameters. Values here are for development only and\n",
    "# will be overridden when running via snakemake and papermill.\n",
    "cohort_id = \"BF-09_Houet_gamb_2012_Q3\"\n",
    "cohorts_analysis = \"20230223\"\n",
    "contigs = [\"3L\"]\n",
    "sample_sets = \"3.0\"\n",
    "min_cohort_size = 20\n",
    "max_cohort_size = 50\n",
    "dask_scheduler = \"threads\"\n",
    "analysis_version = \"dev\""
   ]
  },
  {
   "cell_type": "markdown",
   "id": "a4dc68dd-56d9-4b60-b168-641f6339a458",
   "metadata": {},
   "source": [
    "## Setup"
   ]
  },
  {
   "cell_type": "code",
   "execution_count": null,
   "id": "df2f18c0",
   "metadata": {
    "tags": []
   },
   "outputs": [],
   "source": [
    "import yaml\n",
    "import pandas as pd\n",
    "import malariagen_data\n",
    "from pyprojroot import here\n",
    "import dask\n",
    "\n",
    "dask.config.set(scheduler=dask_scheduler);"
   ]
  },
  {
   "cell_type": "code",
   "execution_count": null,
   "id": "a076d3f0-4e54-4041-9f03-d7be6eb2cf1a",
   "metadata": {
    "tags": []
   },
   "outputs": [],
   "source": [
    "sample_sets"
   ]
  },
  {
   "cell_type": "code",
   "execution_count": null,
   "id": "96d1d6ac",
   "metadata": {
    "tags": []
   },
   "outputs": [],
   "source": [
    "ag3 = malariagen_data.Ag3(\n",
    "    # pin the version of the cohorts analysis for reproducibility\n",
    "    cohorts_analysis=cohorts_analysis,\n",
    "    results_cache=(here() / \"results\" / \"malariagen_data_cache\").as_posix(),\n",
    ")\n",
    "ag3"
   ]
  },
  {
   "cell_type": "code",
   "execution_count": null,
   "id": "4de3e8dd",
   "metadata": {
    "tags": []
   },
   "outputs": [],
   "source": [
    "# load window sizes\n",
    "calibration_dir = f\"results/{analysis_version}/analysis/h12-calibration\"\n",
    "with open(here() / calibration_dir / f\"{cohort_id}.yaml\") as calibration_file:\n",
    "    calibration_params = yaml.safe_load(calibration_file)\n",
    "window_size = calibration_params[\"h12_window_size\"]\n",
    "window_size"
   ]
  },
  {
   "cell_type": "code",
   "execution_count": null,
   "id": "53d5999d",
   "metadata": {
    "tags": []
   },
   "outputs": [],
   "source": [
    "# load cohorts to find sample query\n",
    "df_cohorts = pd.read_csv(\n",
    "    here() / \"results\" / analysis_version / \"analysis\" / \"final_cohorts.csv\"\n",
    ").set_index(\"cohort_id\")\n",
    "cohort = df_cohorts.loc[cohort_id]\n",
    "cohort"
   ]
  },
  {
   "cell_type": "code",
   "execution_count": null,
   "id": "739344b6",
   "metadata": {
    "tags": []
   },
   "outputs": [],
   "source": [
    "sample_query = cohort.sample_query\n",
    "sample_query"
   ]
  },
  {
   "cell_type": "code",
   "execution_count": null,
   "id": "ec39fbce",
   "metadata": {
    "tags": []
   },
   "outputs": [],
   "source": [
    "if cohort.taxon == \"arabiensis\":\n",
    "    phasing_analysis = \"arab\"\n",
    "else:\n",
    "    phasing_analysis = \"gamb_colu\"\n",
    "phasing_analysis"
   ]
  },
  {
   "cell_type": "markdown",
   "id": "181c2a43-7e70-467e-85af-bd3113c24513",
   "metadata": {},
   "source": [
    "## Run GWSS"
   ]
  },
  {
   "cell_type": "code",
   "execution_count": null,
   "id": "394f5afb",
   "metadata": {
    "tags": []
   },
   "outputs": [],
   "source": [
    "for contig in contigs:\n",
    "    print(f\"running {contig}\")\n",
    "    ag3.plot_h12_gwss(\n",
    "        contig=contig,\n",
    "        window_size=window_size,\n",
    "        analysis=phasing_analysis,\n",
    "        sample_sets=sample_sets,\n",
    "        sample_query=sample_query,\n",
    "        min_cohort_size=min_cohort_size,\n",
    "        max_cohort_size=max_cohort_size,\n",
    "    )"
   ]
  },
  {
   "cell_type": "markdown",
   "id": "034515ca-3d70-4364-a8a4-5273d02c9dda",
   "metadata": {},
   "source": [
    "N.B., results of the selection scans will be automatically saved into the malariagen_data results cache."
   ]
  }
 ],
 "metadata": {
  "kernelspec": {
   "display_name": "selection-atlas",
   "language": "python",
   "name": "selection-atlas"
  },
  "language_info": {
   "codemirror_mode": {
    "name": "ipython",
    "version": 3
   },
   "file_extension": ".py",
   "mimetype": "text/x-python",
   "name": "python",
   "nbconvert_exporter": "python",
   "pygments_lexer": "ipython3",
   "version": "3.11.11"
  }
 },
 "nbformat": 4,
 "nbformat_minor": 5
}

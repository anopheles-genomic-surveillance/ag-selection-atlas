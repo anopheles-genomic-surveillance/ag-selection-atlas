{
 "cells": [
  {
   "cell_type": "code",
   "execution_count": null,
   "id": "34089839",
   "metadata": {
    "tags": [
     "parameters",
     "remove-input"
    ]
   },
   "outputs": [],
   "source": [
    "# Notebook parameters. Values here are for development only and \n",
    "# will be overridden when running via snakemake and papermill.\n",
    "contig = '3RL'\n",
    "cohorts_analysis = '20230223'\n",
    "use_gcs_cache = False\n",
    "dask_scheduler = \"threads\"\n",
    "analysis_version = \"dev\""
   ]
  },
  {
   "cell_type": "code",
   "execution_count": null,
   "id": "7df886de",
   "metadata": {
    "tags": [
     "remove-input",
     "parameters"
    ]
   },
   "outputs": [],
   "source": [
    "from IPython.display import Markdown\n",
    "import malariagen_data\n",
    "import pandas as pd\n",
    "import numpy as np\n",
    "from pyprojroot import here\n",
    "import geopandas as gpd\n",
    "\n",
    "import bokeh.layouts as bklay\n",
    "import bokeh.plotting as bkplt\n",
    "import bokeh.models as bkmod\n",
    "import dask\n",
    "dask.config.set(scheduler=dask_scheduler);\n",
    "\n",
    "from bokeh.io import output_notebook # enables plot interface in J notebook\n",
    "\n",
    "# N.B., do not add the \"remove-output\" tag to this cell!!! If you do,\n",
    "# the bokeh javascript libraries will not get loaded in the generated\n",
    "# HTML page. The call to output_notebook() injects javascript in the\n",
    "# cell output which triggers the bokeh javascript libraries to be loaded\n",
    "# in the page.\n",
    "output_notebook(hide_banner=True)"
   ]
  },
  {
   "cell_type": "markdown",
   "id": "658506c0",
   "metadata": {},
   "source": []
  },
  {
   "cell_type": "code",
   "execution_count": null,
   "id": "ec8862c7",
   "metadata": {
    "tags": [
     "remove-input"
    ]
   },
   "outputs": [],
   "source": [
    "Markdown(\n",
    "    f\"\"\"The plot below shows selection signals discovered in the major vector species *An. gambiae*, \n",
    "    *An. coluzzii* or *An. arabiensis*, all of which are members of the *Anopheles gambiae* species complex. \n",
    "    The reference genome used for these analyses is the AgamP4 PEST reference. Hover over a \n",
    "    signal for more information about the species, location, date and selection statistic in which the signal \n",
    "    was found. Click on a signal to see the underlying selection scan data.\"\"\")"
   ]
  },
  {
   "cell_type": "code",
   "execution_count": null,
   "id": "4890fc03-d12a-42ef-b282-b71d58481491",
   "metadata": {
    "tags": [
     "remove-input",
     "remove-output"
    ]
   },
   "outputs": [],
   "source": [
    "extra_params = dict()\n",
    "if use_gcs_cache:\n",
    "    extra_params[\"url\"] = \"simplecache::gs://vo_agam_release\"\n",
    "    extra_params[\"simplecache\"] = dict(cache_storage=(here() / \"gcs_cache\").as_posix())\n",
    "\n",
    "ag3 = malariagen_data.Ag3(\n",
    "    # pin the version of the cohorts analysis for reproducibility\n",
    "    cohorts_analysis=cohorts_analysis,\n",
    "    results_cache=(here() / \"build\" / \"malariagen_data_cache\").as_posix(),\n",
    "    **extra_params,\n",
    ")\n",
    "ag3"
   ]
  },
  {
   "cell_type": "code",
   "execution_count": null,
   "id": "94561c83-ed1b-4ffe-bdfe-7b77968e75e6",
   "metadata": {
    "tags": [
     "remove-input"
    ]
   },
   "outputs": [],
   "source": [
    "def load_signals(cohorts, contig):\n",
    "    df_signals = []\n",
    "    for _, row in cohorts.iterrows():\n",
    "        try:\n",
    "            df_signals.append(pd.read_csv(here() / \"build\" / analysis_version / \"h12-signal-detection\" / f\"{row['cohort_id']}_{contig}.csv\").assign(taxon=row['taxon']))\n",
    "        except pd.errors.EmptyDataError:\n",
    "            continue\n",
    "\n",
    "    df_signals = pd.concat(df_signals, axis=0).assign(statistic = \"H12\").sort_values('taxon')\n",
    "    color_dict = {'gambiae': '#BEC4FF',\n",
    "                 'coluzzii': '#D7B2A6',\n",
    "                 'arabiensis': '#A6D7CA'}\n",
    "\n",
    "    df_signals['color'] = df_signals['taxon'].map(color_dict).fillna('lightgrey')\n",
    "\n",
    "    return df_signals\n",
    "\n",
    "cohorts = gpd.read_file(here() / \"build\" / analysis_version / \"final_cohorts.geojson\")\n",
    "df_signals = load_signals(cohorts=cohorts, contig=contig)"
   ]
  },
  {
   "cell_type": "code",
   "execution_count": null,
   "id": "1ca60aae-f5da-4818-af86-e663ee9cf48a",
   "metadata": {
    "tags": [
     "remove-input"
    ]
   },
   "outputs": [],
   "source": [
    "def stack_overlaps(df, start_col, end_col, tolerance=10000):\n",
    "    import numpy as np\n",
    "    occupants = [None]\n",
    "    out = []\n",
    "    for _, cur in df.iterrows():\n",
    "\n",
    "        level = 0\n",
    "        prv = occupants[level]\n",
    "        # search upwards to find the first vacant level\n",
    "        while prv is not None and cur[start_col] <= (prv[end_col] + tolerance):\n",
    "            level += 1\n",
    "            if level == len(occupants):\n",
    "                occupants.append(None)\n",
    "            prv = occupants[level]\n",
    "        occupants[level] = cur\n",
    "        out.append(level)\n",
    "    return np.asarray(out)\n",
    "\n",
    "def plot_chromosome_summary(df):\n",
    "\n",
    "    # set up triangle shapes for bokeh patches glyphs\n",
    "    left_xs = [np.array([row.span2_pstart, row.focus_pstart, row.focus_pstart]) for idx, row in df.iterrows()]\n",
    "    left_ys = [np.array([row.level + .1, row.level, row.level + .2])  for idx, row in df.iterrows()]\n",
    "\n",
    "    right_xs = [np.array([row.focus_pstop, row.focus_pstop, row.span2_pstop])  for idx, row in df.iterrows()]\n",
    "    right_ys = [np.array([row.level, row.level + .2, row.level + .1]) for idx, row in df.iterrows()]\n",
    "\n",
    "    center_xs = [np.array([row.pcenter, row.pcenter]) for idx, row in df.iterrows()]\n",
    "    center_ys = [np.array([row.level, row.level + .2]) for idx, row in df.iterrows()]\n",
    "\n",
    "    source = bkmod.ColumnDataSource(data={\n",
    "        'cohort': df.cohort_id,\n",
    "        'taxon': df.taxon,\n",
    "        'statistic': df.statistic,\n",
    "        'chromosome': df.contig,\n",
    "        'score': df.delta_i.astype(int),\n",
    "        'peak_start': df.span2_pstart,\n",
    "        'peak_stop': df.span2_pstop,\n",
    "        'focus_start': df.focus_pstart,\n",
    "        'focus_stop': df.focus_pstop,    \n",
    "        'left_xs':left_xs,\n",
    "        'left_ys':left_ys,\n",
    "        'right_xs':right_xs,\n",
    "        'right_ys':right_ys,\n",
    "        'center_xs': center_xs,\n",
    "        'center_ys': center_ys,\n",
    "        'bottom': df.level,\n",
    "        'mid': df.level + .5,\n",
    "        'top': df.level + .2,\n",
    "        'taxon_color':df.color\n",
    "    })\n",
    "\n",
    "    hover = bkmod.HoverTool(tooltips=[\n",
    "            (\"Cohort\", '@cohort'),\n",
    "            (\"Statistic\", '@statistic'),\n",
    "            (\"Score\", '@score'),\n",
    "            (\"Focus\", \"@focus_start{,} - @focus_stop{,}\"),\n",
    "        ])\n",
    "\n",
    "    xwheel_zoom = bkmod.WheelZoomTool(\n",
    "        dimensions=\"width\", maintain_focus=False\n",
    "    )\n",
    "\n",
    "    # make figure \n",
    "    fig1 = bkplt.figure(title='Selection signals',\n",
    "                      width=900, \n",
    "                      height=200 + (10 * max(df.level)), \n",
    "                      tools=[\"tap\" ,\"xpan\", \"xzoom_in\", \"xzoom_out\",\"reset\", xwheel_zoom, hover],\n",
    "                      toolbar_location='above', \n",
    "                      active_drag='xpan', \n",
    "                      x_range = bkmod.Range1d(0, ag3.genome_sequence(contig).shape[0], bounds='auto'),\n",
    "                      y_range = bkmod.Range1d(-0.5, max(df.level) + 1.3, bounds='auto'),\n",
    "                      active_scroll=xwheel_zoom,\n",
    "                      active_tap='tap'\n",
    "                    )\n",
    "\n",
    "    fig1.patches(xs='left_xs', ys='left_ys', source=source, color=\"taxon_color\", alpha=.7, line_width=2, legend_field='taxon')\n",
    "    fig1.patches(xs='right_xs', ys='right_ys', source=source, color=\"taxon_color\", alpha=.7, line_width=2, legend_field='taxon')\n",
    "\n",
    "    fig1.quad(bottom='bottom', top='top', left='focus_start', right='focus_stop', \n",
    "              source=source, color=\"red\", alpha=.5, line_width=2)\n",
    "\n",
    "    glyph = bkmod.MultiLine(xs='center_xs', ys='center_ys', line_color='red', line_width=2, line_alpha=0.8)\n",
    "    fig1.add_glyph(source, glyph)\n",
    "\n",
    "    # tidy up the plot \n",
    "    fig1.x_range.max_interval = ag3.genome_sequence(contig).shape[0]\n",
    "    fig1.yaxis.visible = False\n",
    "    fig1.xaxis.visible = False\n",
    "    fig1.ygrid.visible = False\n",
    "    fig1.legend.background_fill_alpha = 0.2\n",
    "\n",
    "    url = '../cohort/@cohort.html'\n",
    "    taptool = fig1.select(type=bkmod.TapTool)\n",
    "    taptool.callback = bkmod.OpenURL(url=url)\n",
    "        \n",
    "    fig2 = ag3.plot_genes(\n",
    "        region=contig, \n",
    "        sizing_mode=\"stretch_width\",\n",
    "        x_range=fig1.x_range,\n",
    "        show=False)\n",
    "\n",
    "    fig = bklay.gridplot(\n",
    "        [fig1, fig2],\n",
    "        ncols=1,\n",
    "        toolbar_location=\"above\",\n",
    "        merge_tools=True,\n",
    "        sizing_mode=\"stretch_width\",\n",
    "    ) \n",
    "\n",
    "\n",
    "    bkplt.show(fig)\n",
    "    \n",
    "df_signals = df_signals.sort_values(by='span2_pstart')\n",
    "df_signals['level'] = stack_overlaps(df_signals, 'span2_pstart', 'span2_pstop')\n",
    "\n",
    "plot_chromosome_summary(df=df_signals.reset_index())"
   ]
  },
  {
   "cell_type": "code",
   "execution_count": null,
   "id": "ab3328ac",
   "metadata": {
    "tags": [
     "remove-input"
    ]
   },
   "outputs": [],
   "source": [
    "df_signals = df_signals.merge(cohorts)[['contig', 'focus_pstart', 'focus_pstop', 'cohort_id', 'cohort_label', 'statistic', 'delta_i']]\n",
    "df_signals = df_signals.assign(focal_region=\n",
    "                               df_signals['contig'] + ' ( ' + \n",
    "                               df_signals['focus_pstart'].apply(lambda x: \"{:,}\".format(x, axis=1)) + ' - ' +\n",
    "                               df_signals['focus_pstop'].apply(lambda x: \"{:,}\".format(x, axis=1)) + \" )\")\n",
    "\n",
    "def make_clickable(url, name):\n",
    "    return '<a href=\"{}\" rel=\"noopener noreferrer\" target=\"_blank\">{}</a>'.format(url,name)\n",
    "\n",
    "df_signals['url'] = \"../cohort/\" + df_signals['cohort_id'] + \".html\"\n",
    "df_signals['cohort_label'] = df_signals.apply(lambda x: make_clickable(x['url'], x['cohort_label']), axis=1)\n",
    "df_signals[['focal_region', 'cohort_label', 'statistic', 'delta_i']].rename(columns={'focal_region': 'focal region', 'cohort_label':'cohort label', 'delta_i':'delta i'}).style"
   ]
  },
  {
   "cell_type": "code",
   "execution_count": null,
   "id": "f4bc5a2e-581f-4f13-94ee-edea0fc29f79",
   "metadata": {},
   "outputs": [],
   "source": []
  }
 ],
 "metadata": {
  "celltoolbar": "Tags",
  "kernelspec": {
   "display_name": "selection-atlas",
   "language": "python",
   "name": "selection-atlas"
  },
  "language_info": {
   "codemirror_mode": {
    "name": "ipython",
    "version": 3
   },
   "file_extension": ".py",
   "mimetype": "text/x-python",
   "name": "python",
   "nbconvert_exporter": "python",
   "pygments_lexer": "ipython3",
   "version": "3.11.11"
  }
 },
 "nbformat": 4,
 "nbformat_minor": 5
}

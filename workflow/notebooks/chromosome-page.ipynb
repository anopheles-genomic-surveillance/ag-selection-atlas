{
 "cells": [
  {
   "cell_type": "code",
   "execution_count": null,
   "id": "34089839",
   "metadata": {
    "tags": [
     "parameters",
     "remove-input"
    ]
   },
   "outputs": [],
   "source": [
    "contig = '2L'\n",
    "cohorts_analysis = '20230223'\n",
    "use_gcs_cache = False"
   ]
  },
  {
   "cell_type": "code",
   "execution_count": null,
   "id": "7df886de",
   "metadata": {
    "tags": [
     "remove-input",
     "parameters"
    ]
   },
   "outputs": [],
   "source": [
    "from IPython.display import Markdown\n",
    "import malariagen_data\n",
    "import pandas as pd\n",
    "from pyprojroot import here\n",
    "import geopandas as gpd\n",
    "\n",
    "import bokeh.layouts as bklay\n",
    "import bokeh.plotting as bkplt\n",
    "import bokeh.models as bkmod"
   ]
  },
  {
   "cell_type": "markdown",
   "id": "658506c0",
   "metadata": {},
   "source": []
  },
  {
   "cell_type": "code",
   "execution_count": null,
   "id": "ec8862c7",
   "metadata": {
    "tags": [
     "remove-input"
    ]
   },
   "outputs": [],
   "source": [
    "Markdown(\n",
    "    f\"\"\"The plot below shows selection signals discovered in the major vector species *An. gambiae*, \n",
    "    *An. coluzzii* or *An. arabiensis*, all of which are members of the *Anopheles gambiae* species complex. \n",
    "    The reference genome used for these analyses is AgamP4, from the {contig} chromosome. Hover over a \n",
    "    signal for more information about the species, location, date and selection statistic in which the signal \n",
    "    was found. Click on a signal to see the underlying selection scan data.\"\"\")"
   ]
  },
  {
   "cell_type": "code",
   "execution_count": null,
   "id": "4890fc03-d12a-42ef-b282-b71d58481491",
   "metadata": {
    "tags": [
     "remove-input",
     "remove-output"
    ]
   },
   "outputs": [],
   "source": [
    "extra_params = dict()\n",
    "if use_gcs_cache:\n",
    "    extra_params[\"url\"] = \"simplecache::gs://vo_agam_release\"\n",
    "    extra_params[\"simplecache\"] = dict(cache_storage=(here() / \"gcs_cache\").as_posix())\n",
    "\n",
    "ag3 = malariagen_data.Ag3(\n",
    "    # pin the version of the cohorts analysis for reproducibility\n",
    "    cohorts_analysis=cohorts_analysis,\n",
    "    results_cache=(here() / \"malariagen_data_cache\").as_posix(),\n",
    "    **extra_params,\n",
    ")\n",
    "ag3"
   ]
  },
  {
   "cell_type": "code",
   "execution_count": null,
   "id": "94561c83-ed1b-4ffe-bdfe-7b77968e75e6",
   "metadata": {
    "tags": [
     "remove-input"
    ]
   },
   "outputs": [],
   "source": [
    "cohorts = gpd.read_file(here() / \"build\" / \"final_cohorts.geojson\")\n",
    "\n",
    "df_signals = [\n",
    "    pd.read_csv(here() / \"build/h12-signal-detection/\" / f\"{row['cohort_id']}_{contig}.csv\").assign(taxon=row['taxon'])\n",
    "    for _, row in cohorts.iterrows()\n",
    "]\n",
    "df_signals = pd.concat(df_signals, axis=0).assign(statistic = \"H12\").sort_values('taxon')\n",
    "color_dict = {'gambiae': '#BEC4FF',\n",
    "             'coluzzii': '#D7B2A6',\n",
    "             'arabiensis': '#A6D7CA'}\n",
    "\n",
    "df_signals['color'] = df_signals['taxon'].map(color_dict)"
   ]
  },
  {
   "cell_type": "code",
   "execution_count": null,
   "id": "fb58500d",
   "metadata": {
    "tags": [
     "remove-input"
    ]
   },
   "outputs": [],
   "source": [
    "def stack_overlaps(df, start_col, end_col, tolerance=10000):\n",
    "    import numpy as np\n",
    "    occupants = [None]\n",
    "    out = []\n",
    "    for _, cur in df.iterrows():\n",
    "\n",
    "        level = 0\n",
    "        prv = occupants[level]\n",
    "        # search upwards to find the first vacant level\n",
    "        while prv is not None and cur[start_col] <= (prv[end_col] + tolerance):\n",
    "            level += 1\n",
    "            if level == len(occupants):\n",
    "                occupants.append(None)\n",
    "            prv = occupants[level]\n",
    "        occupants[level] = cur\n",
    "        out.append(level)\n",
    "    return np.asarray(out)\n",
    "\n",
    "df_signals = df_signals.sort_values(by='span2_pstart')\n",
    "df_signals['level'] = stack_overlaps(df_signals, 'span2_pstart', 'span2_pstop')"
   ]
  },
  {
   "cell_type": "code",
   "execution_count": null,
   "id": "b99bfaa6",
   "metadata": {
    "tags": [
     "remove-input"
    ]
   },
   "outputs": [],
   "source": [
    "df = df_signals.reset_index()\n",
    "source = bkmod.ColumnDataSource(data={\n",
    "    'cohort': df.cohort_id,\n",
    "    'statistic': df.statistic,\n",
    "    'chromosome': df.contig,\n",
    "    'score': df.delta_i.astype(int),\n",
    "    'peak_start': df.span2_pstart,\n",
    "    'peak_stop': df.span2_pstop,\n",
    "    'focus_start': df.focus_pstart,\n",
    "    'focus_stop': df.focus_pstop,    \n",
    "    'bottom': df.level,\n",
    "    'top': df.level + .8,\n",
    "    'color':df.color\n",
    "})\n",
    "\n",
    "hover = bkmod.HoverTool(tooltips=[\n",
    "        (\"Cohort\", '@cohort'),\n",
    "        (\"Statistic\", '@statistic'),\n",
    "        (\"Score\", '@score'),\n",
    "        (\"Focus\", \"@focus_start{,} - @focus_stop{,}\"),\n",
    "    ])\n",
    "\n",
    "# make figure \n",
    "fig1 = bkplt.figure(title='Selection signals',\n",
    "                  plot_width=900, plot_height=200 + (10 * max(df.level)), \n",
    "                  tools=\"tap,xpan,xzoom_in,xzoom_out,xwheel_zoom,reset\".split() + [hover],\n",
    "                  toolbar_location='above', active_drag='xpan', active_scroll='xwheel_zoom')\n",
    "\n",
    "fig1.quad(bottom='bottom', top='top', left='peak_start', right='focus_start', \n",
    "          source=source, color=\"color\", alpha=.7, line_width=2)\n",
    "\n",
    "fig1.quad(bottom='bottom', top='top', left='focus_start', right='focus_stop', \n",
    "          source=source, color=\"red\", alpha=.7, line_width=2)\n",
    "\n",
    "fig1.quad(bottom='bottom', top='top', left='focus_stop', right='peak_stop', \n",
    "          source=source, color=\"color\", alpha=.7, line_width=2)\n",
    "\n",
    "fig1.x_range = bkmod.Range1d(0, ag3.genome_sequence(contig).shape[0])\n",
    "fig1.y_range = bkmod.Range1d(-0.5, max(df.level) + 1.3)\n",
    "fig1.x_range.max_interval = ag3.genome_sequence(contig).shape[0]\n",
    "fig1.yaxis.visible = False\n",
    "fig1.xaxis.visible = False\n",
    "fig1.ygrid.visible = False\n",
    "\n",
    "url = '../cohort/@cohort.html'\n",
    "taptool = fig1.select(type=bkmod.TapTool)\n",
    "taptool.callback = bkmod.OpenURL(url=url)\n",
    "\n",
    "fig2 = ag3.plot_genes(\n",
    "    region=contig, \n",
    "    sizing_mode=\"stretch_width\",\n",
    "    x_range=fig1.x_range,\n",
    "    show=False)\n",
    "\n",
    "fig = bklay.gridplot(\n",
    "    [fig1, fig2],\n",
    "    ncols=1,\n",
    "    toolbar_location=\"above\",\n",
    "    merge_tools=True,\n",
    "    sizing_mode=\"stretch_width\",\n",
    ") \n",
    "\n",
    "bkplt.show(fig)"
   ]
  },
  {
   "cell_type": "code",
   "execution_count": null,
   "id": "ab3328ac",
   "metadata": {
    "tags": [
     "remove-input"
    ]
   },
   "outputs": [],
   "source": [
    "df_signals = df_signals.merge(cohorts)[['contig', 'focus_pstart', 'focus_pstop', 'cohort_label', 'statistic', 'delta_i']]\n",
    "df_signals = df_signals.assign(focal_region=\n",
    "                               df_signals['contig'] + ' ( ' + \n",
    "                               df_signals['focus_pstart'].apply(lambda x: \"{:,}\".format(x, axis=1)) + ' - ' +\n",
    "                               df_signals['focus_pstop'].apply(lambda x: \"{:,}\".format(x, axis=1)) + \" )\")\n",
    "df_signals[['focal_region', 'cohort_label', 'statistic', 'delta_i']]"
   ]
  },
  {
   "cell_type": "code",
   "execution_count": null,
   "id": "c4a05e12",
   "metadata": {},
   "outputs": [],
   "source": []
  }
 ],
 "metadata": {
  "celltoolbar": "Tags",
  "kernelspec": {
   "display_name": "Python 3 (ipykernel)",
   "language": "python",
   "name": "python3"
  },
  "language_info": {
   "codemirror_mode": {
    "name": "ipython",
    "version": 3
   },
   "file_extension": ".py",
   "mimetype": "text/x-python",
   "name": "python",
   "nbconvert_exporter": "python",
   "pygments_lexer": "ipython3",
   "version": "3.10.11"
  }
 },
 "nbformat": 4,
 "nbformat_minor": 5
}

{
 "cells": [
  {
   "cell_type": "code",
   "execution_count": null,
   "id": "76d2e44c",
   "metadata": {
    "tags": [
     "parameters",
     "remove-input"
    ]
   },
   "outputs": [],
   "source": [
    "# Notebook parameters. Values here are for development only and \n",
    "# will be overridden when running via snakemake and papermill.\n",
    "cohort_id = 'ML-2_Kati_colu_2014_Q3'\n",
    "cohorts_analysis = \"20230223\"\n",
    "contigs = ['3L']\n",
    "sample_sets = \"3.0\"\n",
    "min_cohort_size = 20\n",
    "max_cohort_size = 50\n",
    "h12_calibration_contig = '3L'\n",
    "use_gcs_cache = False\n",
    "dask_scheduler = \"threads\""
   ]
  },
  {
   "cell_type": "code",
   "execution_count": null,
   "id": "ead60adb",
   "metadata": {
    "tags": [
     "remove-input"
    ]
   },
   "outputs": [],
   "source": [
    "from IPython.display import Markdown, HTML\n",
    "import malariagen_data\n",
    "import numpy as np\n",
    "import pandas as pd\n",
    "from pyprojroot import here\n",
    "import yaml\n",
    "import dask\n",
    "dask.config.set(scheduler=dask_scheduler);\n",
    "from textwrap import dedent\n",
    "\n",
    "import geopandas as gpd\n",
    "import bokeh.layouts as bklay\n",
    "import bokeh.plotting as bkplt\n",
    "import bokeh.models as bkmod\n",
    "import plotly.express as px\n",
    "\n",
    "from bokeh.io import output_notebook # enables plot interface in J notebook\n",
    "\n",
    "# N.B., do not add the \"remove-output\" tag to this cell!!! If you do,\n",
    "# the bokeh javascript libraries will not get loaded in the generated\n",
    "# HTML page. The call to output_notebook() injects javascript in the\n",
    "# cell output which triggers the bokeh javascript libraries to be loaded\n",
    "# in the page.\n",
    "output_notebook(hide_banner=True)"
   ]
  },
  {
   "cell_type": "markdown",
   "id": "3a98f014",
   "metadata": {},
   "source": []
  },
  {
   "cell_type": "code",
   "execution_count": null,
   "id": "80879436",
   "metadata": {
    "tags": [
     "remove-input",
     "remove-output"
    ]
   },
   "outputs": [],
   "source": [
    "# Load cohorts to find sample query to select samples for this cohort.\n",
    "\n",
    "df_cohorts = gpd.read_file(here() / \"build\" / \"final_cohorts.geojson\").set_index(\"cohort_id\")\n",
    "cohort = df_cohorts.loc[cohort_id]\n",
    "cohort"
   ]
  },
  {
   "cell_type": "code",
   "execution_count": null,
   "id": "9ba3b9c2-1770-40d6-abdc-1bec128ba253",
   "metadata": {
    "tags": [
     "remove-input",
     "remove-output"
    ]
   },
   "outputs": [],
   "source": [
    "# Initialise access to MalariaGEN data.\n",
    "\n",
    "extra_params = dict()\n",
    "if use_gcs_cache:\n",
    "    extra_params[\"url\"] = \"simplecache::gs://vo_agam_release\"\n",
    "    extra_params[\"simplecache\"] = dict(cache_storage=(here() / \"gcs_cache\").as_posix())\n",
    "\n",
    "ag3 = malariagen_data.Ag3(\n",
    "    # Pin the version of the cohorts analysis for reproducibility.\n",
    "    cohorts_analysis=cohorts_analysis,\n",
    "    results_cache=(here() / \"malariagen_data_cache\").as_posix(),\n",
    "    **extra_params,\n",
    ")\n",
    "ag3"
   ]
  },
  {
   "cell_type": "code",
   "execution_count": null,
   "id": "4f6eba43-18e2-4185-95f1-c745d6092559",
   "metadata": {
    "tags": [
     "remove-input",
     "remove-output"
    ]
   },
   "outputs": [],
   "source": [
    "# Load sample metadata for this cohort.\n",
    "\n",
    "df_samples = ag3.sample_metadata(sample_query=cohort['sample_query'])\n",
    "df_samples"
   ]
  },
  {
   "cell_type": "code",
   "execution_count": null,
   "id": "6f5e51ed",
   "metadata": {
    "tags": [
     "remove-input",
     "remove-output"
    ]
   },
   "outputs": [],
   "source": [
    "# Determine collection dates.\n",
    "\n",
    "df_collection_dates = (\n",
    "    df_samples\n",
    "    .groupby([\"year\", \"month\"])\n",
    "    .size()\n",
    "    .reset_index()\n",
    "    .rename(columns={0: 'count'})\n",
    ")\n",
    "df_collection_dates"
   ]
  },
  {
   "cell_type": "code",
   "execution_count": null,
   "id": "391e6e57",
   "metadata": {
    "tags": [
     "remove-input",
     "remove-output"
    ]
   },
   "outputs": [],
   "source": [
    "# Determine first and last collection months.\n",
    "\n",
    "min_month = df_collection_dates[\"month\"].min()\n",
    "max_month = df_collection_dates[\"month\"].max()\n",
    "\n",
    "if min_month < 0:\n",
    "    start_month = end_month = None\n",
    "else:\n",
    "    start_month = pd.to_datetime(min_month, format=\"%m\").month_name()\n",
    "    end_month = pd.to_datetime(max_month, format=\"%m\").month_name()\n",
    "    \n",
    "start_month, end_month"
   ]
  },
  {
   "cell_type": "code",
   "execution_count": null,
   "id": "92155ecb",
   "metadata": {
    "tags": [
     "remove-input",
     "remove-output"
    ]
   },
   "outputs": [],
   "source": [
    "# Determine unique collection locations.\n",
    "\n",
    "df_locations = df_samples[[\"location\", \"longitude\", \"latitude\"]].drop_duplicates()\n",
    "df_locations"
   ]
  },
  {
   "cell_type": "code",
   "execution_count": null,
   "id": "b71db202",
   "metadata": {
    "tags": [
     "remove-input",
     "remove-output"
    ]
   },
   "outputs": [],
   "source": [
    "# Extract provenance information about the samples.\n",
    "\n",
    "df_contributors = df_samples[[\"release\", \"sample_set\", \"contributor\"]].drop_duplicates()\n",
    "df_contributors[\"study\"] = df_contributors.apply(\n",
    "    lambda v: \"Ag1000G\" if v[\"sample_set\"].startswith(\"AG1000G\") else \"TODO\",\n",
    "    axis=\"columns\"\n",
    ")\n",
    "df_contributors[\"release\"] = df_contributors[\"release\"].apply(\n",
    "    lambda v: f\"Ag{v}\"\n",
    ")\n",
    "df_contributors.rename(columns={\n",
    "    \"contributor\": \"Contributor\",\n",
    "    \"study\": \"Study\",\n",
    "    \"release\": \"Data release\",\n",
    "    \"sample_set\": \"Sample set\",\n",
    "}, inplace=True)\n",
    "df_contributors.set_index([\"Contributor\", \"Study\", \"Data release\"], inplace=True)\n",
    "df_contributors"
   ]
  },
  {
   "cell_type": "code",
   "execution_count": null,
   "id": "3baa1f0d",
   "metadata": {
    "tags": [
     "remove-input"
    ]
   },
   "outputs": [],
   "source": [
    "# Build a paragraph with summary information about the samples in this cohort.\n",
    "\n",
    "n_locations = len(df_locations)\n",
    "\n",
    "summary_info = f\"\"\"This cohort comprises {cohort['cohort_size']:,} samples from the \n",
    "*{cohort['taxon']}* taxon, collected from {n_locations} locations within the administrative \n",
    "division of {cohort['admin2_name']}, {cohort['admin1_name']}, {cohort['country']}.\"\"\"\n",
    "\n",
    "if start_month and start_month == end_month:\n",
    "    summary_info += f\"\"\" Collections were made in {start_month} {cohort['year']}.\"\"\"\n",
    "elif start_month:\n",
    "    summary_info += f\"\"\" Collections were made between {start_month} and {end_month} in {cohort['year']}.\"\"\"\n",
    "else:\n",
    "    summary_info += f\"\"\" Collections were made in {cohort['year']}.\"\"\"\n",
    "    \n",
    "display(Markdown(summary_info))\n"
   ]
  },
  {
   "cell_type": "markdown",
   "id": "3ff2d7fb",
   "metadata": {},
   "source": [
    "## Selection scans"
   ]
  },
  {
   "cell_type": "code",
   "execution_count": null,
   "id": "7b10b224",
   "metadata": {},
   "outputs": [],
   "source": [
    "# load signals to overlay on H12 plots\n",
    "\n",
    "df_signals = [\n",
    "    pd.read_csv(here() / \"build/h12-signal-detection/\" / f\"{cohort_id}_{contig}.csv\")\n",
    "    for contig in contigs\n",
    "]\n",
    "df_signals = pd.concat(df_signals).assign(bottom=0, top=1)"
   ]
  },
  {
   "cell_type": "code",
   "execution_count": null,
   "id": "212846ca",
   "metadata": {
    "tags": [
     "remove-input"
    ]
   },
   "outputs": [],
   "source": [
    "# load window sizes \n",
    "h12_calibration_dir = \"build/h12-calibration\"\n",
    "with open(here() / h12_calibration_dir / f\"{cohort_id}.yaml\") as h12_calibration_file:\n",
    "    h12_calibration_params = yaml.safe_load(h12_calibration_file)\n",
    "h12_window_size = h12_calibration_params[\"h12_window_size\"]\n",
    "g123_calibration_dir = \"build/g123-calibration\"\n",
    "with open(here() / g123_calibration_dir / f\"{cohort_id}.yaml\") as g123_calibration_file:\n",
    "    g123_calibration_params = yaml.safe_load(g123_calibration_file)\n",
    "g123_window_size = g123_calibration_params[\"g123_window_size\"]\n",
    "\n",
    "if cohort.taxon == 'arabiensis':\n",
    "    phasing_analysis = 'arab'\n",
    "else:\n",
    "    phasing_analysis = 'gamb_colu'\n",
    "\n",
    "ihs_window_size = 100\n",
    "\n",
    "def plot_h12_g123_ihs_tracks(\n",
    "        contig, \n",
    "        df_signals,\n",
    "        sizing_mode='stretch_width', \n",
    "        show=False, \n",
    "        width=800, \n",
    "        genes_height=100\n",
    "    ):\n",
    "\n",
    "    sample_query = cohort[\"sample_query\"]\n",
    "    df = df_signals.query(\"contig == @contig\")\n",
    "    \n",
    "    center_xs = [np.array([row.pcenter, row.pcenter]) for idx, row in df.iterrows()]\n",
    "    center_ys = [np.array([row.level, row.level + .2]) for idx, row in df.iterrows()]\n",
    "\n",
    "    source = bkmod.ColumnDataSource(data={\n",
    "        'cohort': df.cohort_id,\n",
    "        'chromosome': df.contig,\n",
    "        'score': df.delta_i.astype(int),\n",
    "        'peak_start': df.span2_pstart,\n",
    "        'peak_stop': df.span2_pstop,\n",
    "        'focus_start': df.focus_pstart,\n",
    "        'focus_stop': df.focus_pstop,    \n",
    "        'center_xs': center_xs,\n",
    "        'center_ys': center_ys,\n",
    "        'bottom': df.bottom ,\n",
    "        'top': df.top,\n",
    "        })\n",
    "    \n",
    "    fig1 = ag3.plot_h12_gwss_track(\n",
    "        contig=contig, \n",
    "        window_size=h12_window_size, \n",
    "        analysis=phasing_analysis, \n",
    "        sample_sets=sample_sets,\n",
    "        sample_query=sample_query, \n",
    "        min_cohort_size=min_cohort_size,\n",
    "        max_cohort_size=max_cohort_size,\n",
    "        sizing_mode=sizing_mode,\n",
    "        show=show,\n",
    "        width=width,\n",
    "    )\n",
    "    fig1.xaxis.visible = False\n",
    "    \n",
    "    quad = fig1.quad(bottom='bottom', top='top', left='peak_start', right='peak_stop', \n",
    "          source=source, color=\"gray\", alpha=.1, line_width=1)\n",
    "    quad2 = fig1.quad(bottom='bottom', top='top', left='focus_start', right='focus_stop', \n",
    "          source=source, color=\"red\", alpha=.4)\n",
    "    glyph = bkmod.MultiLine(xs='center_xs', ys='center_ys', line_color='red', line_width=2)\n",
    "    fig1.add_glyph(source=source, glyph=glyph)\n",
    "    \n",
    "    hover = bkmod.HoverTool(tooltips=[\n",
    "        (\"Cohort\", '@cohort'),\n",
    "        (\"Score\", '@score'),\n",
    "        (\"Focus\", \"@focus_start{,} - @focus_stop{,}\"),\n",
    "    ], renderers=[quad])\n",
    "\n",
    "    fig1.add_tools(hover)\n",
    "    \n",
    "    fig2 = ag3.plot_g123_gwss_track(\n",
    "        contig=contig, \n",
    "        window_size=g123_window_size, \n",
    "        sites=phasing_analysis,\n",
    "        site_mask=phasing_analysis, \n",
    "        sample_sets=sample_sets,\n",
    "        sample_query=sample_query, \n",
    "        min_cohort_size=min_cohort_size,\n",
    "        max_cohort_size=max_cohort_size,\n",
    "        sizing_mode=sizing_mode,\n",
    "        width=width,\n",
    "        show=show,\n",
    "        title=\"\",\n",
    "        x_range=fig1.x_range,\n",
    "    )\n",
    "    fig2.xaxis.visible = False\n",
    "\n",
    "    fig3 = ag3.plot_ihs_gwss_track(\n",
    "        contig=contig, \n",
    "        window_size=ihs_window_size, \n",
    "        analysis=phasing_analysis, \n",
    "        sample_sets=sample_sets,\n",
    "        sample_query=sample_query, \n",
    "        min_cohort_size=min_cohort_size,\n",
    "        max_cohort_size=max_cohort_size,\n",
    "        sizing_mode=sizing_mode,\n",
    "        width=width,\n",
    "        show=show,\n",
    "        title=\"\",\n",
    "        x_range=fig1.x_range,\n",
    "    )\n",
    "    fig3.xaxis.visible = False\n",
    "\n",
    "\n",
    "    fig4 = ag3.plot_genes(\n",
    "        region=contig, \n",
    "        show=show,\n",
    "        sizing_mode=sizing_mode,\n",
    "        width=width,\n",
    "        height=genes_height,\n",
    "        x_range=fig1.x_range\n",
    "        )\n",
    "                        \n",
    "    fig = bklay.gridplot(\n",
    "        [fig1, fig2, fig3, fig4],\n",
    "        ncols=1,\n",
    "        toolbar_location=\"above\",\n",
    "        merge_tools=True,\n",
    "        sizing_mode=sizing_mode,\n",
    "    )\n",
    "    return fig "
   ]
  },
  {
   "cell_type": "code",
   "execution_count": null,
   "id": "4a1cdce3",
   "metadata": {
    "tags": [
     "remove-input",
     "full-width"
    ]
   },
   "outputs": [],
   "source": [
    "for contig in contigs:\n",
    "    \n",
    "    display(HTML(f\"<h3>Chromosome {contig}</h3>\"))\n",
    "    \n",
    "    fig = plot_h12_g123_ihs_tracks(\n",
    "        contig=contig,\n",
    "        df_signals=df_signals,\n",
    "    );\n",
    "\n",
    "    bkplt.show(fig)\n"
   ]
  },
  {
   "cell_type": "markdown",
   "id": "518be38c",
   "metadata": {},
   "source": [
    "## Sampling information\n",
    "### Collection locations"
   ]
  },
  {
   "cell_type": "code",
   "execution_count": null,
   "id": "f38b4d44",
   "metadata": {},
   "outputs": [],
   "source": [
    "df_samples[['latitude', 'longitude', 'taxon']].groupby(['latitude', 'longitude', 'taxon']).size().to_frame().rename(columns={0: 'count'}).reset_index()"
   ]
  },
  {
   "cell_type": "code",
   "execution_count": null,
   "id": "2f8e30da",
   "metadata": {
    "tags": [
     "remove-input"
    ]
   },
   "outputs": [],
   "source": [
    "from ipyleaflet import Map, Marker, basemaps\n",
    "from ipywidgets import HTML\n",
    "\n",
    "center = cohort[['latitude', 'longitude']].to_list()\n",
    "m = Map(center=center, zoom=9, basemap=basemaps.OpenTopoMap)\n",
    "\n",
    "df = df_samples[['latitude', 'longitude', 'taxon']].groupby(['latitude', 'longitude', 'taxon']).size().to_frame().rename(columns={0: 'count'}).reset_index()\n",
    "\n",
    "for coh_id, row in df.iterrows():\n",
    "    lat, long = row[['latitude', 'longitude']]\n",
    "    \n",
    "    if row['taxon'] == 'gambiae':\n",
    "        color= 'red'\n",
    "    elif row['taxon'] == 'coluzzii':\n",
    "        color='cadetblue'\n",
    "    elif row['taxon'] == 'arabiensis':\n",
    "        color='lightgreen'\n",
    "    else: \n",
    "        color='gray'\n",
    "\n",
    "    marker = Marker(location=(lat, long), draggable=True, opacity=0.7, color=color)\n",
    "    m.add_layer(marker);\n",
    "\n",
    "    message2 = HTML()\n",
    "    message2.value = f\"n = {row['count']}\"\n",
    "    marker.popup = message2\n",
    "\n",
    "display(m)"
   ]
  },
  {
   "cell_type": "markdown",
   "id": "a1526763",
   "metadata": {},
   "source": [
    "### Collection dates"
   ]
  },
  {
   "cell_type": "code",
   "execution_count": null,
   "id": "63134e9e",
   "metadata": {
    "tags": [
     "remove-input"
    ]
   },
   "outputs": [],
   "source": [
    "df_loc_dt = df_samples.pivot_table(\n",
    "    index=[\"location\", \"longitude\", \"latitude\"],\n",
    "    columns=\"month\",\n",
    "    values=\"sample_id\",\n",
    "    aggfunc=\"count\",\n",
    "    fill_value=0,\n",
    ")\n",
    "# df_loc_dt.columns = [\n",
    "#     pd.to_datetime(x, format=\"%m\").month_name() for x in df_loc_dt.columns\n",
    "# ]\n",
    "df_loc_dt.reset_index(inplace=True)\n",
    "cols = pd.MultiIndex.from_tuples(\n",
    "    [(\"Location\", \"Name\"), (\"Location\", \"Longitude\"), (\"Location\", \"Latitude\")] + \n",
    "    [(\"Month\", pd.to_datetime(x, format=\"%m\").month_name()) \n",
    "     for x in df_loc_dt.columns[3:]], \n",
    "#     names=[\"lvl0\", \"lvl1\"]\n",
    ")\n",
    "df_loc_dt.columns = cols\n",
    "# df_loc_dt.index.names = [x.capitalize() for x in df_loc_dt.index.names]\n",
    "df_loc_dt_styled = (\n",
    "    df_loc_dt\n",
    "    .style\n",
    "    .format(precision=3)\n",
    "    .set_caption(\"No. samples by location and month of collection.\")\n",
    "    .hide()\n",
    ")\n",
    "df_loc_dt_styled\n",
    "\n"
   ]
  },
  {
   "cell_type": "code",
   "execution_count": null,
   "id": "c507f968",
   "metadata": {
    "tags": [
     "remove-input"
    ]
   },
   "outputs": [],
   "source": [
    "# if month_collections:\n",
    "#     fig = px.bar(df_collection_dates, x='month', y='count', title=f\"Collection dates {quarter} {year}\")\n",
    "#     display(fig)\n",
    "# else:\n",
    "#     display(Markdown(\"No per-month collection data exists for this cohort.\"))"
   ]
  },
  {
   "cell_type": "markdown",
   "id": "d53794f4",
   "metadata": {},
   "source": [
    "## Diagnostics\n",
    "### H12 calibration"
   ]
  },
  {
   "cell_type": "code",
   "execution_count": null,
   "id": "d1c173f3",
   "metadata": {
    "tags": [
     "remove-input"
    ]
   },
   "outputs": [],
   "source": [
    "display(Markdown(f\"Selected window size: **{h12_window_size:,}**\"))\n",
    "\n",
    "window_sizes = (100, 200, 500, 1000, 2000, 5000, 10000, 20000)\n",
    "\n",
    "ag3.plot_h12_calibration(\n",
    "    contig=h12_calibration_contig,\n",
    "    analysis=phasing_analysis,\n",
    "    sample_sets=sample_sets,\n",
    "    sample_query=cohort['sample_query'],\n",
    "    min_cohort_size=min_cohort_size,\n",
    "    max_cohort_size=max_cohort_size,\n",
    "    window_sizes=window_sizes,\n",
    ");\n"
   ]
  },
  {
   "cell_type": "markdown",
   "id": "8d836cf6",
   "metadata": {},
   "source": [
    "### G123 Calibration"
   ]
  },
  {
   "cell_type": "code",
   "execution_count": null,
   "id": "63f8c0b4",
   "metadata": {
    "tags": [
     "remove-input"
    ]
   },
   "outputs": [],
   "source": [
    "display(Markdown(f\"Selected window size: **{g123_window_size:,}**\"))\n",
    "\n",
    "ag3.plot_g123_calibration(\n",
    "    contig=h12_calibration_contig,\n",
    "    sites=phasing_analysis,\n",
    "    site_mask=phasing_analysis,\n",
    "    sample_sets=sample_sets,\n",
    "    sample_query=cohort['sample_query'],\n",
    "    min_cohort_size=min_cohort_size,\n",
    "    max_cohort_size=max_cohort_size,\n",
    "    window_sizes=window_sizes,\n",
    ");"
   ]
  },
  {
   "cell_type": "markdown",
   "id": "ecff988c",
   "metadata": {},
   "source": [
    "## Data sources"
   ]
  },
  {
   "cell_type": "code",
   "execution_count": null,
   "id": "9e1bfa5b",
   "metadata": {
    "tags": [
     "remove-input"
    ]
   },
   "outputs": [],
   "source": [
    "df_sources_style = (\n",
    "    df_contributors\n",
    "    .style\n",
    "    .set_caption(\"MalariaGEN Vector Observatory partners, studies and sample sets contributing data for this cohort.\")\n",
    ")\n",
    "df_sources_style"
   ]
  },
  {
   "cell_type": "code",
   "execution_count": null,
   "id": "42bc048b",
   "metadata": {},
   "outputs": [],
   "source": []
  }
 ],
 "metadata": {
  "celltoolbar": "Tags",
  "kernelspec": {
   "display_name": "Python 3 (ipykernel)",
   "language": "python",
   "name": "python3"
  },
  "language_info": {
   "codemirror_mode": {
    "name": "ipython",
    "version": 3
   },
   "file_extension": ".py",
   "mimetype": "text/x-python",
   "name": "python",
   "nbconvert_exporter": "python",
   "pygments_lexer": "ipython3",
   "version": "3.10.10"
  }
 },
 "nbformat": 4,
 "nbformat_minor": 5
}

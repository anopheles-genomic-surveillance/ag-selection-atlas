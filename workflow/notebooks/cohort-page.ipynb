{
 "cells": [
  {
   "cell_type": "code",
   "execution_count": null,
   "id": "76d2e44c",
   "metadata": {
    "tags": [
     "parameters",
     "remove-input"
    ]
   },
   "outputs": [],
   "source": [
    "cohort_id = ''\n",
    "cohorts_analysis=\"20230223\"\n",
    "contigs = ['2L']\n",
    "sample_sets = \"\"\n",
    "max_cohort_size = 50\n",
    "h12_calibration_contig = ''\n",
    "sample_query = f\"cohort_admin2_quarter == '{cohort_id}'\""
   ]
  },
  {
   "cell_type": "code",
   "execution_count": null,
   "id": "ead60adb",
   "metadata": {
    "tags": [
     "remove-input"
    ]
   },
   "outputs": [],
   "source": [
    "import malariagen_data\n",
    "import pandas as pd\n",
    "import numpy as np\n",
    "from pyprojroot import here\n",
    "from myst_nb import glue\n",
    "import yaml\n",
    "\n",
    "import geopandas as gpd\n",
    "import bokeh.layouts as bklay\n",
    "import bokeh.plotting as bkplt\n",
    "import plotly.express as px"
   ]
  },
  {
   "cell_type": "code",
   "execution_count": null,
   "id": "80879436",
   "metadata": {
    "tags": [
     "remove-input"
    ]
   },
   "outputs": [],
   "source": [
    "# load cohorts to find sample query \n",
    "df_cohorts = gpd.read_file(here() / \"build\" / \"final_cohorts.geojson\").set_index(\"cohort_id\")\n",
    "cohort = df_cohorts.loc[cohort_id]\n",
    "glue(\"cohort_label\", cohort['cohort_label'])\n",
    "\n",
    "cohort"
   ]
  },
  {
   "attachments": {},
   "cell_type": "markdown",
   "id": "0c2daa9c",
   "metadata": {},
   "source": [
    "# {glue:}`cohort_label` cohort page"
   ]
  },
  {
   "cell_type": "code",
   "execution_count": null,
   "id": "4ae35bd6",
   "metadata": {
    "tags": [
     "remove-input"
    ]
   },
   "outputs": [],
   "source": [
    "ag3 = malariagen_data.Ag3(\n",
    "    # TODO in production build, remove use of simplecache if running inside google cloud\n",
    "    # url = \"gs://vo_agam_release\",\n",
    "    url=\"simplecache::gs://vo_agam_release\",\n",
    "    # pin the version of the cohorts analysis for reproducibility\n",
    "    cohorts_analysis=cohorts_analysis,\n",
    "    # TODO remove simplecache config in production\n",
    "    simplecache=dict(cache_storage=(here() / \"gcs_cache\").as_posix()),\n",
    "    results_cache=(here() / \"malariagen_data_cache\").as_posix(),\n",
    ")"
   ]
  },
  {
   "cell_type": "code",
   "execution_count": null,
   "id": "ebe8f1a7",
   "metadata": {
    "tags": [
     "remove-input"
    ]
   },
   "outputs": [],
   "source": [
    "df_samples = ag3.sample_metadata()\n",
    "df_samples = df_samples.query(sample_query)"
   ]
  },
  {
   "cell_type": "markdown",
   "id": "518be38c",
   "metadata": {},
   "source": [
    "### Map of collection sties"
   ]
  },
  {
   "cell_type": "code",
   "execution_count": null,
   "id": "2f8e30da",
   "metadata": {
    "tags": [
     "remove-input"
    ]
   },
   "outputs": [],
   "source": [
    "import pandas as pd\n",
    "from ipyleaflet import Map, Marker, basemaps, AwesomeIcon, Popup\n",
    "from ipywidgets import HTML\n",
    "\n",
    "center = cohort[['latitude', 'longitude']].to_list()\n",
    "m = Map(center=center, zoom=9, basemap=basemaps.OpenTopoMap)\n",
    "\n",
    "for coh_id, row in df_samples.iterrows():\n",
    "    lat, long = row[['latitude', 'longitude']]\n",
    "    \n",
    "    if row['taxon'] == 'gambiae':\n",
    "        color= 'red'\n",
    "    elif row['taxon'] == 'coluzzii':\n",
    "        color='cadetblue'\n",
    "    elif row['taxon'] == 'arabiensis':\n",
    "        color='lightgreen'\n",
    "    else: \n",
    "        color='gray'\n",
    "    \n",
    "    marker = Marker(location=(lat, long), draggable=True, opacity=0.7, color=color)\n",
    "    m.add_layer(marker);\n",
    "    \n",
    "    # message2 = HTML()\n",
    "    # message2.value = f'<a href=\"https://github.com/anopheles-genomic-surveillance/selection-atlas\">{coh_id}</a>'\n",
    "    # marker.popup = message2\n",
    "\n",
    "display(m)"
   ]
  },
  {
   "cell_type": "markdown",
   "id": "a1526763",
   "metadata": {},
   "source": [
    "### Collection dates"
   ]
  },
  {
   "cell_type": "code",
   "execution_count": null,
   "id": "860a2e35",
   "metadata": {
    "tags": [
     "remove-input"
    ]
   },
   "outputs": [],
   "source": [
    "def add_empty_months(df, cohort_id):\n",
    "    quarter = cohort_id[-2:]\n",
    "    q_months = {'Q1':[1,2,3],\n",
    "            'Q2':[4,5,6],\n",
    "            'Q3':[7,8,9],\n",
    "            'Q4':[10,11,12]}\n",
    "\n",
    "    year = df.year.unique()[0]\n",
    "    months = df['month'].tolist()\n",
    "    empty_months = list(set(q_months[quarter]) - set(months))\n",
    "    \n",
    "    if empty_months:\n",
    "        for m in empty_months:\n",
    "            df = df.append({'year': year, 'month': m, 'count': 0}, ignore_index=True)\n",
    "\n",
    "    return(df, quarter, year)"
   ]
  },
  {
   "cell_type": "code",
   "execution_count": null,
   "id": "9d40801f",
   "metadata": {
    "tags": [
     "remove-input"
    ]
   },
   "outputs": [],
   "source": [
    "df_collection_dates = df_samples.groupby(['year', 'month']).size().reset_index().rename(columns={0: 'count'})\n",
    "df_collection_dates, quarter, year = add_empty_months(df_collection_dates, cohort_id)\n",
    "df_collection_dates['month'] = pd.to_datetime(df_collection_dates['month'], format='%m').dt.month_name().str.slice(stop=3)\n",
    "df_collection_dates"
   ]
  },
  {
   "cell_type": "code",
   "execution_count": null,
   "id": "c507f968",
   "metadata": {
    "tags": [
     "remove-input"
    ]
   },
   "outputs": [],
   "source": [
    "px.bar(df_collection_dates, x='month', y='count', title=f\"Collection dates {quarter} {year}\")"
   ]
  },
  {
   "cell_type": "code",
   "execution_count": null,
   "id": "6079eb71",
   "metadata": {
    "tags": [
     "remove-input"
    ]
   },
   "outputs": [],
   "source": [
    "# load window sizes \n",
    "calibration_dir = \"build/h12-calibration\"\n",
    "with open(here() / calibration_dir / f\"{cohort_id}.yaml\") as calibration_file:\n",
    "    calibration_params = yaml.safe_load(calibration_file)\n",
    "window_size = calibration_params[\"h12_window_size\"]\n",
    "\n",
    "if cohort.taxon == 'arabiensis':\n",
    "    phasing_analysis = 'arab'\n",
    "else:\n",
    "    phasing_analysis = 'gamb_colu'\n",
    "\n",
    "if cohort.cohort_size > max_cohort_size:\n",
    "    # downsampling for computational efficiency\n",
    "    cohort_size = max_cohort_size\n",
    "else:\n",
    "    # no downsampling\n",
    "    cohort_size = None \n",
    "\n",
    "\n",
    "def plot_h12_ihs_tracks(\n",
    "        contig, \n",
    "        window_size, \n",
    "        phasing_analysis, \n",
    "        sample_sets, \n",
    "        sample_query, \n",
    "        cohort_size, \n",
    "        sizing_mode='stretch_width', \n",
    "        show=False, \n",
    "        width=800, \n",
    "        genes_height=100\n",
    "    ):\n",
    "\n",
    "    fig1 = ag3.plot_h12_gwss_track(\n",
    "        contig=contig, \n",
    "        window_size=window_size, \n",
    "        analysis=phasing_analysis, \n",
    "        sample_sets=sample_sets,\n",
    "        sample_query=sample_query, \n",
    "        cohort_size=cohort_size,\n",
    "        sizing_mode=sizing_mode,\n",
    "        show=show,\n",
    "        width=width,\n",
    "    )\n",
    "    fig1.xaxis.visible = False\n",
    "\n",
    "    fig2 = ag3.plot_h12_gwss_track(\n",
    "        contig=contig, \n",
    "        window_size=window_size, \n",
    "        analysis=phasing_analysis, \n",
    "        sample_sets=sample_sets,\n",
    "        sample_query=sample_query, \n",
    "        cohort_size=cohort_size,\n",
    "        sizing_mode=sizing_mode,\n",
    "        width=width,\n",
    "        show=show,\n",
    "        title=\"\",\n",
    "        x_range=fig1.x_range,\n",
    "    )\n",
    "    fig2.xaxis.visible = False\n",
    "\n",
    "    fig3 = ag3.plot_genes(\n",
    "        region=contig, \n",
    "        show=show,\n",
    "        sizing_mode=sizing_mode,\n",
    "        width=width,\n",
    "        height=genes_height,\n",
    "        x_range=fig1.x_range\n",
    "        )\n",
    "                        \n",
    "    fig = bklay.gridplot(\n",
    "        [fig1, fig2, fig3],\n",
    "        ncols=1,\n",
    "        toolbar_location=\"above\",\n",
    "        merge_tools=True,\n",
    "        sizing_mode=sizing_mode,\n",
    "    )\n",
    "\n",
    "    bkplt.show(fig)\n"
   ]
  },
  {
   "cell_type": "markdown",
   "id": "03f02c25",
   "metadata": {},
   "source": [
    "## Selection scans\n"
   ]
  },
  {
   "cell_type": "markdown",
   "id": "04daf95d",
   "metadata": {},
   "source": [
    "### Chromosome 2RL"
   ]
  },
  {
   "cell_type": "code",
   "execution_count": null,
   "id": "c4bf5a7b",
   "metadata": {
    "tags": [
     "remove-input"
    ]
   },
   "outputs": [],
   "source": [
    "plot_h12_ihs_tracks(\n",
    "    contig='2L',\n",
    "    window_size=window_size,\n",
    "    phasing_analysis=phasing_analysis,\n",
    "    sample_sets=sample_sets,\n",
    "    sample_query=sample_query,\n",
    "    cohort_size=cohort_size)"
   ]
  },
  {
   "cell_type": "markdown",
   "id": "3fec71ac",
   "metadata": {},
   "source": [
    "### Chromosome 3RL"
   ]
  },
  {
   "cell_type": "code",
   "execution_count": null,
   "id": "6213941e",
   "metadata": {
    "tags": [
     "remove-input"
    ]
   },
   "outputs": [],
   "source": [
    "plot_h12_ihs_tracks(\n",
    "    contig='3L',\n",
    "    window_size=window_size,\n",
    "    phasing_analysis=phasing_analysis,\n",
    "    sample_sets=sample_sets,\n",
    "    sample_query=sample_query,\n",
    "    cohort_size=cohort_size)"
   ]
  },
  {
   "cell_type": "markdown",
   "id": "c61f4f2e",
   "metadata": {},
   "source": [
    "### Chromosome X "
   ]
  },
  {
   "cell_type": "code",
   "execution_count": null,
   "id": "3c6ba8d0",
   "metadata": {
    "tags": [
     "remove-input"
    ]
   },
   "outputs": [],
   "source": [
    "plot_h12_ihs_tracks(\n",
    "    contig='X',\n",
    "    window_size=window_size,\n",
    "    phasing_analysis=phasing_analysis,\n",
    "    sample_sets=sample_sets,\n",
    "    sample_query=sample_query,\n",
    "    cohort_size=cohort_size)"
   ]
  },
  {
   "cell_type": "markdown",
   "id": "d53794f4",
   "metadata": {},
   "source": [
    "### Diagnostics"
   ]
  },
  {
   "cell_type": "markdown",
   "id": "a8088b1f",
   "metadata": {
    "tags": [
     "remove-input"
    ]
   },
   "source": [
    "ag3.plot_h12_calibration(\n",
    "    contig=h12_calibration_contig,\n",
    "    analysis=phasing_analysis,\n",
    "    sample_sets=sample_sets,\n",
    "    sample_query=sample_query,\n",
    "    cohort_size=cohort_size,\n",
    "    window_sizes=window_sizes,\n",
    ")"
   ]
  }
 ],
 "metadata": {
  "celltoolbar": "Tags",
  "kernelspec": {
   "display_name": "Python 3 (ipykernel)",
   "language": "python",
   "name": "python3"
  },
  "language_info": {
   "codemirror_mode": {
    "name": "ipython",
    "version": 3
   },
   "file_extension": ".py",
   "mimetype": "text/x-python",
   "name": "python",
   "nbconvert_exporter": "python",
   "pygments_lexer": "ipython3",
   "version": "3.7.12"
  }
 },
 "nbformat": 4,
 "nbformat_minor": 5
}

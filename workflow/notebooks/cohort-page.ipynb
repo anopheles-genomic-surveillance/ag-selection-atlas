{
 "cells": [
  {
   "cell_type": "code",
   "execution_count": null,
   "id": "ead60adb",
   "metadata": {},
   "outputs": [],
   "source": [
    "import malariagen_data\n",
    "import pandas as pd\n",
    "import numpy as np\n",
    "from pyprojroot import here"
   ]
  },
  {
   "cell_type": "code",
   "execution_count": null,
   "id": "76d2e44c",
   "metadata": {
    "tags": [
     "parameters"
    ]
   },
   "outputs": [],
   "source": [
    "cohort_id = 'BF-09_Houet_colu_2012'"
   ]
  },
  {
   "cell_type": "code",
   "execution_count": 8,
   "id": "80879436",
   "metadata": {},
   "outputs": [
    {
     "data": {
      "text/plain": [
       "cohort_size                                                    78\n",
       "country                                              Burkina Faso\n",
       "admin1_iso                                                  BF-09\n",
       "admin1_name                                         Hauts-Bassins\n",
       "admin2_name                                                 Houet\n",
       "taxon                                                    coluzzii\n",
       "year                                                         2012\n",
       "cohort_label               Burkina Faso / Houet / coluzzii / 2012\n",
       "sample_query    cohort_admin2_year == 'BF-09_Houet_colu_2012' ...\n",
       "Name: BF-09_Houet_colu_2012, dtype: object"
      ]
     },
     "execution_count": 8,
     "metadata": {},
     "output_type": "execute_result"
    }
   ],
   "source": [
    "# load cohorts to find sample query \n",
    "df_cohorts = pd.read_csv(here() / \"build\" / \"final_cohorts.csv\").set_index(\"cohort_id\")\n",
    "cohort = df_cohorts.loc[cohort_id]\n",
    "cohort"
   ]
  },
  {
   "cell_type": "code",
   "execution_count": 13,
   "id": "825aa652",
   "metadata": {},
   "outputs": [
    {
     "data": {
      "text/plain": [
       "'Burkina Faso / Houet / coluzzii / 2012'"
      ]
     },
     "execution_count": 13,
     "metadata": {},
     "output_type": "execute_result"
    }
   ],
   "source": [
    "cohort['cohort_label']"
   ]
  },
  {
   "cell_type": "code",
   "execution_count": 14,
   "id": "06d6c43d",
   "metadata": {},
   "outputs": [
    {
     "data": {
      "text/plain": [
       "'Burkina Faso / Houet / coluzzii / 2012'"
      ]
     },
     "execution_count": 14,
     "metadata": {},
     "output_type": "execute_result"
    }
   ],
   "source": [
    "cohort['cohort_label']"
   ]
  }
 ],
 "metadata": {
  "kernelspec": {
   "display_name": "selection-atlas",
   "language": "python",
   "name": "selection-atlas"
  },
  "language_info": {
   "codemirror_mode": {
    "name": "ipython",
    "version": 3
   },
   "file_extension": ".py",
   "mimetype": "text/x-python",
   "name": "python",
   "nbconvert_exporter": "python",
   "pygments_lexer": "ipython3",
   "version": "3.10.9"
  }
 },
 "nbformat": 4,
 "nbformat_minor": 5
}

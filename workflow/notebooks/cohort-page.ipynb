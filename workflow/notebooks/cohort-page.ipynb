{
 "cells": [
  {
   "cell_type": "code",
   "execution_count": 17,
   "id": "76d2e44c",
   "metadata": {
    "tags": [
     "parameters",
     "remove-input"
    ]
   },
   "outputs": [],
   "source": [
    "cohort_id = 'ML-2_Kati_gamb_2014_Q3'\n",
    "cohorts_analysis=\"20230223\"\n",
    "contigs = ['2L']\n",
    "sample_sets = \"\"\n",
    "max_cohort_size = 50\n",
    "h12_calibration_contig = ''"
   ]
  },
  {
   "cell_type": "code",
   "execution_count": 18,
   "id": "ead60adb",
   "metadata": {
    "tags": [
     "remove-input"
    ]
   },
   "outputs": [],
   "source": [
    "from IPython.display import Markdown\n",
    "import malariagen_data\n",
    "import pandas as pd\n",
    "from pyprojroot import here\n",
    "import yaml\n",
    "\n",
    "import geopandas as gpd\n",
    "import bokeh.layouts as bklay\n",
    "import bokeh.plotting as bkplt\n",
    "import plotly.express as px\n",
    "\n",
    "from bokeh.io import output_notebook # enables plot interface in J notebook\n",
    "output_notebook()"
   ]
  },
  {
   "cell_type": "markdown",
   "id": "3a98f014",
   "metadata": {},
   "source": []
  },
  {
   "cell_type": "code",
   "execution_count": 19,
   "id": "80879436",
   "metadata": {
    "tags": [
     "remove-input"
    ]
   },
   "outputs": [],
   "source": [
    "# load cohorts to find sample query \n",
    "df_cohorts = gpd.read_file(here() / \"build\" / \"final_cohorts.geojson\").set_index(\"cohort_id\")\n",
    "cohort = df_cohorts.loc[cohort_id]"
   ]
  },
  {
   "cell_type": "code",
   "execution_count": null,
   "id": "4ae35bd6",
   "metadata": {
    "tags": [
     "remove-input",
     "remove-output"
    ]
   },
   "outputs": [],
   "source": [
    "ag3 = malariagen_data.Ag3(\n",
    "    # TODO in production build, remove use of simplecache if running inside google cloud\n",
    "    # url = \"gs://vo_agam_release\",\n",
    "    url=\"simplecache::gs://vo_agam_release\",\n",
    "    # pin the version of the cohorts analysis for reproducibility\n",
    "    cohorts_analysis=cohorts_analysis,\n",
    "    # TODO remove simplecache config in production\n",
    "    simplecache=dict(cache_storage=(here() / \"gcs_cache\").as_posix()),\n",
    "    results_cache=(here() / \"malariagen_data_cache\").as_posix(),\n",
    ")\n",
    "\n",
    "df_samples = ag3.sample_metadata()\n",
    "df_samples = df_samples.query(cohort['sample_query'])"
   ]
  },
  {
   "cell_type": "code",
   "execution_count": null,
   "id": "163249ca",
   "metadata": {
    "tags": [
     "remove-input",
     "remove-output"
    ]
   },
   "outputs": [],
   "source": [
    "def add_empty_months(df, cohort_id):\n",
    "    quarter = cohort_id[-2:]\n",
    "    q_months = {'Q1':[1,2,3],\n",
    "            'Q2':[4,5,6],\n",
    "            'Q3':[7,8,9],\n",
    "            'Q4':[10,11,12]}\n",
    "\n",
    "    year = df.year.unique()\n",
    "    months = df['month'].tolist()\n",
    "    empty_months = list(set(q_months[quarter]) - set(months))\n",
    "    \n",
    "    if empty_months:\n",
    "        for m in empty_months:\n",
    "            df = pd.concat([df, pd.DataFrame({'year': year, 'month': m, 'count': 0})])\n",
    "\n",
    "    return(df, quarter, year[0])\n",
    "\n",
    "df_collection_dates = df_samples.groupby(['year', 'month']).size().reset_index().rename(columns={0: 'count'})\n",
    "df_collection_dates, quarter, year = add_empty_months(df_collection_dates, cohort_id)\n",
    "df_collection_dates['month'] = pd.to_datetime(df_collection_dates['month'], format='%m').dt.month_name().str.slice(stop=3)\n",
    "start_month = df_collection_dates.query(\"count > 0\").month.min()\n",
    "end_month = df_collection_dates.query(\"count > 0\").month.max()\n",
    "\n",
    "n_sites = '???'\n",
    "study_id = 'who knows????'"
   ]
  },
  {
   "cell_type": "code",
   "execution_count": null,
   "id": "3baa1f0d",
   "metadata": {
    "tags": [
     "remove-input"
    ]
   },
   "outputs": [],
   "source": [
    "Markdown(\n",
    "    f\"\"\"This cohort comprises {cohort['cohort_size']} An. {cohort['taxon']} samples \n",
    "    collected from {n_sites} sites within {cohort['admin1_name']} province, \n",
    "    {cohort['admin2_name']} region, {cohort['country']}, between {start_month} \n",
    "    and {end_month} {cohort['year']}. Samples were contributed by {study_id}.\"\"\")"
   ]
  },
  {
   "attachments": {},
   "cell_type": "markdown",
   "id": "518be38c",
   "metadata": {},
   "source": [
    "## Sampling information\n",
    "### Collection locations"
   ]
  },
  {
   "cell_type": "code",
   "execution_count": null,
   "id": "2f8e30da",
   "metadata": {
    "tags": [
     "remove-input"
    ]
   },
   "outputs": [],
   "source": [
    "from ipyleaflet import Map, Marker, basemaps\n",
    "\n",
    "center = cohort[['latitude', 'longitude']].to_list()\n",
    "m = Map(center=center, zoom=9, basemap=basemaps.OpenTopoMap)\n",
    "\n",
    "for coh_id, row in df_samples.iterrows():\n",
    "    lat, long = row[['latitude', 'longitude']]\n",
    "    \n",
    "    if row['taxon'] == 'gambiae':\n",
    "        color= 'red'\n",
    "    elif row['taxon'] == 'coluzzii':\n",
    "        color='cadetblue'\n",
    "    elif row['taxon'] == 'arabiensis':\n",
    "        color='lightgreen'\n",
    "    else: \n",
    "        color='gray'\n",
    "    \n",
    "    marker = Marker(location=(lat, long), draggable=True, opacity=0.7, color=color)\n",
    "    m.add_layer(marker);\n",
    "\n",
    "display(m)"
   ]
  },
  {
   "cell_type": "markdown",
   "id": "a1526763",
   "metadata": {},
   "source": [
    "### Collection dates"
   ]
  },
  {
   "cell_type": "code",
   "execution_count": null,
   "id": "c507f968",
   "metadata": {
    "tags": [
     "remove-input"
    ]
   },
   "outputs": [],
   "source": [
    "px.bar(df_collection_dates, x='month', y='count', title=f\"Collection dates {quarter} {year}\")"
   ]
  },
  {
   "attachments": {},
   "cell_type": "markdown",
   "id": "03f02c25",
   "metadata": {},
   "source": [
    "## Selection scans"
   ]
  },
  {
   "cell_type": "code",
   "execution_count": null,
   "id": "6079eb71",
   "metadata": {
    "tags": [
     "remove-input"
    ]
   },
   "outputs": [],
   "source": [
    "# load window sizes \n",
    "calibration_dir = \"build/h12-calibration\"\n",
    "with open(here() / calibration_dir / f\"{cohort_id}.yaml\") as calibration_file:\n",
    "    calibration_params = yaml.safe_load(calibration_file)\n",
    "window_size = calibration_params[\"h12_window_size\"]\n",
    "\n",
    "if cohort.taxon == 'arabiensis':\n",
    "    phasing_analysis = 'arab'\n",
    "else:\n",
    "    phasing_analysis = 'gamb_colu'\n",
    "\n",
    "if cohort.cohort_size > max_cohort_size:\n",
    "    # downsampling for computational efficiency\n",
    "    cohort_size = max_cohort_size\n",
    "else:\n",
    "    # no downsampling\n",
    "    cohort_size = None \n",
    "\n",
    "\n",
    "def plot_h12_ihs_tracks(\n",
    "        contig, \n",
    "        window_size, \n",
    "        phasing_analysis, \n",
    "        sample_sets, \n",
    "        sample_query, \n",
    "        cohort_size, \n",
    "        sizing_mode='stretch_width', \n",
    "        show=False, \n",
    "        width=800, \n",
    "        genes_height=100\n",
    "    ):\n",
    "\n",
    "    fig1 = ag3.plot_h12_gwss_track(\n",
    "        contig=contig, \n",
    "        window_size=window_size, \n",
    "        analysis=phasing_analysis, \n",
    "        sample_sets=sample_sets,\n",
    "        sample_query=sample_query, \n",
    "        cohort_size=cohort_size,\n",
    "        sizing_mode=sizing_mode,\n",
    "        show=show,\n",
    "        width=width,\n",
    "    )\n",
    "    fig1.xaxis.visible = False\n",
    "\n",
    "    fig2 = ag3.plot_h12_gwss_track(\n",
    "        contig=contig, \n",
    "        window_size=window_size, \n",
    "        analysis=phasing_analysis, \n",
    "        sample_sets=sample_sets,\n",
    "        sample_query=sample_query, \n",
    "        cohort_size=cohort_size,\n",
    "        sizing_mode=sizing_mode,\n",
    "        width=width,\n",
    "        show=show,\n",
    "        title=\"\",\n",
    "        x_range=fig1.x_range,\n",
    "    )\n",
    "    fig2.xaxis.visible = False\n",
    "\n",
    "    fig3 = ag3.plot_genes(\n",
    "        region=contig, \n",
    "        show=show,\n",
    "        sizing_mode=sizing_mode,\n",
    "        width=width,\n",
    "        height=genes_height,\n",
    "        x_range=fig1.x_range\n",
    "        )\n",
    "                        \n",
    "    fig = bklay.gridplot(\n",
    "        [fig1, fig2, fig3],\n",
    "        ncols=1,\n",
    "        toolbar_location=\"above\",\n",
    "        merge_tools=True,\n",
    "        sizing_mode=sizing_mode,\n",
    "    )\n",
    "    return fig "
   ]
  },
  {
   "cell_type": "markdown",
   "id": "04daf95d",
   "metadata": {},
   "source": [
    "### Chromosome 2RL"
   ]
  },
  {
   "cell_type": "code",
   "execution_count": null,
   "id": "66813ee1",
   "metadata": {
    "tags": [
     "remove-input",
     "remove-output"
    ]
   },
   "outputs": [],
   "source": [
    "fig = plot_h12_ihs_tracks(\n",
    "    contig='3L',\n",
    "    window_size=window_size,\n",
    "    phasing_analysis=phasing_analysis,\n",
    "    sample_sets=sample_sets,\n",
    "    sample_query=cohort['sample_query'],\n",
    "    cohort_size=cohort_size)"
   ]
  },
  {
   "cell_type": "code",
   "execution_count": null,
   "id": "8f90425a",
   "metadata": {
    "tags": [
     "remove-input"
    ]
   },
   "outputs": [],
   "source": [
    "bkplt.show(fig)"
   ]
  },
  {
   "cell_type": "markdown",
   "id": "3fec71ac",
   "metadata": {},
   "source": [
    "### Chromosome 3RL"
   ]
  },
  {
   "cell_type": "code",
   "execution_count": null,
   "id": "6213941e",
   "metadata": {
    "tags": [
     "remove-input",
     "remove-output"
    ]
   },
   "outputs": [],
   "source": [
    "fig = plot_h12_ihs_tracks(\n",
    "    contig='3L',\n",
    "    window_size=window_size,\n",
    "    phasing_analysis=phasing_analysis,\n",
    "    sample_sets=sample_sets,\n",
    "    sample_query=cohort['sample_query'],\n",
    "    cohort_size=cohort_size)"
   ]
  },
  {
   "cell_type": "code",
   "execution_count": null,
   "id": "b610d6f0",
   "metadata": {
    "tags": [
     "remove-input"
    ]
   },
   "outputs": [],
   "source": [
    "bkplt.show(fig)"
   ]
  },
  {
   "cell_type": "markdown",
   "id": "c61f4f2e",
   "metadata": {},
   "source": [
    "### Chromosome X "
   ]
  },
  {
   "cell_type": "code",
   "execution_count": null,
   "id": "3c6ba8d0",
   "metadata": {
    "tags": [
     "remove-input",
     "remove-output"
    ]
   },
   "outputs": [],
   "source": [
    "fig = plot_h12_ihs_tracks(\n",
    "    contig='X',\n",
    "    window_size=window_size,\n",
    "    phasing_analysis=phasing_analysis,\n",
    "    sample_sets=sample_sets,\n",
    "    sample_query=cohort['sample_query'],\n",
    "    cohort_size=cohort_size)"
   ]
  },
  {
   "cell_type": "code",
   "execution_count": null,
   "id": "bb48f82d",
   "metadata": {
    "tags": [
     "remove-input"
    ]
   },
   "outputs": [],
   "source": [
    "bkplt.show(fig)"
   ]
  },
  {
   "attachments": {},
   "cell_type": "markdown",
   "id": "d53794f4",
   "metadata": {},
   "source": [
    "## Diagnostics\n",
    "### H12 calibration"
   ]
  },
  {
   "cell_type": "code",
   "execution_count": null,
   "id": "d1c173f3",
   "metadata": {
    "tags": [
     "remove-input"
    ]
   },
   "outputs": [],
   "source": [
    "window_sizes = (100, 200, 500, 1000, 2000, 5000, 10000, 20000)\n",
    "\n",
    "ag3.plot_h12_calibration(\n",
    "    contig=h12_calibration_contig,\n",
    "    analysis=phasing_analysis,\n",
    "    sample_sets=sample_sets,\n",
    "    sample_query=cohort['sample_query'],\n",
    "    cohort_size=cohort_size,\n",
    "    window_sizes=window_sizes,\n",
    ")"
   ]
  }
 ],
 "metadata": {
  "celltoolbar": "Tags",
  "kernelspec": {
   "display_name": "Python 3 (ipykernel)",
   "language": "python",
   "name": "python3"
  },
  "language_info": {
   "codemirror_mode": {
    "name": "ipython",
    "version": 3
   },
   "file_extension": ".py",
   "mimetype": "text/x-python",
   "name": "python",
   "nbconvert_exporter": "python",
   "pygments_lexer": "ipython3",
   "version": "3.7.13"
  }
 },
 "nbformat": 4,
 "nbformat_minor": 5
}

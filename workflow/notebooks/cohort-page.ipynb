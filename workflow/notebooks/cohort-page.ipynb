{
 "cells": [
  {
   "cell_type": "code",
   "execution_count": 7,
   "id": "76d2e44c",
   "metadata": {
    "tags": [
     "parameters",
     "remove-input"
    ]
   },
   "outputs": [],
   "source": [
    "cohort_id = 'ML-2_Kati_gamb_2014_Q3'\n",
    "cohorts_analysis=\"20230223\"\n",
    "contigs = ['2L']\n",
    "sample_sets = \"\"\n",
    "max_cohort_size = 50\n",
    "h12_calibration_contig = ''"
   ]
  },
  {
   "cell_type": "code",
   "execution_count": 8,
   "id": "ead60adb",
   "metadata": {
    "tags": [
     "remove-input"
    ]
   },
   "outputs": [],
   "source": [
    "from IPython.display import Markdown\n",
    "import malariagen_data\n",
    "import pandas as pd\n",
    "from pyprojroot import here\n",
    "import yaml\n",
    "\n",
    "import geopandas as gpd\n",
    "import bokeh.layouts as bklay\n",
    "import bokeh.plotting as bkplt\n",
    "import plotly.express as px"
   ]
  },
  {
   "cell_type": "markdown",
   "id": "3a98f014",
   "metadata": {},
   "source": []
  },
  {
   "cell_type": "code",
   "execution_count": 9,
   "id": "80879436",
   "metadata": {
    "tags": [
     "remove-input"
    ]
   },
   "outputs": [],
   "source": [
    "# load cohorts to find sample query \n",
    "df_cohorts = gpd.read_file(here() / \"build\" / \"final_cohorts.geojson\").set_index(\"cohort_id\")\n",
    "cohort = df_cohorts.loc[cohort_id]"
   ]
  },
  {
   "cell_type": "code",
   "execution_count": 11,
   "id": "4ae35bd6",
   "metadata": {
    "tags": [
     "remove-input",
     "remove-output"
    ]
   },
   "outputs": [
    {
     "data": {
      "application/javascript": "(function(root) {\n  function now() {\n    return new Date();\n  }\n\n  const force = true;\n\n  if (typeof root._bokeh_onload_callbacks === \"undefined\" || force === true) {\n    root._bokeh_onload_callbacks = [];\n    root._bokeh_is_loading = undefined;\n  }\n\nconst JS_MIME_TYPE = 'application/javascript';\n  const HTML_MIME_TYPE = 'text/html';\n  const EXEC_MIME_TYPE = 'application/vnd.bokehjs_exec.v0+json';\n  const CLASS_NAME = 'output_bokeh rendered_html';\n\n  /**\n   * Render data to the DOM node\n   */\n  function render(props, node) {\n    const script = document.createElement(\"script\");\n    node.appendChild(script);\n  }\n\n  /**\n   * Handle when an output is cleared or removed\n   */\n  function handleClearOutput(event, handle) {\n    const cell = handle.cell;\n\n    const id = cell.output_area._bokeh_element_id;\n    const server_id = cell.output_area._bokeh_server_id;\n    // Clean up Bokeh references\n    if (id != null && id in Bokeh.index) {\n      Bokeh.index[id].model.document.clear();\n      delete Bokeh.index[id];\n    }\n\n    if (server_id !== undefined) {\n      // Clean up Bokeh references\n      const cmd_clean = \"from bokeh.io.state import curstate; print(curstate().uuid_to_server['\" + server_id + \"'].get_sessions()[0].document.roots[0]._id)\";\n      cell.notebook.kernel.execute(cmd_clean, {\n        iopub: {\n          output: function(msg) {\n            const id = msg.content.text.trim();\n            if (id in Bokeh.index) {\n              Bokeh.index[id].model.document.clear();\n              delete Bokeh.index[id];\n            }\n          }\n        }\n      });\n      // Destroy server and session\n      const cmd_destroy = \"import bokeh.io.notebook as ion; ion.destroy_server('\" + server_id + \"')\";\n      cell.notebook.kernel.execute(cmd_destroy);\n    }\n  }\n\n  /**\n   * Handle when a new output is added\n   */\n  function handleAddOutput(event, handle) {\n    const output_area = handle.output_area;\n    const output = handle.output;\n\n    // limit handleAddOutput to display_data with EXEC_MIME_TYPE content only\n    if ((output.output_type != \"display_data\") || (!Object.prototype.hasOwnProperty.call(output.data, EXEC_MIME_TYPE))) {\n      return\n    }\n\n    const toinsert = output_area.element.find(\".\" + CLASS_NAME.split(' ')[0]);\n\n    if (output.metadata[EXEC_MIME_TYPE][\"id\"] !== undefined) {\n      toinsert[toinsert.length - 1].firstChild.textContent = output.data[JS_MIME_TYPE];\n      // store reference to embed id on output_area\n      output_area._bokeh_element_id = output.metadata[EXEC_MIME_TYPE][\"id\"];\n    }\n    if (output.metadata[EXEC_MIME_TYPE][\"server_id\"] !== undefined) {\n      const bk_div = document.createElement(\"div\");\n      bk_div.innerHTML = output.data[HTML_MIME_TYPE];\n      const script_attrs = bk_div.children[0].attributes;\n      for (let i = 0; i < script_attrs.length; i++) {\n        toinsert[toinsert.length - 1].firstChild.setAttribute(script_attrs[i].name, script_attrs[i].value);\n        toinsert[toinsert.length - 1].firstChild.textContent = bk_div.children[0].textContent\n      }\n      // store reference to server id on output_area\n      output_area._bokeh_server_id = output.metadata[EXEC_MIME_TYPE][\"server_id\"];\n    }\n  }\n\n  function register_renderer(events, OutputArea) {\n\n    function append_mime(data, metadata, element) {\n      // create a DOM node to render to\n      const toinsert = this.create_output_subarea(\n        metadata,\n        CLASS_NAME,\n        EXEC_MIME_TYPE\n      );\n      this.keyboard_manager.register_events(toinsert);\n      // Render to node\n      const props = {data: data, metadata: metadata[EXEC_MIME_TYPE]};\n      render(props, toinsert[toinsert.length - 1]);\n      element.append(toinsert);\n      return toinsert\n    }\n\n    /* Handle when an output is cleared or removed */\n    events.on('clear_output.CodeCell', handleClearOutput);\n    events.on('delete.Cell', handleClearOutput);\n\n    /* Handle when a new output is added */\n    events.on('output_added.OutputArea', handleAddOutput);\n\n    /**\n     * Register the mime type and append_mime function with output_area\n     */\n    OutputArea.prototype.register_mime_type(EXEC_MIME_TYPE, append_mime, {\n      /* Is output safe? */\n      safe: true,\n      /* Index of renderer in `output_area.display_order` */\n      index: 0\n    });\n  }\n\n  // register the mime type if in Jupyter Notebook environment and previously unregistered\n  if (root.Jupyter !== undefined) {\n    const events = require('base/js/events');\n    const OutputArea = require('notebook/js/outputarea').OutputArea;\n\n    if (OutputArea.prototype.mime_types().indexOf(EXEC_MIME_TYPE) == -1) {\n      register_renderer(events, OutputArea);\n    }\n  }\n  if (typeof (root._bokeh_timeout) === \"undefined\" || force === true) {\n    root._bokeh_timeout = Date.now() + 5000;\n    root._bokeh_failed_load = false;\n  }\n\n  const NB_LOAD_WARNING = {'data': {'text/html':\n     \"<div style='background-color: #fdd'>\\n\"+\n     \"<p>\\n\"+\n     \"BokehJS does not appear to have successfully loaded. If loading BokehJS from CDN, this \\n\"+\n     \"may be due to a slow or bad network connection. Possible fixes:\\n\"+\n     \"</p>\\n\"+\n     \"<ul>\\n\"+\n     \"<li>re-rerun `output_notebook()` to attempt to load from CDN again, or</li>\\n\"+\n     \"<li>use INLINE resources instead, as so:</li>\\n\"+\n     \"</ul>\\n\"+\n     \"<code>\\n\"+\n     \"from bokeh.resources import INLINE\\n\"+\n     \"output_notebook(resources=INLINE)\\n\"+\n     \"</code>\\n\"+\n     \"</div>\"}};\n\n  function display_loaded() {\n    const el = document.getElementById(null);\n    if (el != null) {\n      el.textContent = \"BokehJS is loading...\";\n    }\n    if (root.Bokeh !== undefined) {\n      if (el != null) {\n        el.textContent = \"BokehJS \" + root.Bokeh.version + \" successfully loaded.\";\n      }\n    } else if (Date.now() < root._bokeh_timeout) {\n      setTimeout(display_loaded, 100)\n    }\n  }\n\n  function run_callbacks() {\n    try {\n      root._bokeh_onload_callbacks.forEach(function(callback) {\n        if (callback != null)\n          callback();\n      });\n    } finally {\n      delete root._bokeh_onload_callbacks\n    }\n    console.debug(\"Bokeh: all callbacks have finished\");\n  }\n\n  function load_libs(css_urls, js_urls, callback) {\n    if (css_urls == null) css_urls = [];\n    if (js_urls == null) js_urls = [];\n\n    root._bokeh_onload_callbacks.push(callback);\n    if (root._bokeh_is_loading > 0) {\n      console.debug(\"Bokeh: BokehJS is being loaded, scheduling callback at\", now());\n      return null;\n    }\n    if (js_urls == null || js_urls.length === 0) {\n      run_callbacks();\n      return null;\n    }\n    console.debug(\"Bokeh: BokehJS not loaded, scheduling load and callback at\", now());\n    root._bokeh_is_loading = css_urls.length + js_urls.length;\n\n    function on_load() {\n      root._bokeh_is_loading--;\n      if (root._bokeh_is_loading === 0) {\n        console.debug(\"Bokeh: all BokehJS libraries/stylesheets loaded\");\n        run_callbacks()\n      }\n    }\n\n    function on_error(url) {\n      console.error(\"failed to load \" + url);\n    }\n\n    for (let i = 0; i < css_urls.length; i++) {\n      const url = css_urls[i];\n      const element = document.createElement(\"link\");\n      element.onload = on_load;\n      element.onerror = on_error.bind(null, url);\n      element.rel = \"stylesheet\";\n      element.type = \"text/css\";\n      element.href = url;\n      console.debug(\"Bokeh: injecting link tag for BokehJS stylesheet: \", url);\n      document.body.appendChild(element);\n    }\n\n    for (let i = 0; i < js_urls.length; i++) {\n      const url = js_urls[i];\n      const element = document.createElement('script');\n      element.onload = on_load;\n      element.onerror = on_error.bind(null, url);\n      element.async = false;\n      element.src = url;\n      console.debug(\"Bokeh: injecting script tag for BokehJS library: \", url);\n      document.head.appendChild(element);\n    }\n  };\n\n  function inject_raw_css(css) {\n    const element = document.createElement(\"style\");\n    element.appendChild(document.createTextNode(css));\n    document.body.appendChild(element);\n  }\n\n  const js_urls = [\"https://cdn.bokeh.org/bokeh/release/bokeh-2.4.3.min.js\", \"https://cdn.bokeh.org/bokeh/release/bokeh-gl-2.4.3.min.js\", \"https://cdn.bokeh.org/bokeh/release/bokeh-widgets-2.4.3.min.js\", \"https://cdn.bokeh.org/bokeh/release/bokeh-tables-2.4.3.min.js\", \"https://cdn.bokeh.org/bokeh/release/bokeh-mathjax-2.4.3.min.js\"];\n  const css_urls = [];\n\n  const inline_js = [    function(Bokeh) {\n      Bokeh.set_log_level(\"info\");\n    },\nfunction(Bokeh) {\n    }\n  ];\n\n  function run_inline_js() {\n    if (root.Bokeh !== undefined || force === true) {\n          for (let i = 0; i < inline_js.length; i++) {\n      inline_js[i].call(root, root.Bokeh);\n    }\n} else if (Date.now() < root._bokeh_timeout) {\n      setTimeout(run_inline_js, 100);\n    } else if (!root._bokeh_failed_load) {\n      console.log(\"Bokeh: BokehJS failed to load within specified timeout.\");\n      root._bokeh_failed_load = true;\n    } else if (force !== true) {\n      const cell = $(document.getElementById(null)).parents('.cell').data().cell;\n      cell.output_area.append_execute_result(NB_LOAD_WARNING)\n    }\n  }\n\n  if (root._bokeh_is_loading === 0) {\n    console.debug(\"Bokeh: BokehJS loaded, going straight to plotting\");\n    run_inline_js();\n  } else {\n    load_libs(css_urls, js_urls, function() {\n      console.debug(\"Bokeh: BokehJS plotting callback run at\", now());\n      run_inline_js();\n    });\n  }\n}(window));",
      "application/vnd.bokehjs_load.v0+json": ""
     },
     "metadata": {},
     "output_type": "display_data"
    },
    {
     "data": {
      "application/vnd.jupyter.widget-view+json": {
       "model_id": "261e6605635e43d9be49f707c5b35221",
       "version_major": 2,
       "version_minor": 0
      },
      "text/plain": [
       "Load sample metadata:   0%|          | 0/28 [00:00<?, ?it/s]"
      ]
     },
     "metadata": {},
     "output_type": "display_data"
    }
   ],
   "source": [
    "ag3 = malariagen_data.Ag3(\n",
    "    # TODO in production build, remove use of simplecache if running inside google cloud\n",
    "    # url = \"gs://vo_agam_release\",\n",
    "    url=\"simplecache::gs://vo_agam_release\",\n",
    "    # pin the version of the cohorts analysis for reproducibility\n",
    "    cohorts_analysis=cohorts_analysis,\n",
    "    # TODO remove simplecache config in production\n",
    "    simplecache=dict(cache_storage=(here() / \"gcs_cache\").as_posix()),\n",
    "    results_cache=(here() / \"malariagen_data_cache\").as_posix(),\n",
    ")\n",
    "\n",
    "df_samples = ag3.sample_metadata()\n",
    "sample_query = f\"cohort_admin2_quarter == '{cohort_id}'\"\n",
    "df_samples = df_samples.query(sample_query)"
   ]
  },
  {
   "cell_type": "code",
   "execution_count": 12,
   "id": "163249ca",
   "metadata": {
    "tags": [
     "remove-input",
     "remove-output"
    ]
   },
   "outputs": [],
   "source": [
    "def add_empty_months(df, cohort_id):\n",
    "    quarter = cohort_id[-2:]\n",
    "    q_months = {'Q1':[1,2,3],\n",
    "            'Q2':[4,5,6],\n",
    "            'Q3':[7,8,9],\n",
    "            'Q4':[10,11,12]}\n",
    "\n",
    "    year = df.year.unique()\n",
    "    months = df['month'].tolist()\n",
    "    empty_months = list(set(q_months[quarter]) - set(months))\n",
    "    \n",
    "    if empty_months:\n",
    "        for m in empty_months:\n",
    "            df = pd.concat([df, pd.DataFrame({'year': year, 'month': m, 'count': 0})])\n",
    "\n",
    "    return(df, quarter, year[0])\n",
    "\n",
    "df_collection_dates = df_samples.groupby(['year', 'month']).size().reset_index().rename(columns={0: 'count'})\n",
    "df_collection_dates, quarter, year = add_empty_months(df_collection_dates, cohort_id)\n",
    "df_collection_dates['month'] = pd.to_datetime(df_collection_dates['month'], format='%m').dt.month_name().str.slice(stop=3)\n",
    "start_month = df_collection_dates.query(\"count > 0\").month.min()\n",
    "end_month = df_collection_dates.query(\"count > 0\").month.max()\n",
    "\n",
    "n_sites = '???'\n",
    "study_id = 'who knows????'"
   ]
  },
  {
   "cell_type": "code",
   "execution_count": null,
   "id": "3baa1f0d",
   "metadata": {
    "tags": [
     "remove-input"
    ]
   },
   "outputs": [],
   "source": [
    "Markdown(\n",
    "    f\"\"\"\n",
    "    This cohort comprises {cohort['cohort_size']} An. {cohort['taxon']} samples collected from {n_sites} sites within {cohort['admin1_name']} province, {cohort['admin2_name']} region, {cohort['country']}, between {start_month} and {end_month} {cohort['year']}. Samples were contributed by {study_id}. \n",
    "    \"\"\"\n",
    ")"
   ]
  },
  {
   "attachments": {},
   "cell_type": "markdown",
   "id": "518be38c",
   "metadata": {},
   "source": [
    "## Sampling information\n",
    "### Collection locations"
   ]
  },
  {
   "cell_type": "code",
   "execution_count": null,
   "id": "2f8e30da",
   "metadata": {
    "tags": [
     "remove-input"
    ]
   },
   "outputs": [],
   "source": [
    "from ipyleaflet import Map, Marker, basemaps\n",
    "\n",
    "center = cohort[['latitude', 'longitude']].to_list()\n",
    "m = Map(center=center, zoom=9, basemap=basemaps.OpenTopoMap)\n",
    "\n",
    "for coh_id, row in df_samples.iterrows():\n",
    "    lat, long = row[['latitude', 'longitude']]\n",
    "    \n",
    "    if row['taxon'] == 'gambiae':\n",
    "        color= 'red'\n",
    "    elif row['taxon'] == 'coluzzii':\n",
    "        color='cadetblue'\n",
    "    elif row['taxon'] == 'arabiensis':\n",
    "        color='lightgreen'\n",
    "    else: \n",
    "        color='gray'\n",
    "    \n",
    "    marker = Marker(location=(lat, long), draggable=True, opacity=0.7, color=color)\n",
    "    m.add_layer(marker);\n",
    "    \n",
    "    # message2 = HTML()\n",
    "    # message2.value = f'<a href=\"https://github.com/anopheles-genomic-surveillance/selection-atlas\">{coh_id}</a>'\n",
    "    # marker.popup = message2\n",
    "\n",
    "display(m)"
   ]
  },
  {
   "cell_type": "markdown",
   "id": "a1526763",
   "metadata": {},
   "source": [
    "### Collection dates"
   ]
  },
  {
   "cell_type": "code",
   "execution_count": null,
   "id": "c507f968",
   "metadata": {
    "tags": [
     "remove-input"
    ]
   },
   "outputs": [],
   "source": [
    "px.bar(df_collection_dates, x='month', y='count', title=f\"Collection dates {quarter} {year}\")"
   ]
  },
  {
   "cell_type": "code",
   "execution_count": null,
   "id": "6079eb71",
   "metadata": {
    "tags": [
     "remove-input"
    ]
   },
   "outputs": [],
   "source": [
    "# load window sizes \n",
    "calibration_dir = \"build/h12-calibration\"\n",
    "with open(here() / calibration_dir / f\"{cohort_id}.yaml\") as calibration_file:\n",
    "    calibration_params = yaml.safe_load(calibration_file)\n",
    "window_size = calibration_params[\"h12_window_size\"]\n",
    "\n",
    "if cohort.taxon == 'arabiensis':\n",
    "    phasing_analysis = 'arab'\n",
    "else:\n",
    "    phasing_analysis = 'gamb_colu'\n",
    "\n",
    "if cohort.cohort_size > max_cohort_size:\n",
    "    # downsampling for computational efficiency\n",
    "    cohort_size = max_cohort_size\n",
    "else:\n",
    "    # no downsampling\n",
    "    cohort_size = None \n",
    "\n",
    "\n",
    "def plot_h12_ihs_tracks(\n",
    "        contig, \n",
    "        window_size, \n",
    "        phasing_analysis, \n",
    "        sample_sets, \n",
    "        sample_query, \n",
    "        cohort_size, \n",
    "        sizing_mode='stretch_width', \n",
    "        show=False, \n",
    "        width=800, \n",
    "        genes_height=100\n",
    "    ):\n",
    "\n",
    "    fig1 = ag3.plot_h12_gwss_track(\n",
    "        contig=contig, \n",
    "        window_size=window_size, \n",
    "        analysis=phasing_analysis, \n",
    "        sample_sets=sample_sets,\n",
    "        sample_query=sample_query, \n",
    "        cohort_size=cohort_size,\n",
    "        sizing_mode=sizing_mode,\n",
    "        show=show,\n",
    "        width=width,\n",
    "    )\n",
    "    fig1.xaxis.visible = False\n",
    "\n",
    "    fig2 = ag3.plot_h12_gwss_track(\n",
    "        contig=contig, \n",
    "        window_size=window_size, \n",
    "        analysis=phasing_analysis, \n",
    "        sample_sets=sample_sets,\n",
    "        sample_query=sample_query, \n",
    "        cohort_size=cohort_size,\n",
    "        sizing_mode=sizing_mode,\n",
    "        width=width,\n",
    "        show=show,\n",
    "        title=\"\",\n",
    "        x_range=fig1.x_range,\n",
    "    )\n",
    "    fig2.xaxis.visible = False\n",
    "\n",
    "    fig3 = ag3.plot_genes(\n",
    "        region=contig, \n",
    "        show=show,\n",
    "        sizing_mode=sizing_mode,\n",
    "        width=width,\n",
    "        height=genes_height,\n",
    "        x_range=fig1.x_range\n",
    "        )\n",
    "                        \n",
    "    fig = bklay.gridplot(\n",
    "        [fig1, fig2, fig3],\n",
    "        ncols=1,\n",
    "        toolbar_location=\"above\",\n",
    "        merge_tools=True,\n",
    "        sizing_mode=sizing_mode,\n",
    "    )\n",
    "    return(fig)"
   ]
  },
  {
   "attachments": {},
   "cell_type": "markdown",
   "id": "03f02c25",
   "metadata": {},
   "source": [
    "## Selection scans"
   ]
  },
  {
   "cell_type": "markdown",
   "id": "04daf95d",
   "metadata": {},
   "source": [
    "### Chromosome 2RL"
   ]
  },
  {
   "cell_type": "code",
   "execution_count": null,
   "id": "c4bf5a7b",
   "metadata": {
    "tags": [
     "remove-input",
     "remove-output"
    ]
   },
   "outputs": [],
   "source": [
    "fig = plot_h12_ihs_tracks(\n",
    "    contig='2L',\n",
    "    window_size=window_size,\n",
    "    phasing_analysis=phasing_analysis,\n",
    "    sample_sets=sample_sets,\n",
    "    sample_query=sample_query,\n",
    "    cohort_size=cohort_size)"
   ]
  },
  {
   "cell_type": "code",
   "execution_count": null,
   "id": "8f90425a",
   "metadata": {
    "tags": [
     "remove-input"
    ]
   },
   "outputs": [],
   "source": [
    "bkplt.show(fig)"
   ]
  },
  {
   "cell_type": "markdown",
   "id": "3fec71ac",
   "metadata": {},
   "source": [
    "### Chromosome 3RL"
   ]
  },
  {
   "cell_type": "code",
   "execution_count": null,
   "id": "6213941e",
   "metadata": {
    "tags": [
     "remove-input",
     "remove-output"
    ]
   },
   "outputs": [],
   "source": [
    "fig = plot_h12_ihs_tracks(\n",
    "    contig='3L',\n",
    "    window_size=window_size,\n",
    "    phasing_analysis=phasing_analysis,\n",
    "    sample_sets=sample_sets,\n",
    "    sample_query=sample_query,\n",
    "    cohort_size=cohort_size)"
   ]
  },
  {
   "cell_type": "code",
   "execution_count": null,
   "id": "b610d6f0",
   "metadata": {
    "tags": [
     "remove-input"
    ]
   },
   "outputs": [],
   "source": [
    "bkplt.show(fig)"
   ]
  },
  {
   "cell_type": "markdown",
   "id": "c61f4f2e",
   "metadata": {},
   "source": [
    "### Chromosome X "
   ]
  },
  {
   "cell_type": "code",
   "execution_count": null,
   "id": "3c6ba8d0",
   "metadata": {
    "tags": [
     "remove-input",
     "remove-output"
    ]
   },
   "outputs": [],
   "source": [
    "fig = plot_h12_ihs_tracks(\n",
    "    contig='X',\n",
    "    window_size=window_size,\n",
    "    phasing_analysis=phasing_analysis,\n",
    "    sample_sets=sample_sets,\n",
    "    sample_query=sample_query,\n",
    "    cohort_size=cohort_size)"
   ]
  },
  {
   "cell_type": "code",
   "execution_count": null,
   "id": "bb48f82d",
   "metadata": {
    "tags": [
     "remove-input"
    ]
   },
   "outputs": [],
   "source": [
    "bkplt.show(fig)"
   ]
  },
  {
   "attachments": {},
   "cell_type": "markdown",
   "id": "d53794f4",
   "metadata": {},
   "source": [
    "## Diagnostics\n",
    "### H12 calibration"
   ]
  },
  {
   "cell_type": "code",
   "execution_count": null,
   "id": "d1c173f3",
   "metadata": {
    "tags": [
     "remove-input"
    ]
   },
   "outputs": [],
   "source": [
    "window_sizes = (100, 200, 500, 1000, 2000, 5000, 10000, 20000)\n",
    "\n",
    "ag3.plot_h12_calibration(\n",
    "    contig=h12_calibration_contig,\n",
    "    analysis=phasing_analysis,\n",
    "    sample_sets=sample_sets,\n",
    "    sample_query=sample_query,\n",
    "    cohort_size=cohort_size,\n",
    "    window_sizes=window_sizes,\n",
    ")"
   ]
  }
 ],
 "metadata": {
  "celltoolbar": "Tags",
  "kernelspec": {
   "display_name": "Python 3 (ipykernel)",
   "language": "python",
   "name": "python3"
  },
  "language_info": {
   "codemirror_mode": {
    "name": "ipython",
    "version": 3
   },
   "file_extension": ".py",
   "mimetype": "text/x-python",
   "name": "python",
   "nbconvert_exporter": "python",
   "pygments_lexer": "ipython3",
   "version": "3.7.12"
  }
 },
 "nbformat": 4,
 "nbformat_minor": 5
}

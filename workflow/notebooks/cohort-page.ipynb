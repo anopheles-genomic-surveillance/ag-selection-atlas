{
 "cells": [
  {
   "cell_type": "code",
   "execution_count": null,
   "id": "76d2e44c",
   "metadata": {
    "tags": [
     "parameters",
     "remove-input"
    ]
   },
   "outputs": [],
   "source": [
    "# Notebook parameters. Values here are for development only and \n",
    "# will be overridden when running via snakemake and papermill.\n",
    "cohort_id = 'BF-09_Houet_colu_2012_Q3'\n",
    "cohorts_analysis = \"20230223\"\n",
    "contigs = ['3L']\n",
    "sample_sets = \"3.0\"\n",
    "min_cohort_size = 20\n",
    "max_cohort_size = 50\n",
    "h12_calibration_contig = '3L'\n",
    "use_gcs_cache = False\n",
    "dask_scheduler = \"threads\""
   ]
  },
  {
   "cell_type": "code",
   "execution_count": null,
   "id": "ead60adb",
   "metadata": {
    "tags": [
     "remove-input"
    ]
   },
   "outputs": [],
   "source": [
    "from IPython.display import Markdown, HTML\n",
    "import malariagen_data\n",
    "import pandas as pd\n",
    "from pyprojroot import here\n",
    "import yaml\n",
    "import dask\n",
    "dask.config.set(scheduler=dask_scheduler);\n",
    "\n",
    "import geopandas as gpd\n",
    "import bokeh.layouts as bklay\n",
    "import bokeh.plotting as bkplt\n",
    "import plotly.express as px\n",
    "\n",
    "from bokeh.io import output_notebook # enables plot interface in J notebook\n",
    "\n",
    "# N.B., do not add the \"remove-output\" tag to this cell!!! If you do,\n",
    "# the bokeh javascript libraries will not get loaded in the generated\n",
    "# HTML page. The call to output_notebook() injects javascript in the\n",
    "# cell output which triggers the bokeh javascript libraries to be loaded\n",
    "# in the page.\n",
    "output_notebook(hide_banner=True)"
   ]
  },
  {
   "cell_type": "markdown",
   "id": "3a98f014",
   "metadata": {},
   "source": []
  },
  {
   "cell_type": "code",
   "execution_count": null,
   "id": "80879436",
   "metadata": {
    "tags": [
     "remove-input",
     "remove-output"
    ]
   },
   "outputs": [],
   "source": [
    "# load cohorts to find sample query \n",
    "df_cohorts = gpd.read_file(here() / \"build\" / \"final_cohorts.geojson\").set_index(\"cohort_id\")\n",
    "cohort = df_cohorts.loc[cohort_id]\n",
    "cohort"
   ]
  },
  {
   "cell_type": "code",
   "execution_count": null,
   "id": "9ba3b9c2-1770-40d6-abdc-1bec128ba253",
   "metadata": {
    "tags": [
     "remove-input",
     "remove-output"
    ]
   },
   "outputs": [],
   "source": [
    "extra_params = dict()\n",
    "if use_gcs_cache:\n",
    "    extra_params[\"url\"] = \"simplecache::gs://vo_agam_release\"\n",
    "    extra_params[\"simplecache\"] = dict(cache_storage=(here() / \"gcs_cache\").as_posix())\n",
    "\n",
    "ag3 = malariagen_data.Ag3(\n",
    "    # pin the version of the cohorts analysis for reproducibility\n",
    "    cohorts_analysis=cohorts_analysis,\n",
    "    results_cache=(here() / \"malariagen_data_cache\").as_posix(),\n",
    "    **extra_params,\n",
    ")\n",
    "ag3"
   ]
  },
  {
   "cell_type": "code",
   "execution_count": null,
   "id": "4f6eba43-18e2-4185-95f1-c745d6092559",
   "metadata": {
    "tags": [
     "remove-input",
     "remove-output"
    ]
   },
   "outputs": [],
   "source": [
    "df_samples = ag3.sample_metadata()\n",
    "df_samples = df_samples.query(cohort['sample_query'])"
   ]
  },
  {
   "cell_type": "code",
   "execution_count": null,
   "id": "163249ca",
   "metadata": {
    "tags": [
     "remove-input",
     "remove-output"
    ]
   },
   "outputs": [],
   "source": [
    "def add_empty_months(df, cohort_id):\n",
    "    quarter = cohort_id[-2:]\n",
    "    q_months = {'Q1':[1,2,3],\n",
    "            'Q2':[4,5,6],\n",
    "            'Q3':[7,8,9],\n",
    "            'Q4':[10,11,12]}\n",
    "    \n",
    "    year = df.year.unique()\n",
    "    months = df['month'].tolist()\n",
    "    empty_months = list(set(q_months[quarter]) - set(months))\n",
    "    \n",
    "    if empty_months:\n",
    "        for m in empty_months:\n",
    "            df = pd.concat([df, pd.DataFrame({'year': year, 'month': m, 'count': 0})])\n",
    "\n",
    "    return(df, quarter, year[0])\n",
    "\n",
    "df_collection_dates = df_samples.groupby(['year', 'month']).size().reset_index().rename(columns={0: 'count'})\n",
    "if df_collection_dates['month'].unique()[0] == -1:\n",
    "    month_collections = False\n",
    "else:\n",
    "    month_collections = True\n",
    "    df_collection_dates, quarter, year = add_empty_months(df_collection_dates, cohort_id)\n",
    "    df_collection_dates['month'] = pd.to_datetime(df_collection_dates['month'], format='%m').dt.month_name()\n",
    "    start_month = df_collection_dates.query(\"count > 0\").month.min()\n",
    "    end_month = df_collection_dates.query(\"count > 0\").month.max()"
   ]
  },
  {
   "cell_type": "code",
   "execution_count": null,
   "id": "3baa1f0d",
   "metadata": {
    "tags": [
     "remove-input"
    ]
   },
   "outputs": [],
   "source": [
    "n_sites = '???'\n",
    "study_id = 'who knows????'\n",
    "\n",
    "if month_collections:\n",
    "    display(Markdown(\n",
    "        f\"\"\"This cohort comprises {cohort['cohort_size']} An. {cohort['taxon']} samples \n",
    "        collected from {n_sites} sites within {cohort['admin1_name']} province, \n",
    "        {cohort['admin2_name']} region, {cohort['country']}, between {start_month} \n",
    "        and {end_month} {cohort['year']}. Samples were contributed by {study_id}.\"\"\"))\n",
    "else:\n",
    "    display(Markdown(\n",
    "        f\"\"\"This cohort comprises {cohort['cohort_size']} An. {cohort['taxon']} samples \n",
    "        collected from {n_sites} sites within {cohort['admin1_name']} province, \n",
    "        {cohort['admin2_name']} region, {cohort['country']} in {cohort['year']}. \n",
    "        Samples were contributed by {study_id}.\"\"\"))\n"
   ]
  },
  {
   "cell_type": "markdown",
   "id": "518be38c",
   "metadata": {},
   "source": [
    "## Sampling information\n",
    "### Collection locations"
   ]
  },
  {
   "cell_type": "code",
   "execution_count": null,
   "id": "2f8e30da",
   "metadata": {
    "tags": [
     "remove-input"
    ]
   },
   "outputs": [],
   "source": [
    "from ipyleaflet import Map, Marker, basemaps\n",
    "\n",
    "center = cohort[['latitude', 'longitude']].to_list()\n",
    "m = Map(center=center, zoom=9, basemap=basemaps.OpenTopoMap)\n",
    "\n",
    "for coh_id, row in df_samples.iterrows():\n",
    "    lat, long = row[['latitude', 'longitude']]\n",
    "    \n",
    "    if row['taxon'] == 'gambiae':\n",
    "        color= 'red'\n",
    "    elif row['taxon'] == 'coluzzii':\n",
    "        color='cadetblue'\n",
    "    elif row['taxon'] == 'arabiensis':\n",
    "        color='lightgreen'\n",
    "    else: \n",
    "        color='gray'\n",
    "\n",
    "    marker = Marker(location=(lat, long), draggable=True, opacity=0.7, color=color)\n",
    "    m.add_layer(marker);\n",
    "\n",
    "display(m)"
   ]
  },
  {
   "cell_type": "markdown",
   "id": "a1526763",
   "metadata": {},
   "source": [
    "### Collection dates"
   ]
  },
  {
   "cell_type": "code",
   "execution_count": null,
   "id": "c507f968",
   "metadata": {
    "tags": [
     "remove-input"
    ]
   },
   "outputs": [],
   "source": [
    "if month_collections:\n",
    "    fig = px.bar(df_collection_dates, x='month', y='count', title=f\"Collection dates {quarter} {year}\")\n",
    "    display(fig)\n",
    "else:\n",
    "    display(Markdown(\"No per-month collection data exists for this cohort.\"))"
   ]
  },
  {
   "cell_type": "markdown",
   "id": "03f02c25",
   "metadata": {},
   "source": [
    "## Selection scans"
   ]
  },
  {
   "cell_type": "code",
   "execution_count": null,
   "id": "6079eb71",
   "metadata": {
    "tags": [
     "remove-input"
    ]
   },
   "outputs": [],
   "source": [
    "# load window sizes \n",
    "calibration_dir = \"build/h12-calibration\"\n",
    "with open(here() / calibration_dir / f\"{cohort_id}.yaml\") as calibration_file:\n",
    "    calibration_params = yaml.safe_load(calibration_file)\n",
    "window_size = calibration_params[\"h12_window_size\"]\n",
    "\n",
    "if cohort.taxon == 'arabiensis':\n",
    "    phasing_analysis = 'arab'\n",
    "else:\n",
    "    phasing_analysis = 'gamb_colu'\n",
    "\n",
    "ihs_window_size = 100\n",
    "\n",
    "def plot_h12_g123_ihs_tracks(\n",
    "        contig, \n",
    "        window_size, \n",
    "        ihs_window_size,\n",
    "        phasing_analysis, \n",
    "        sample_sets, \n",
    "        sample_query, \n",
    "        min_cohort_size,\n",
    "        max_cohort_size,\n",
    "        sizing_mode='stretch_width', \n",
    "        show=False, \n",
    "        width=800, \n",
    "        genes_height=100\n",
    "    ):\n",
    "\n",
    "    fig1 = ag3.plot_h12_gwss_track(\n",
    "        contig=contig, \n",
    "        window_size=window_size, \n",
    "        analysis=phasing_analysis, \n",
    "        sample_sets=sample_sets,\n",
    "        sample_query=sample_query, \n",
    "        min_cohort_size=min_cohort_size,\n",
    "        max_cohort_size=max_cohort_size,\n",
    "        sizing_mode=sizing_mode,\n",
    "        show=show,\n",
    "        width=width,\n",
    "    )\n",
    "    fig1.xaxis.visible = False\n",
    "\n",
    "    fig2 = ag3.plot_g123_gwss_track(\n",
    "        contig=contig, \n",
    "        # TODO Calibrate G123 window size separately?\n",
    "        window_size=window_size, \n",
    "        site_mask=phasing_analysis, \n",
    "        sample_sets=sample_sets,\n",
    "        sample_query=sample_query, \n",
    "        min_cohort_size=min_cohort_size,\n",
    "        max_cohort_size=max_cohort_size,\n",
    "        sizing_mode=sizing_mode,\n",
    "        width=width,\n",
    "        show=show,\n",
    "        title=\"\",\n",
    "        x_range=fig1.x_range,\n",
    "    )\n",
    "    fig2.xaxis.visible = False\n",
    "\n",
    "    fig3 = ag3.plot_ihs_gwss_track(\n",
    "        contig=contig, \n",
    "        window_size=ihs_window_size, \n",
    "        analysis=phasing_analysis, \n",
    "        sample_sets=sample_sets,\n",
    "        sample_query=sample_query, \n",
    "        min_cohort_size=min_cohort_size,\n",
    "        max_cohort_size=max_cohort_size,\n",
    "        sizing_mode=sizing_mode,\n",
    "        width=width,\n",
    "        show=show,\n",
    "        title=\"\",\n",
    "        x_range=fig1.x_range,\n",
    "    )\n",
    "    fig3.xaxis.visible = False\n",
    "\n",
    "\n",
    "    fig4 = ag3.plot_genes(\n",
    "        region=contig, \n",
    "        show=show,\n",
    "        sizing_mode=sizing_mode,\n",
    "        width=width,\n",
    "        height=genes_height,\n",
    "        x_range=fig1.x_range\n",
    "        )\n",
    "                        \n",
    "    fig = bklay.gridplot(\n",
    "        [fig1, fig2, fig3, fig4],\n",
    "        ncols=1,\n",
    "        toolbar_location=\"above\",\n",
    "        merge_tools=True,\n",
    "        sizing_mode=sizing_mode,\n",
    "    )\n",
    "    return fig "
   ]
  },
  {
   "cell_type": "code",
   "execution_count": null,
   "id": "cfe11b4e-aa4c-4256-ab93-503299f63ecc",
   "metadata": {
    "tags": []
   },
   "outputs": [],
   "source": [
    "for contig in contigs:\n",
    "    \n",
    "    display(HTML(f\"<h3>Chromosome {contig}</h3>\"))\n",
    "    \n",
    "    fig = plot_h12_g123_ihs_tracks(\n",
    "        contig=contig,\n",
    "        window_size=window_size,\n",
    "        ihs_window_size=ihs_window_size,\n",
    "        phasing_analysis=phasing_analysis,\n",
    "        sample_sets=sample_sets,\n",
    "        sample_query=cohort['sample_query'],\n",
    "        min_cohort_size=min_cohort_size,\n",
    "        max_cohort_size=max_cohort_size,\n",
    "    );\n",
    "\n",
    "    bkplt.show(fig)\n"
   ]
  },
  {
   "cell_type": "markdown",
   "id": "d53794f4",
   "metadata": {},
   "source": [
    "## Diagnostics\n",
    "### H12 calibration"
   ]
  },
  {
   "cell_type": "code",
   "execution_count": null,
   "id": "d1c173f3",
   "metadata": {
    "tags": [
     "remove-input"
    ]
   },
   "outputs": [],
   "source": [
    "window_sizes = (100, 200, 500, 1000, 2000, 5000, 10000, 20000)\n",
    "\n",
    "ag3.plot_h12_calibration(\n",
    "    contig=h12_calibration_contig,\n",
    "    analysis=phasing_analysis,\n",
    "    sample_sets=sample_sets,\n",
    "    sample_query=cohort['sample_query'],\n",
    "    min_cohort_size=min_cohort_size,\n",
    "    max_cohort_size=max_cohort_size,\n",
    "    window_sizes=window_sizes,\n",
    ");"
   ]
  },
  {
   "cell_type": "markdown",
   "id": "8d836cf6",
   "metadata": {},
   "source": [
    "### G123 Calibration"
   ]
  },
  {
   "cell_type": "code",
   "execution_count": null,
   "id": "63f8c0b4",
   "metadata": {
    "tags": [
     "remove-input"
    ]
   },
   "outputs": [],
   "source": [
    "# ag3.plot_g123_calibration(\n",
    "#     contig=h12_calibration_contig,\n",
    "#     sites=phasing_analysis,\n",
    "#     site_mask=phasing_analysis,\n",
    "#     sample_sets=sample_sets,\n",
    "#     sample_query=cohort['sample_query'],\n",
    "#     min_cohort_size=min_cohort_size,\n",
    "#     max_cohort_size=max_cohort_size,\n",
    "#     window_sizes=window_sizes,\n",
    "# );"
   ]
  },
  {
   "cell_type": "code",
   "execution_count": null,
   "id": "695d93f6-dc32-4e6c-b2b7-e316139f2d80",
   "metadata": {},
   "outputs": [],
   "source": [
    "print(\"TODO\")"
   ]
  },
  {
   "cell_type": "code",
   "execution_count": null,
   "id": "cd4e3b78",
   "metadata": {},
   "outputs": [],
   "source": []
  }
 ],
 "metadata": {
  "celltoolbar": "Tags",
  "kernelspec": {
   "display_name": "selection-atlas",
   "language": "python",
   "name": "selection-atlas"
  },
  "language_info": {
   "codemirror_mode": {
    "name": "ipython",
    "version": 3
   },
   "file_extension": ".py",
   "mimetype": "text/x-python",
   "name": "python",
   "nbconvert_exporter": "python",
   "pygments_lexer": "ipython3",
   "version": "3.10.11"
  }
 },
 "nbformat": 4,
 "nbformat_minor": 5
}

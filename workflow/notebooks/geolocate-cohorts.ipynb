{
 "cells": [
  {
   "cell_type": "markdown",
   "id": "a622358e-9374-46a6-891b-854aecb5f015",
   "metadata": {},
   "source": [
    "# Obtain geographical data for cohorts\n",
    "\n",
    "Here we obtain representative cohorts for administrative units and add to the cohorts dataframe."
   ]
  },
  {
   "cell_type": "code",
   "execution_count": 1,
   "id": "1308bee2-d4e3-4639-8a28-ac40bfcca719",
   "metadata": {
    "tags": []
   },
   "outputs": [],
   "source": [
    "import pandas as pd\n",
    "from pyprojroot import here\n",
    "import geopandas as gpd\n",
    "import iso3166\n",
    "import functools"
   ]
  },
  {
   "cell_type": "code",
   "execution_count": 2,
   "id": "9c76c9ff-ea1f-4fa0-8424-5d8669b52e89",
   "metadata": {
    "tags": []
   },
   "outputs": [
    {
     "data": {
      "text/html": [
       "<div>\n",
       "<style scoped>\n",
       "    .dataframe tbody tr th:only-of-type {\n",
       "        vertical-align: middle;\n",
       "    }\n",
       "\n",
       "    .dataframe tbody tr th {\n",
       "        vertical-align: top;\n",
       "    }\n",
       "\n",
       "    .dataframe thead th {\n",
       "        text-align: right;\n",
       "    }\n",
       "</style>\n",
       "<table border=\"1\" class=\"dataframe\">\n",
       "  <thead>\n",
       "    <tr style=\"text-align: right;\">\n",
       "      <th></th>\n",
       "      <th>cohort_id</th>\n",
       "      <th>cohort_size</th>\n",
       "      <th>country</th>\n",
       "      <th>admin1_iso</th>\n",
       "      <th>admin1_name</th>\n",
       "      <th>admin2_name</th>\n",
       "      <th>taxon</th>\n",
       "      <th>year</th>\n",
       "      <th>quarter</th>\n",
       "      <th>cohort_label</th>\n",
       "      <th>sample_query</th>\n",
       "      <th>latitude</th>\n",
       "      <th>longitude</th>\n",
       "      <th>h12_window_size</th>\n",
       "    </tr>\n",
       "  </thead>\n",
       "  <tbody>\n",
       "    <tr>\n",
       "      <th>0</th>\n",
       "      <td>ML-2_Kati_colu_2014_Q3</td>\n",
       "      <td>27</td>\n",
       "      <td>Mali</td>\n",
       "      <td>ML-2</td>\n",
       "      <td>Koulikouro</td>\n",
       "      <td>Kati</td>\n",
       "      <td>coluzzii</td>\n",
       "      <td>2014</td>\n",
       "      <td>3</td>\n",
       "      <td>Mali / Kati / coluzzii / 2014 / Q3</td>\n",
       "      <td>cohort_admin2_quarter == 'ML-2_Kati_colu_2014_...</td>\n",
       "      <td>12.875556</td>\n",
       "      <td>-8.137778</td>\n",
       "      <td>1000</td>\n",
       "    </tr>\n",
       "    <tr>\n",
       "      <th>1</th>\n",
       "      <td>ML-2_Kati_gamb_2014_Q3</td>\n",
       "      <td>24</td>\n",
       "      <td>Mali</td>\n",
       "      <td>ML-2</td>\n",
       "      <td>Koulikouro</td>\n",
       "      <td>Kati</td>\n",
       "      <td>gambiae</td>\n",
       "      <td>2014</td>\n",
       "      <td>3</td>\n",
       "      <td>Mali / Kati / gambiae / 2014 / Q3</td>\n",
       "      <td>cohort_admin2_quarter == 'ML-2_Kati_gamb_2014_...</td>\n",
       "      <td>12.888788</td>\n",
       "      <td>-8.149091</td>\n",
       "      <td>2000</td>\n",
       "    </tr>\n",
       "  </tbody>\n",
       "</table>\n",
       "</div>"
      ],
      "text/plain": [
       "                cohort_id  cohort_size country admin1_iso admin1_name  \\\n",
       "0  ML-2_Kati_colu_2014_Q3           27    Mali       ML-2  Koulikouro   \n",
       "1  ML-2_Kati_gamb_2014_Q3           24    Mali       ML-2  Koulikouro   \n",
       "\n",
       "  admin2_name     taxon  year  quarter                        cohort_label  \\\n",
       "0        Kati  coluzzii  2014        3  Mali / Kati / coluzzii / 2014 / Q3   \n",
       "1        Kati   gambiae  2014        3   Mali / Kati / gambiae / 2014 / Q3   \n",
       "\n",
       "                                        sample_query   latitude  longitude  \\\n",
       "0  cohort_admin2_quarter == 'ML-2_Kati_colu_2014_...  12.875556  -8.137778   \n",
       "1  cohort_admin2_quarter == 'ML-2_Kati_gamb_2014_...  12.888788  -8.149091   \n",
       "\n",
       "   h12_window_size  \n",
       "0             1000  \n",
       "1             2000  "
      ]
     },
     "execution_count": 2,
     "metadata": {},
     "output_type": "execute_result"
    }
   ],
   "source": [
    "# load cohorts to find sample query \n",
    "df_cohorts = pd.read_csv(here() / \"build\" / \"final_cohorts.csv\")\n",
    "df_cohorts.head()"
   ]
  },
  {
   "cell_type": "markdown",
   "id": "a3214bbe-e174-476f-a883-5381087860ad",
   "metadata": {},
   "source": [
    "## Add ISO3166-1 3-letter country codes\n",
    "\n",
    "We need 3-letter country codes in order to locate geoboundaries data."
   ]
  },
  {
   "cell_type": "code",
   "execution_count": 3,
   "id": "e0b3f9ae-f121-442c-b19f-476212a23057",
   "metadata": {
    "tags": []
   },
   "outputs": [
    {
     "data": {
      "text/plain": [
       "array(['Mali'], dtype=object)"
      ]
     },
     "execution_count": 3,
     "metadata": {},
     "output_type": "execute_result"
    }
   ],
   "source": [
    "countries = df_cohorts[\"country\"].unique()\n",
    "countries"
   ]
  },
  {
   "cell_type": "code",
   "execution_count": 4,
   "id": "7f44cb94-70fc-48fa-871f-4dcb6ed01d09",
   "metadata": {
    "tags": []
   },
   "outputs": [
    {
     "data": {
      "text/plain": [
       "1"
      ]
     },
     "execution_count": 4,
     "metadata": {},
     "output_type": "execute_result"
    }
   ],
   "source": [
    "len(countries)"
   ]
  },
  {
   "cell_type": "code",
   "execution_count": 5,
   "id": "62331080-266e-423f-8b9a-c8e1505fbc6e",
   "metadata": {
    "tags": []
   },
   "outputs": [],
   "source": [
    "# some countries known by a different name\n",
    "countries_by_name = iso3166.countries_by_name\n",
    "countries_by_name[\"Democratic Republic of the Congo\".upper()] = iso3166.countries_by_alpha3[\"COD\"]\n",
    "countries_by_name[\"Cote d'Ivoire\".upper()] = iso3166.countries_by_alpha3[\"CIV\"]\n",
    "countries_by_name[\"Gambia, The\".upper()] = iso3166.countries_by_alpha3[\"GMB\"]\n",
    "countries_by_name[\"Tanzania\".upper()] = iso3166.countries_by_alpha3[\"TZA\"]"
   ]
  },
  {
   "cell_type": "code",
   "execution_count": 6,
   "id": "98bd2df0-3835-41f2-96e9-c060f9610f6d",
   "metadata": {
    "tags": []
   },
   "outputs": [],
   "source": [
    "# add columns to the cohorts dataframe\n",
    "df_cohorts[\"country_alpha2\"] = df_cohorts.apply(\n",
    "    lambda row: countries_by_name[row.country.upper()].alpha2,\n",
    "    axis=\"columns\"\n",
    ")\n",
    "\n",
    "df_cohorts[\"country_alpha3\"] = df_cohorts.apply(\n",
    "    lambda row: countries_by_name[row.country.upper()].alpha3,\n",
    "    axis=\"columns\"\n",
    ")"
   ]
  },
  {
   "cell_type": "code",
   "execution_count": 7,
   "id": "20bb43a9-7e14-464e-9d93-7e02dec28dbd",
   "metadata": {
    "tags": []
   },
   "outputs": [
    {
     "data": {
      "text/html": [
       "<div>\n",
       "<style scoped>\n",
       "    .dataframe tbody tr th:only-of-type {\n",
       "        vertical-align: middle;\n",
       "    }\n",
       "\n",
       "    .dataframe tbody tr th {\n",
       "        vertical-align: top;\n",
       "    }\n",
       "\n",
       "    .dataframe thead th {\n",
       "        text-align: right;\n",
       "    }\n",
       "</style>\n",
       "<table border=\"1\" class=\"dataframe\">\n",
       "  <thead>\n",
       "    <tr style=\"text-align: right;\">\n",
       "      <th></th>\n",
       "      <th>country</th>\n",
       "      <th>country_alpha2</th>\n",
       "      <th>country_alpha3</th>\n",
       "    </tr>\n",
       "  </thead>\n",
       "  <tbody>\n",
       "    <tr>\n",
       "      <th>0</th>\n",
       "      <td>Mali</td>\n",
       "      <td>ML</td>\n",
       "      <td>MLI</td>\n",
       "    </tr>\n",
       "    <tr>\n",
       "      <th>1</th>\n",
       "      <td>Mali</td>\n",
       "      <td>ML</td>\n",
       "      <td>MLI</td>\n",
       "    </tr>\n",
       "  </tbody>\n",
       "</table>\n",
       "</div>"
      ],
      "text/plain": [
       "  country country_alpha2 country_alpha3\n",
       "0    Mali             ML            MLI\n",
       "1    Mali             ML            MLI"
      ]
     },
     "execution_count": 7,
     "metadata": {},
     "output_type": "execute_result"
    }
   ],
   "source": [
    "df_cohorts[[\"country\", \"country_alpha2\", \"country_alpha3\"]].head()"
   ]
  },
  {
   "cell_type": "markdown",
   "id": "8a7d5add-c5bc-496e-b0db-1ddc606e3ff8",
   "metadata": {},
   "source": [
    "## Join with geoboundaries data"
   ]
  },
  {
   "cell_type": "code",
   "execution_count": 8,
   "id": "f4f250bc-0b03-41af-b813-39b5166e1e6d",
   "metadata": {
    "tags": []
   },
   "outputs": [],
   "source": [
    "adm2_geojson_url_template = \"https://github.com/wmgeolab/geoBoundaries/raw/v5.0.0/releaseData/gbOpen/{country_alpha3}/ADM2/geoBoundaries-{country_alpha3}-ADM2_simplified.geojson\""
   ]
  },
  {
   "cell_type": "code",
   "execution_count": 9,
   "id": "7ec52d66-1d0f-407a-8e59-b43527a7f8ac",
   "metadata": {
    "tags": []
   },
   "outputs": [],
   "source": [
    "@functools.lru_cache(maxsize=None)\n",
    "def read_adm2(country_alpha3):\n",
    "    df = gpd.read_file(adm2_geojson_url_template.format(country_alpha3=country_alpha3))\n",
    "    return df"
   ]
  },
  {
   "cell_type": "code",
   "execution_count": 10,
   "id": "e06b9b9b-4dd9-45bb-8527-102369043efa",
   "metadata": {
    "tags": []
   },
   "outputs": [],
   "source": [
    "def country_cohorts_geo(country_alpha3, alias=None):\n",
    "    \"\"\"Join cohorts dataframe with admin 2 unit geometry.\"\"\"\n",
    "    \n",
    "    # read the geoboundaries data\n",
    "    gdf_geo = read_adm2(country_alpha3)\n",
    "    \n",
    "    # subset cohorts to country\n",
    "    df_coh = (\n",
    "        df_cohorts\n",
    "        .query(f\"country_alpha3 == '{country_alpha3}'\")\n",
    "        .copy()\n",
    "    )\n",
    "    \n",
    "    # deal with admin2 name aliases\n",
    "    if alias is not None:\n",
    "        df_coh[\"admin2_name\"].replace(alias, inplace=True)\n",
    "            \n",
    "    # join dataframes\n",
    "    gdf_ret = gpd.GeoDataFrame(\n",
    "        df_coh.merge(\n",
    "            gdf_geo, \n",
    "            left_on=[\"country_alpha3\", \"admin2_name\"],\n",
    "            right_on=[\"shapeGroup\", \"shapeName\"],\n",
    "            how=\"left\",\n",
    "        )\n",
    "    )\n",
    "    \n",
    "    # confirm no missing data\n",
    "    loc_missing = gdf_ret[\"shapeID\"].isna()\n",
    "    if loc_missing.any():\n",
    "        print(\n",
    "            \"ERROR\",\n",
    "            country_alpha3,\n",
    "            gdf_ret.iloc[loc_missing.values][\"admin2_name\"].unique()\n",
    "        )\n",
    "        \n",
    "    # add representative point\n",
    "    point = gdf_ret.representative_point()\n",
    "    gdf_ret[\"representative_lon\"] = point.x\n",
    "    gdf_ret[\"representative_lat\"] = point.y\n",
    "    \n",
    "    \n",
    "    return gdf_ret"
   ]
  },
  {
   "cell_type": "code",
   "execution_count": 11,
   "id": "c025b163-04c5-47c2-a22d-f36971abe537",
   "metadata": {
    "tags": []
   },
   "outputs": [
    {
     "data": {
      "text/plain": [
       "array(['MLI'], dtype=object)"
      ]
     },
     "execution_count": 11,
     "metadata": {},
     "output_type": "execute_result"
    }
   ],
   "source": [
    "country_codes = df_cohorts[\"country_alpha3\"].unique()\n",
    "country_codes"
   ]
  },
  {
   "cell_type": "code",
   "execution_count": 12,
   "id": "7e31e63c-aca5-4faf-aaa5-d71f1c894ea9",
   "metadata": {
    "tags": []
   },
   "outputs": [
    {
     "data": {
      "text/html": [
       "<div>\n",
       "<style scoped>\n",
       "    .dataframe tbody tr th:only-of-type {\n",
       "        vertical-align: middle;\n",
       "    }\n",
       "\n",
       "    .dataframe tbody tr th {\n",
       "        vertical-align: top;\n",
       "    }\n",
       "\n",
       "    .dataframe thead th {\n",
       "        text-align: right;\n",
       "    }\n",
       "</style>\n",
       "<table border=\"1\" class=\"dataframe\">\n",
       "  <thead>\n",
       "    <tr style=\"text-align: right;\">\n",
       "      <th></th>\n",
       "      <th>cohort_id</th>\n",
       "      <th>cohort_size</th>\n",
       "      <th>country</th>\n",
       "      <th>admin1_iso</th>\n",
       "      <th>admin1_name</th>\n",
       "      <th>admin2_name</th>\n",
       "      <th>taxon</th>\n",
       "      <th>year</th>\n",
       "      <th>quarter</th>\n",
       "      <th>cohort_label</th>\n",
       "      <th>...</th>\n",
       "      <th>country_alpha2</th>\n",
       "      <th>country_alpha3</th>\n",
       "      <th>shapeName</th>\n",
       "      <th>shapeISO</th>\n",
       "      <th>shapeID</th>\n",
       "      <th>shapeGroup</th>\n",
       "      <th>shapeType</th>\n",
       "      <th>geometry</th>\n",
       "      <th>representative_lon</th>\n",
       "      <th>representative_lat</th>\n",
       "    </tr>\n",
       "  </thead>\n",
       "  <tbody>\n",
       "    <tr>\n",
       "      <th>0</th>\n",
       "      <td>ML-2_Kati_colu_2014_Q3</td>\n",
       "      <td>27</td>\n",
       "      <td>Mali</td>\n",
       "      <td>ML-2</td>\n",
       "      <td>Koulikouro</td>\n",
       "      <td>Kati</td>\n",
       "      <td>coluzzii</td>\n",
       "      <td>2014</td>\n",
       "      <td>3</td>\n",
       "      <td>Mali / Kati / coluzzii / 2014 / Q3</td>\n",
       "      <td>...</td>\n",
       "      <td>ML</td>\n",
       "      <td>MLI</td>\n",
       "      <td>Kati</td>\n",
       "      <td></td>\n",
       "      <td>8926073B54119460885487</td>\n",
       "      <td>MLI</td>\n",
       "      <td>ADM2</td>\n",
       "      <td>POLYGON ((-9.04476 12.42636, -9.02295 12.41940...</td>\n",
       "      <td>-8.426097</td>\n",
       "      <td>12.598369</td>\n",
       "    </tr>\n",
       "    <tr>\n",
       "      <th>1</th>\n",
       "      <td>ML-2_Kati_gamb_2014_Q3</td>\n",
       "      <td>24</td>\n",
       "      <td>Mali</td>\n",
       "      <td>ML-2</td>\n",
       "      <td>Koulikouro</td>\n",
       "      <td>Kati</td>\n",
       "      <td>gambiae</td>\n",
       "      <td>2014</td>\n",
       "      <td>3</td>\n",
       "      <td>Mali / Kati / gambiae / 2014 / Q3</td>\n",
       "      <td>...</td>\n",
       "      <td>ML</td>\n",
       "      <td>MLI</td>\n",
       "      <td>Kati</td>\n",
       "      <td></td>\n",
       "      <td>8926073B54119460885487</td>\n",
       "      <td>MLI</td>\n",
       "      <td>ADM2</td>\n",
       "      <td>POLYGON ((-9.04476 12.42636, -9.02295 12.41940...</td>\n",
       "      <td>-8.426097</td>\n",
       "      <td>12.598369</td>\n",
       "    </tr>\n",
       "  </tbody>\n",
       "</table>\n",
       "<p>2 rows × 24 columns</p>\n",
       "</div>"
      ],
      "text/plain": [
       "                cohort_id  cohort_size country admin1_iso admin1_name  \\\n",
       "0  ML-2_Kati_colu_2014_Q3           27    Mali       ML-2  Koulikouro   \n",
       "1  ML-2_Kati_gamb_2014_Q3           24    Mali       ML-2  Koulikouro   \n",
       "\n",
       "  admin2_name     taxon  year  quarter                        cohort_label  \\\n",
       "0        Kati  coluzzii  2014        3  Mali / Kati / coluzzii / 2014 / Q3   \n",
       "1        Kati   gambiae  2014        3   Mali / Kati / gambiae / 2014 / Q3   \n",
       "\n",
       "   ... country_alpha2  country_alpha3  shapeName  shapeISO  \\\n",
       "0  ...             ML             MLI       Kati             \n",
       "1  ...             ML             MLI       Kati             \n",
       "\n",
       "                  shapeID shapeGroup shapeType  \\\n",
       "0  8926073B54119460885487        MLI      ADM2   \n",
       "1  8926073B54119460885487        MLI      ADM2   \n",
       "\n",
       "                                            geometry representative_lon  \\\n",
       "0  POLYGON ((-9.04476 12.42636, -9.02295 12.41940...          -8.426097   \n",
       "1  POLYGON ((-9.04476 12.42636, -9.02295 12.41940...          -8.426097   \n",
       "\n",
       "  representative_lat  \n",
       "0          12.598369  \n",
       "1          12.598369  \n",
       "\n",
       "[2 rows x 24 columns]"
      ]
     },
     "execution_count": 12,
     "metadata": {},
     "output_type": "execute_result"
    }
   ],
   "source": [
    "# define aliases because cohorts were originally defined\n",
    "# using geoboundaries v3, but here we are using v5\n",
    "adm2_alias = {\n",
    "    \n",
    "    # CMR - Cameroon\n",
    "    \"Lom-Et-Djérem\": \"Lom-Et-Djerem\",\n",
    "    \n",
    "    # GHA - Ghana\n",
    "    \"Twifu Heman/Lower Denkyira\": \"Twifo Hemang Lower Denkyira\",\n",
    "    # N.B., this is a hack, New Juaben has been split into two\n",
    "    # districts. But in Ag3.0 we only have data from Koforidua\n",
    "    # which is the capital of New Juaben South.\n",
    "    \"New Juaben\": \"New Juaben South Municipal\",  \n",
    "    # N.B., this is a hack, Shama Ahanta East has been split\n",
    "    # into Shama and Sekondi Takoradi. In Ag3.0 we only have\n",
    "    # data from Takoradi.\n",
    "    \"Shama Ahanta East\": \"Sekondi Takoradi Metropolis\",\n",
    "    \n",
    "    # GMB - The Gambia\n",
    "    # N.B., hack, in Ag3.0 location is Wali Kunda, checked on\n",
    "    # map that it's in Lower Fuladu West.\n",
    "    \"Fulladu West\": \"Lower Fuladu West\",\n",
    "    \"Central Baddibu\": \"Central Badibu\",\n",
    "    \n",
    "    # GNB - Guinea-Bissau\n",
    "    \"Setor De Safim\": \"Setor de Safim\",\n",
    "    \n",
    "    # KEN - Kenya\n",
    "    # N.B., hack, in Ag.30 checked coordinates, location is\n",
    "    # in Kilifi North\n",
    "    \"Kilifi\": \"Kilifi North\",\n",
    "    \n",
    "}\n",
    "\n",
    "gdf_cohorts = pd.concat(\n",
    "    [country_cohorts_geo(x, alias=adm2_alias)\n",
    "     for x in country_codes]\n",
    ")\n",
    "gdf_cohorts.head()"
   ]
  },
  {
   "cell_type": "code",
   "execution_count": 13,
   "id": "6265db8b-ea3b-4c6b-97f8-bb1b1dc86bbf",
   "metadata": {
    "tags": []
   },
   "outputs": [],
   "source": [
    "gdf_cohorts.to_file(here() / \"build\" / \"final_cohorts.geojson\")"
   ]
  },
  {
   "cell_type": "markdown",
   "id": "51705e07-3858-47e6-9565-ee0f0a4255c5",
   "metadata": {},
   "source": [
    "## Check\n",
    "\n",
    "Check the file reads back in."
   ]
  },
  {
   "cell_type": "code",
   "execution_count": 14,
   "id": "94b94ab3-ec3e-4f79-8f24-dae9a3334d6e",
   "metadata": {
    "tags": []
   },
   "outputs": [
    {
     "data": {
      "text/html": [
       "<div>\n",
       "<style scoped>\n",
       "    .dataframe tbody tr th:only-of-type {\n",
       "        vertical-align: middle;\n",
       "    }\n",
       "\n",
       "    .dataframe tbody tr th {\n",
       "        vertical-align: top;\n",
       "    }\n",
       "\n",
       "    .dataframe thead th {\n",
       "        text-align: right;\n",
       "    }\n",
       "</style>\n",
       "<table border=\"1\" class=\"dataframe\">\n",
       "  <thead>\n",
       "    <tr style=\"text-align: right;\">\n",
       "      <th></th>\n",
       "      <th>cohort_id</th>\n",
       "      <th>cohort_size</th>\n",
       "      <th>country</th>\n",
       "      <th>admin1_iso</th>\n",
       "      <th>admin1_name</th>\n",
       "      <th>admin2_name</th>\n",
       "      <th>taxon</th>\n",
       "      <th>year</th>\n",
       "      <th>quarter</th>\n",
       "      <th>cohort_label</th>\n",
       "      <th>...</th>\n",
       "      <th>country_alpha2</th>\n",
       "      <th>country_alpha3</th>\n",
       "      <th>shapeName</th>\n",
       "      <th>shapeISO</th>\n",
       "      <th>shapeID</th>\n",
       "      <th>shapeGroup</th>\n",
       "      <th>shapeType</th>\n",
       "      <th>representative_lon</th>\n",
       "      <th>representative_lat</th>\n",
       "      <th>geometry</th>\n",
       "    </tr>\n",
       "  </thead>\n",
       "  <tbody>\n",
       "    <tr>\n",
       "      <th>0</th>\n",
       "      <td>ML-2_Kati_colu_2014_Q3</td>\n",
       "      <td>27</td>\n",
       "      <td>Mali</td>\n",
       "      <td>ML-2</td>\n",
       "      <td>Koulikouro</td>\n",
       "      <td>Kati</td>\n",
       "      <td>coluzzii</td>\n",
       "      <td>2014</td>\n",
       "      <td>3</td>\n",
       "      <td>Mali / Kati / coluzzii / 2014 / Q3</td>\n",
       "      <td>...</td>\n",
       "      <td>ML</td>\n",
       "      <td>MLI</td>\n",
       "      <td>Kati</td>\n",
       "      <td></td>\n",
       "      <td>8926073B54119460885487</td>\n",
       "      <td>MLI</td>\n",
       "      <td>ADM2</td>\n",
       "      <td>-8.426097</td>\n",
       "      <td>12.598369</td>\n",
       "      <td>POLYGON ((-9.04476 12.42636, -9.02295 12.41940...</td>\n",
       "    </tr>\n",
       "    <tr>\n",
       "      <th>1</th>\n",
       "      <td>ML-2_Kati_gamb_2014_Q3</td>\n",
       "      <td>24</td>\n",
       "      <td>Mali</td>\n",
       "      <td>ML-2</td>\n",
       "      <td>Koulikouro</td>\n",
       "      <td>Kati</td>\n",
       "      <td>gambiae</td>\n",
       "      <td>2014</td>\n",
       "      <td>3</td>\n",
       "      <td>Mali / Kati / gambiae / 2014 / Q3</td>\n",
       "      <td>...</td>\n",
       "      <td>ML</td>\n",
       "      <td>MLI</td>\n",
       "      <td>Kati</td>\n",
       "      <td></td>\n",
       "      <td>8926073B54119460885487</td>\n",
       "      <td>MLI</td>\n",
       "      <td>ADM2</td>\n",
       "      <td>-8.426097</td>\n",
       "      <td>12.598369</td>\n",
       "      <td>POLYGON ((-9.04476 12.42636, -9.02295 12.41940...</td>\n",
       "    </tr>\n",
       "  </tbody>\n",
       "</table>\n",
       "<p>2 rows × 24 columns</p>\n",
       "</div>"
      ],
      "text/plain": [
       "                cohort_id  cohort_size country admin1_iso admin1_name  \\\n",
       "0  ML-2_Kati_colu_2014_Q3           27    Mali       ML-2  Koulikouro   \n",
       "1  ML-2_Kati_gamb_2014_Q3           24    Mali       ML-2  Koulikouro   \n",
       "\n",
       "  admin2_name     taxon  year  quarter                        cohort_label  \\\n",
       "0        Kati  coluzzii  2014        3  Mali / Kati / coluzzii / 2014 / Q3   \n",
       "1        Kati   gambiae  2014        3   Mali / Kati / gambiae / 2014 / Q3   \n",
       "\n",
       "   ... country_alpha2  country_alpha3  shapeName  shapeISO  \\\n",
       "0  ...             ML             MLI       Kati             \n",
       "1  ...             ML             MLI       Kati             \n",
       "\n",
       "                  shapeID shapeGroup shapeType representative_lon  \\\n",
       "0  8926073B54119460885487        MLI      ADM2          -8.426097   \n",
       "1  8926073B54119460885487        MLI      ADM2          -8.426097   \n",
       "\n",
       "  representative_lat                                           geometry  \n",
       "0          12.598369  POLYGON ((-9.04476 12.42636, -9.02295 12.41940...  \n",
       "1          12.598369  POLYGON ((-9.04476 12.42636, -9.02295 12.41940...  \n",
       "\n",
       "[2 rows x 24 columns]"
      ]
     },
     "execution_count": 14,
     "metadata": {},
     "output_type": "execute_result"
    }
   ],
   "source": [
    "gdf_check = gpd.read_file(here() / \"build\" / \"final_cohorts.geojson\").head()\n",
    "gdf_check.head()"
   ]
  },
  {
   "cell_type": "markdown",
   "id": "f2132c34-673f-4168-8952-990e1059d8d0",
   "metadata": {},
   "source": [
    "## Debug\n",
    "\n",
    "Code cells below were used to debug the aliases required to join admin2 units."
   ]
  },
  {
   "cell_type": "code",
   "execution_count": null,
   "id": "b02cab1a-6cd5-421d-994f-fa8bf952d1fa",
   "metadata": {
    "tags": []
   },
   "outputs": [],
   "source": [
    "# import malariagen_data\n",
    "# ag3 = malariagen_data.Ag3()"
   ]
  },
  {
   "cell_type": "code",
   "execution_count": null,
   "id": "c1910853-eb31-4e1f-8a8b-1e4477b9d20b",
   "metadata": {
    "tags": []
   },
   "outputs": [],
   "source": [
    "# (\n",
    "#     ag3\n",
    "#     .sample_metadata()\n",
    "#     .query(\"admin2_name == 'Kilifi'\")\n",
    "#     .groupby([\"location\", \"latitude\", \"longitude\"])\n",
    "#     .size()\n",
    "# )"
   ]
  },
  {
   "cell_type": "code",
   "execution_count": null,
   "id": "82f92294-aea4-4493-bcb1-3d2a41cee0e2",
   "metadata": {
    "tags": []
   },
   "outputs": [],
   "source": [
    "# read_adm2(\"KEN\").explore()"
   ]
  },
  {
   "cell_type": "code",
   "execution_count": null,
   "id": "62b9e6a9-85cc-420a-aa12-0edaa34dbf0b",
   "metadata": {
    "tags": []
   },
   "outputs": [],
   "source": [
    "# with pd.option_context(\"display.max_rows\", None):\n",
    "#     display(read_adm2(\"KEN\"))"
   ]
  },
  {
   "cell_type": "code",
   "execution_count": null,
   "id": "1bcca64b-177c-4c50-964c-ff510fe35cc9",
   "metadata": {},
   "outputs": [],
   "source": []
  }
 ],
 "metadata": {
  "kernelspec": {
   "display_name": "Python 3 (ipykernel)",
   "language": "python",
   "name": "python3"
  },
  "language_info": {
   "codemirror_mode": {
    "name": "ipython",
    "version": 3
   },
   "file_extension": ".py",
   "mimetype": "text/x-python",
   "name": "python",
   "nbconvert_exporter": "python",
   "pygments_lexer": "ipython3",
   "version": "3.10.9"
  },
  "widgets": {
   "application/vnd.jupyter.widget-state+json": {
    "state": {},
    "version_major": 2,
    "version_minor": 0
   }
  }
 },
 "nbformat": 4,
 "nbformat_minor": 5
}

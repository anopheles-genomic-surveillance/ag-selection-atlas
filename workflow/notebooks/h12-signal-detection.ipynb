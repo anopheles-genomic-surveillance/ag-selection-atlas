{
 "cells": [
  {
   "cell_type": "markdown",
   "id": "1d37bfe3-b331-44bf-b130-6a9de74f04dc",
   "metadata": {},
   "source": [
    "# H12 signal detection"
   ]
  },
  {
   "cell_type": "markdown",
   "id": "8a4aae6c-0c75-4b48-9aa1-2dd9a39ee8ae",
   "metadata": {},
   "source": [
    "## Notebook parameters"
   ]
  },
  {
   "cell_type": "code",
   "execution_count": null,
   "id": "f7be00d8-f4b2-4208-92cd-bd0f704cb962",
   "metadata": {
    "tags": [
     "parameters"
    ],
    "vscode": {
     "languageId": "python"
    }
   },
   "outputs": [],
   "source": [
    "cohort_id = 'BF-09_Houet_colu_2012_Q3'\n",
    "cohorts_analysis = \"20230223\"\n",
    "contig = '2L'\n",
    "sample_sets = \"3.0\"\n",
    "min_cohort_size = 20\n",
    "max_cohort_size = 50"
   ]
  },
  {
   "cell_type": "markdown",
   "id": "a5608ba8-9355-417d-ae85-6262a919eed7",
   "metadata": {},
   "source": [
    "## Setup"
   ]
  },
  {
   "cell_type": "code",
   "execution_count": null,
   "id": "82736345-0d34-4577-9c53-fa382e85889b",
   "metadata": {
    "tags": [],
    "vscode": {
     "languageId": "python"
    }
   },
   "outputs": [],
   "source": [
    "import yaml\n",
    "import pandas as pd\n",
    "import malariagen_data\n",
    "from pyprojroot import here\n",
    "import numpy as np\n",
    "import os\n",
    "import matplotlib.pyplot as plt\n",
    "from bisect import bisect_left, bisect_right\n",
    "import lmfit\n",
    "%matplotlib inline\n",
    "%config InlineBackend.figure_format = 'retina'\n",
    "%run {here()}/workflow/notebooks/peak-utils.ipynb"
   ]
  },
  {
   "cell_type": "code",
   "execution_count": null,
   "id": "f80e4aa6-7a46-415a-90e3-a218eb88d833",
   "metadata": {
    "tags": [],
    "vscode": {
     "languageId": "python"
    }
   },
   "outputs": [],
   "source": [
    "sample_sets"
   ]
  },
  {
   "cell_type": "code",
   "execution_count": null,
   "id": "e7a7e3e6-da4d-4eea-a81f-5b6005817d1e",
   "metadata": {
    "tags": [],
    "vscode": {
     "languageId": "python"
    }
   },
   "outputs": [],
   "source": [
    "ag3 = malariagen_data.Ag3(\n",
    "    # TODO in production build, remove use of simplecache if running inside google cloud\n",
    "    # url = \"gs://vo_agam_release\",\n",
    "    url=\"simplecache::gs://vo_agam_release\",\n",
    "    # pin the version of the cohorts analysis for reproducibility\n",
    "    cohorts_analysis=cohorts_analysis,\n",
    "    # TODO remove simplecache config in production\n",
    "    simplecache=dict(cache_storage=(here() / \"gcs_cache\").as_posix()),\n",
    "    results_cache=(here() / \"malariagen_data_cache\").as_posix(),\n",
    ")\n",
    "ag3"
   ]
  },
  {
   "cell_type": "code",
   "execution_count": null,
   "id": "69557ca7-1029-4192-9f2d-21a9c5712183",
   "metadata": {
    "tags": [],
    "vscode": {
     "languageId": "python"
    }
   },
   "outputs": [],
   "source": [
    "# load window sizes from output of h12-calibration\n",
    "calibration_dir = \"build/h12-calibration\"\n",
    "with open(here() / calibration_dir/ f\"{cohort_id}.yaml\") as calibration_file:\n",
    "    calibration_params = yaml.safe_load(calibration_file)\n",
    "window_size = calibration_params[\"h12_window_size\"]\n",
    "window_size"
   ]
  },
  {
   "cell_type": "code",
   "execution_count": null,
   "id": "c716902a-1052-4f0b-b635-076f707cc0f3",
   "metadata": {
    "tags": [],
    "vscode": {
     "languageId": "python"
    }
   },
   "outputs": [],
   "source": [
    "# load cohorts to find sample query \n",
    "df_cohorts = pd.read_csv(here() / \"build\" / \"cohorts.csv\").set_index(\"cohort_id\")\n",
    "cohort = df_cohorts.loc[cohort_id]\n",
    "cohort"
   ]
  },
  {
   "cell_type": "code",
   "execution_count": null,
   "id": "99b9d4cf-cae2-44d4-a8ee-c159704fb86f",
   "metadata": {
    "tags": [],
    "vscode": {
     "languageId": "python"
    }
   },
   "outputs": [],
   "source": [
    "sample_query = cohort.sample_query\n",
    "sample_query"
   ]
  },
  {
   "cell_type": "code",
   "execution_count": null,
   "id": "5ddba9b4-51d7-4548-b8ca-d66c48a00757",
   "metadata": {
    "tags": [],
    "vscode": {
     "languageId": "python"
    }
   },
   "outputs": [],
   "source": [
    "if cohort.taxon == 'arabiensis':\n",
    "    phasing_analysis = 'arab'\n",
    "else:\n",
    "    phasing_analysis = 'gamb_colu'\n",
    "phasing_analysis"
   ]
  },
  {
   "cell_type": "code",
   "execution_count": null,
   "id": "3dd737c8-96c9-4659-8ce0-aa1e8212d5cd",
   "metadata": {
    "tags": [],
    "vscode": {
     "languageId": "python"
    }
   },
   "outputs": [],
   "source": [
    "# plot the H12 results here as well for convenience\n",
    "ag3.plot_h12_gwss(\n",
    "    contig=contig, \n",
    "    window_size=window_size, \n",
    "    analysis=phasing_analysis, \n",
    "    sample_sets=sample_sets,\n",
    "    sample_query=sample_query, \n",
    "    min_cohort_size=min_cohort_size,\n",
    "    max_cohort_size=max_cohort_size,\n",
    ")"
   ]
  },
  {
   "cell_type": "markdown",
   "id": "4c7323c9-890f-401f-a7cc-eb36fec831f8",
   "metadata": {},
   "source": [
    "## Run signal detection"
   ]
  },
  {
   "cell_type": "code",
   "execution_count": null,
   "id": "0c336769-dec3-42f3-a5ad-6da7ec8454b4",
   "metadata": {
    "tags": [],
    "vscode": {
     "languageId": "python"
    }
   },
   "outputs": [],
   "source": [
    "# set parameters for signal detection\n",
    "filter_size = 20  # hampel filter parameter\n",
    "filter_t = 2  # hampel filter parameter\n",
    "gflanks = (4, 8)  # sizes of flanks in cM\n",
    "scan_interval = 1  # step in cM\n",
    "min_delta_aic = 500  # minimum evidence to emit a signal\n",
    "min_baseline = 0\n",
    "max_baseline_percentile = 95\n",
    "min_amplitude = 0.03\n",
    "init_amplitude = 0.5\n",
    "max_amplitude = 1.5\n",
    "min_decay = 0.1\n",
    "init_decay = 0.5 \n",
    "max_abs_skew = 0.5\n",
    "scan_start = None\n",
    "scan_stop = None\n",
    "# TODO maybe set false in production to avoid too many plots?\n",
    "debug = True"
   ]
  },
  {
   "cell_type": "code",
   "execution_count": null,
   "id": "56d7ebf0-28bd-4df3-be0b-3dee118dc995",
   "metadata": {
    "tags": [],
    "vscode": {
     "languageId": "python"
    }
   },
   "outputs": [],
   "source": [
    "# load gwss data\n",
    "ppos, h12 = ag3.h12_gwss(\n",
    "    contig=contig, \n",
    "    window_size=window_size, \n",
    "    analysis=phasing_analysis, \n",
    "    sample_sets=sample_sets,\n",
    "    sample_query=sample_query, \n",
    "    min_cohort_size=min_cohort_size,\n",
    "    max_cohort_size=max_cohort_size,\n",
    ")"
   ]
  },
  {
   "cell_type": "code",
   "execution_count": null,
   "id": "28748c64-8221-4c0d-a2ea-ded9af9cffe8",
   "metadata": {
    "tags": [],
    "vscode": {
     "languageId": "python"
    }
   },
   "outputs": [],
   "source": [
    "# convert to int\n",
    "ppos = ppos.astype(int)"
   ]
  },
  {
   "cell_type": "code",
   "execution_count": null,
   "id": "0d1ebd57-8519-47f6-bc82-7a921081f820",
   "metadata": {
    "tags": [],
    "vscode": {
     "languageId": "python"
    }
   },
   "outputs": [],
   "source": [
    "# map physical to genetic position\n",
    "gpos = ag_p2g(contig=contig, ppos=ppos)"
   ]
  },
  {
   "cell_type": "code",
   "execution_count": null,
   "id": "f259cb9a-e739-4ab1-925a-e9ee0dd93904",
   "metadata": {
    "tags": [],
    "vscode": {
     "languageId": "python"
    }
   },
   "outputs": [],
   "source": [
    "if debug:\n",
    "    # quick check of genetic map\n",
    "    fig, ax = plt.subplots(figsize=(4, 4))\n",
    "    ax.plot(ppos, gpos)\n",
    "    ax.set_xlabel('Physical position (bp)')\n",
    "    ax.set_ylabel('Genetic position (cM)')\n",
    "    ax.set_title(contig)\n",
    "    fig.tight_layout()\n"
   ]
  },
  {
   "cell_type": "code",
   "execution_count": null,
   "id": "8f0afe82-be35-44cf-bdb7-e2da40136fb4",
   "metadata": {
    "tags": [],
    "vscode": {
     "languageId": "python"
    }
   },
   "outputs": [],
   "source": [
    "# filter outliers\n",
    "h12_filtered = hampel_filter(h12, size=filter_size, t=filter_t)"
   ]
  },
  {
   "cell_type": "code",
   "execution_count": null,
   "id": "20baf573-ad47-4d29-982e-9282d0665991",
   "metadata": {
    "tags": [],
    "vscode": {
     "languageId": "python"
    }
   },
   "outputs": [],
   "source": [
    "if debug:\n",
    "\n",
    "    # before filtering\n",
    "    fig, ax = plt.subplots(figsize=(8, 2))\n",
    "    ax.plot(gpos, h12, marker='o', linestyle=' ', mfc='none', markersize=2)\n",
    "    ax.set_title('Unfiltered')\n",
    "    fig.tight_layout()\n",
    "\n",
    "    # after filtering\n",
    "    fig, ax = plt.subplots(figsize=(8, 2))\n",
    "    ax.plot(gpos, h12_filtered, marker='o', linestyle=' ', mfc='none', markersize=2)\n",
    "    ax.set_title('Filtered')\n",
    "    fig.tight_layout()\n"
   ]
  },
  {
   "cell_type": "code",
   "execution_count": null,
   "id": "e878719b-0bd9-44c8-aae2-39e78059e13b",
   "metadata": {
    "tags": [],
    "vscode": {
     "languageId": "python"
    }
   },
   "outputs": [],
   "source": [
    "# set parameters\n",
    "init_baseline = np.median(h12_filtered)\n",
    "max_baseline = np.percentile(h12_filtered, max_baseline_percentile)\n",
    "min_skew, init_skew, max_skew = -max_abs_skew, 0, max_abs_skew\n",
    "if not scan_start:\n",
    "    scan_start = 2\n",
    "if not scan_stop:\n",
    "    scan_stop = gpos[-1] - 2"
   ]
  },
  {
   "cell_type": "code",
   "execution_count": null,
   "id": "47a7af77-9f48-47ae-b9fc-d9aa68889601",
   "metadata": {
    "tags": [],
    "vscode": {
     "languageId": "python"
    }
   },
   "outputs": [],
   "source": [
    "# set up results\n",
    "results = []\n",
    "\n",
    "# main loop, iterate along the genome\n",
    "for gcenter in np.arange(scan_start, scan_stop, scan_interval):\n",
    "\n",
    "    for gflank in gflanks:\n",
    "\n",
    "        print('center', gcenter, 'flank size', gflank)\n",
    "\n",
    "        result = fit_exponential_peak(\n",
    "            ppos=ppos, \n",
    "            gpos=gpos, \n",
    "            stat_filtered=h12_filtered, \n",
    "            gcenter=gcenter, \n",
    "            gflank=gflank, \n",
    "            scan_interval=scan_interval,\n",
    "            init_amplitude=init_amplitude,\n",
    "            min_amplitude=min_amplitude,\n",
    "            max_amplitude=max_amplitude,\n",
    "            init_decay=init_decay,\n",
    "            min_decay=min_decay,\n",
    "            init_skew=init_skew,\n",
    "            min_skew=min_skew,\n",
    "            max_skew=max_skew,\n",
    "            init_baseline=init_baseline,\n",
    "            min_baseline=min_baseline,\n",
    "            max_baseline=max_baseline,\n",
    "            min_delta_aic=min_delta_aic,\n",
    "            debug=debug,\n",
    "        )\n",
    "\n",
    "        if result is not None:\n",
    "            results.append(result)\n",
    "\n",
    "df_signals = pd.DataFrame.from_records(results)\n",
    "df_signals"
   ]
  },
  {
   "cell_type": "code",
   "execution_count": null,
   "id": "ab68af4f-2e84-4a5a-be90-39c4caf76c54",
   "metadata": {
    "tags": [],
    "vscode": {
     "languageId": "python"
    }
   },
   "outputs": [],
   "source": [
    "def dedup_signals(df_signals):\n",
    "    \n",
    "    keep = list(range(len(df_signals)))\n",
    "    for i, this in df_signals.iterrows():\n",
    "        for j, that in df_signals.iterrows():\n",
    "            if i != j:\n",
    "                # thank you Ned Batchelder\n",
    "                # https://nedbatchelder.com/blog/201310/range_overlap_in_two_compares.html\n",
    "                disjoint = that.span1_gstart > this.span1_gstop or that.span1_gstop < this.span1_gstart\n",
    "                if not disjoint and that.delta_i > this.delta_i:\n",
    "                    keep.remove(i)\n",
    "                    break\n",
    "    return df_signals.iloc[keep].copy()\n"
   ]
  },
  {
   "cell_type": "code",
   "execution_count": null,
   "id": "bb99da56-222d-4371-ab69-84f84718b84b",
   "metadata": {
    "tags": [],
    "vscode": {
     "languageId": "python"
    }
   },
   "outputs": [],
   "source": [
    "df_signals_dedup = dedup_signals(df_signals)\n",
    "df_signals_dedup"
   ]
  },
  {
   "cell_type": "markdown",
   "id": "4a74c212-fedd-439a-a5b6-5bdfb4387a53",
   "metadata": {},
   "source": [
    "## Write outputs"
   ]
  },
  {
   "cell_type": "code",
   "execution_count": null,
   "id": "01381668-7f74-49e6-9f61-57caef886b57",
   "metadata": {
    "tags": [],
    "vscode": {
     "languageId": "python"
    }
   },
   "outputs": [],
   "source": [
    "outdir = \"build/h12-signal-detection\"\n",
    "\n",
    "with open(here() / outdir / f\"{cohort_id}_{contig}.csv\", mode=\"w\") as output_file:\n",
    "    df_signals_dedup.to_csv(output_file, index=False)"
   ]
  }
 ],
 "metadata": {
  "kernelspec": {
   "display_name": "selection-atlas",
   "language": "python",
   "name": "selection-atlas"
  },
  "language_info": {
   "codemirror_mode": {
    "name": "ipython",
    "version": 3
   },
   "file_extension": ".py",
   "mimetype": "text/x-python",
   "name": "python",
   "nbconvert_exporter": "python",
   "pygments_lexer": "ipython3",
   "version": "3.10.10"
  }
 },
 "nbformat": 4,
 "nbformat_minor": 5
}

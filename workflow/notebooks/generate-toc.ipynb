{
 "cells": [
  {
   "attachments": {},
   "cell_type": "markdown",
   "id": "0402fbc0",
   "metadata": {},
   "source": [
    "# Generate book table of contents\n",
    "\n",
    "Here we generate the Jupyter book table of contents file at `docs/_toc.yml`."
   ]
  },
  {
   "cell_type": "code",
   "execution_count": 1,
   "id": "6e7f3c55",
   "metadata": {
    "tags": [
     "parameters"
    ]
   },
   "outputs": [],
   "source": [
    "contigs = [\"2L\"]"
   ]
  },
  {
   "cell_type": "code",
   "execution_count": 2,
   "id": "b351415c",
   "metadata": {},
   "outputs": [],
   "source": [
    "import pandas as pd\n",
    "import geopandas as gpd\n",
    "from pyprojroot import here\n",
    "import yaml"
   ]
  },
  {
   "cell_type": "code",
   "execution_count": 3,
   "id": "5ca7f516",
   "metadata": {},
   "outputs": [
    {
     "data": {
      "text/html": [
       "<div>\n",
       "<style scoped>\n",
       "    .dataframe tbody tr th:only-of-type {\n",
       "        vertical-align: middle;\n",
       "    }\n",
       "\n",
       "    .dataframe tbody tr th {\n",
       "        vertical-align: top;\n",
       "    }\n",
       "\n",
       "    .dataframe thead th {\n",
       "        text-align: right;\n",
       "    }\n",
       "</style>\n",
       "<table border=\"1\" class=\"dataframe\">\n",
       "  <thead>\n",
       "    <tr style=\"text-align: right;\">\n",
       "      <th></th>\n",
       "      <th>cohort_id</th>\n",
       "      <th>cohort_size</th>\n",
       "      <th>country</th>\n",
       "      <th>admin1_iso</th>\n",
       "      <th>admin1_name</th>\n",
       "      <th>admin2_name</th>\n",
       "      <th>taxon</th>\n",
       "      <th>year</th>\n",
       "      <th>quarter</th>\n",
       "      <th>cohort_label</th>\n",
       "      <th>...</th>\n",
       "      <th>country_alpha2</th>\n",
       "      <th>country_alpha3</th>\n",
       "      <th>shapeName</th>\n",
       "      <th>shapeISO</th>\n",
       "      <th>shapeID</th>\n",
       "      <th>shapeGroup</th>\n",
       "      <th>shapeType</th>\n",
       "      <th>representative_lon</th>\n",
       "      <th>representative_lat</th>\n",
       "      <th>geometry</th>\n",
       "    </tr>\n",
       "  </thead>\n",
       "  <tbody>\n",
       "    <tr>\n",
       "      <th>0</th>\n",
       "      <td>ML-2_Kati_colu_2014_Q3</td>\n",
       "      <td>27</td>\n",
       "      <td>Mali</td>\n",
       "      <td>ML-2</td>\n",
       "      <td>Koulikouro</td>\n",
       "      <td>Kati</td>\n",
       "      <td>coluzzii</td>\n",
       "      <td>2014</td>\n",
       "      <td>3</td>\n",
       "      <td>Mali / Kati / coluzzii / 2014 / Q3</td>\n",
       "      <td>...</td>\n",
       "      <td>ML</td>\n",
       "      <td>MLI</td>\n",
       "      <td>Kati</td>\n",
       "      <td></td>\n",
       "      <td>8926073B54119460885487</td>\n",
       "      <td>MLI</td>\n",
       "      <td>ADM2</td>\n",
       "      <td>-8.426097</td>\n",
       "      <td>12.598369</td>\n",
       "      <td>POLYGON ((-9.04476 12.42636, -9.02295 12.41940...</td>\n",
       "    </tr>\n",
       "    <tr>\n",
       "      <th>1</th>\n",
       "      <td>ML-2_Kati_gamb_2014_Q3</td>\n",
       "      <td>24</td>\n",
       "      <td>Mali</td>\n",
       "      <td>ML-2</td>\n",
       "      <td>Koulikouro</td>\n",
       "      <td>Kati</td>\n",
       "      <td>gambiae</td>\n",
       "      <td>2014</td>\n",
       "      <td>3</td>\n",
       "      <td>Mali / Kati / gambiae / 2014 / Q3</td>\n",
       "      <td>...</td>\n",
       "      <td>ML</td>\n",
       "      <td>MLI</td>\n",
       "      <td>Kati</td>\n",
       "      <td></td>\n",
       "      <td>8926073B54119460885487</td>\n",
       "      <td>MLI</td>\n",
       "      <td>ADM2</td>\n",
       "      <td>-8.426097</td>\n",
       "      <td>12.598369</td>\n",
       "      <td>POLYGON ((-9.04476 12.42636, -9.02295 12.41940...</td>\n",
       "    </tr>\n",
       "  </tbody>\n",
       "</table>\n",
       "<p>2 rows × 24 columns</p>\n",
       "</div>"
      ],
      "text/plain": [
       "                cohort_id  cohort_size country admin1_iso admin1_name  \\\n",
       "0  ML-2_Kati_colu_2014_Q3           27    Mali       ML-2  Koulikouro   \n",
       "1  ML-2_Kati_gamb_2014_Q3           24    Mali       ML-2  Koulikouro   \n",
       "\n",
       "  admin2_name     taxon  year  quarter                        cohort_label  \\\n",
       "0        Kati  coluzzii  2014        3  Mali / Kati / coluzzii / 2014 / Q3   \n",
       "1        Kati   gambiae  2014        3   Mali / Kati / gambiae / 2014 / Q3   \n",
       "\n",
       "   ... country_alpha2  country_alpha3  shapeName  shapeISO  \\\n",
       "0  ...             ML             MLI       Kati             \n",
       "1  ...             ML             MLI       Kati             \n",
       "\n",
       "                  shapeID shapeGroup shapeType representative_lon  \\\n",
       "0  8926073B54119460885487        MLI      ADM2          -8.426097   \n",
       "1  8926073B54119460885487        MLI      ADM2          -8.426097   \n",
       "\n",
       "  representative_lat                                           geometry  \n",
       "0          12.598369  POLYGON ((-9.04476 12.42636, -9.02295 12.41940...  \n",
       "1          12.598369  POLYGON ((-9.04476 12.42636, -9.02295 12.41940...  \n",
       "\n",
       "[2 rows x 24 columns]"
      ]
     },
     "execution_count": 3,
     "metadata": {},
     "output_type": "execute_result"
    }
   ],
   "source": [
    "gdf_cohorts = gpd.read_file(here() / \"build\" / \"final_cohorts.geojson\")\n",
    "gdf_cohorts.head()"
   ]
  },
  {
   "cell_type": "code",
   "execution_count": 4,
   "id": "e68897f1",
   "metadata": {},
   "outputs": [
    {
     "data": {
      "text/plain": [
       "Index(['cohort_id', 'cohort_size', 'country', 'admin1_iso', 'admin1_name',\n",
       "       'admin2_name', 'taxon', 'year', 'quarter', 'cohort_label',\n",
       "       'sample_query', 'latitude', 'longitude', 'h12_window_size',\n",
       "       'country_alpha2', 'country_alpha3', 'shapeName', 'shapeISO', 'shapeID',\n",
       "       'shapeGroup', 'shapeType', 'representative_lon', 'representative_lat',\n",
       "       'geometry'],\n",
       "      dtype='object')"
      ]
     },
     "execution_count": 4,
     "metadata": {},
     "output_type": "execute_result"
    }
   ],
   "source": [
    "gdf_cohorts.columns"
   ]
  },
  {
   "cell_type": "code",
   "execution_count": 5,
   "id": "f2689988",
   "metadata": {},
   "outputs": [
    {
     "data": {
      "text/plain": [
       "array(['ML'], dtype=object)"
      ]
     },
     "execution_count": 5,
     "metadata": {},
     "output_type": "execute_result"
    }
   ],
   "source": [
    "countries = gdf_cohorts[\"country_alpha2\"].unique()\n",
    "countries"
   ]
  },
  {
   "cell_type": "code",
   "execution_count": 6,
   "id": "140660f9",
   "metadata": {},
   "outputs": [],
   "source": [
    "# TODO read alerts from some external file\n",
    "alerts = [\n",
    "    \"SA-1\",\n",
    "    \"SA-2\",\n",
    "]"
   ]
  },
  {
   "cell_type": "code",
   "execution_count": 7,
   "id": "6db0fcbf",
   "metadata": {},
   "outputs": [
    {
     "data": {
      "text/plain": [
       "{'caption': 'Alerts',\n",
       " 'chapters': [{'file': 'alerts',\n",
       "   'sections': [{'file': 'alerts/SA-1'}, {'file': 'alerts/SA-2'}]}]}"
      ]
     },
     "execution_count": 7,
     "metadata": {},
     "output_type": "execute_result"
    }
   ],
   "source": [
    "alerts_part = dict(\n",
    "    caption=\"Alerts\",\n",
    "    chapters=[\n",
    "        dict(\n",
    "            file=\"alerts\",\n",
    "            sections=[\n",
    "                dict(file=f\"alerts/{a}\")\n",
    "                for a in alerts\n",
    "            ],\n",
    "        ),\n",
    "    ]\n",
    ")\n",
    "alerts_part"
   ]
  },
  {
   "cell_type": "code",
   "execution_count": 8,
   "id": "8813d652",
   "metadata": {},
   "outputs": [
    {
     "data": {
      "text/plain": [
       "{'caption': 'By genome', 'chapters': [{'file': 'genome/ag-2L'}]}"
      ]
     },
     "execution_count": 8,
     "metadata": {},
     "output_type": "execute_result"
    }
   ],
   "source": [
    "genome_part = dict(\n",
    "    caption=\"By genome\",\n",
    "    chapters=[\n",
    "        dict(\n",
    "            file=f\"genome/ag-{contig}\",\n",
    "        ) \n",
    "        for contig in contigs\n",
    "    ],\n",
    ")\n",
    "genome_part"
   ]
  },
  {
   "cell_type": "code",
   "execution_count": 9,
   "id": "cdf356bb",
   "metadata": {},
   "outputs": [],
   "source": [
    "def build_country_chapter(country):\n",
    "    cohorts = sorted(\n",
    "        gdf_cohorts.query(f\"country_alpha2 == '{country}'\")[\"cohort_id\"]\n",
    "    )\n",
    "    chapter = dict(\n",
    "        file=f\"country/{country}\",\n",
    "        sections=[\n",
    "            dict(\n",
    "                file=f\"cohort/{cohort}\",\n",
    "            )\n",
    "            for cohort in cohorts\n",
    "        ],\n",
    "    )\n",
    "    return chapter\n",
    "\n"
   ]
  },
  {
   "cell_type": "code",
   "execution_count": 10,
   "id": "20069ed1",
   "metadata": {},
   "outputs": [
    {
     "data": {
      "text/plain": [
       "{'caption': 'By country',\n",
       " 'chapters': [{'file': 'country/ML',\n",
       "   'sections': [{'file': 'cohort/ML-2_Kati_colu_2014_Q3'},\n",
       "    {'file': 'cohort/ML-2_Kati_gamb_2014_Q3'}]}]}"
      ]
     },
     "execution_count": 10,
     "metadata": {},
     "output_type": "execute_result"
    }
   ],
   "source": [
    "countries_part = dict(\n",
    "    caption=\"By country\",\n",
    "    chapters=[\n",
    "        build_country_chapter(country)\n",
    "        for country in countries\n",
    "    ]\n",
    ")\n",
    "countries_part"
   ]
  },
  {
   "cell_type": "code",
   "execution_count": 11,
   "id": "76e17b0d",
   "metadata": {},
   "outputs": [
    {
     "data": {
      "text/plain": [
       "{'format': 'jb-book',\n",
       " 'root': 'home-page',\n",
       " 'parts': [{'caption': 'Alerts',\n",
       "   'chapters': [{'file': 'alerts',\n",
       "     'sections': [{'file': 'alerts/SA-1'}, {'file': 'alerts/SA-2'}]}]},\n",
       "  {'caption': 'By genome', 'chapters': [{'file': 'genome/ag-2L'}]},\n",
       "  {'caption': 'By country',\n",
       "   'chapters': [{'file': 'country/ML',\n",
       "     'sections': [{'file': 'cohort/ML-2_Kati_colu_2014_Q3'},\n",
       "      {'file': 'cohort/ML-2_Kati_gamb_2014_Q3'}]}]}]}"
      ]
     },
     "execution_count": 11,
     "metadata": {},
     "output_type": "execute_result"
    }
   ],
   "source": [
    "toc = dict(\n",
    "    format=\"jb-book\",\n",
    "    root=\"home-page\",\n",
    "    parts=[\n",
    "        alerts_part,\n",
    "        genome_part,\n",
    "        countries_part,\n",
    "    ]\n",
    ")\n",
    "toc"
   ]
  },
  {
   "cell_type": "code",
   "execution_count": 12,
   "id": "dabc4b40",
   "metadata": {},
   "outputs": [],
   "source": [
    "with open(here() / \"docs\" / \"_toc.yml\", mode=\"w\") as output_file:\n",
    "    yaml.safe_dump(toc, output_file)"
   ]
  },
  {
   "cell_type": "code",
   "execution_count": null,
   "id": "65283e5a",
   "metadata": {},
   "outputs": [],
   "source": []
  }
 ],
 "metadata": {
  "kernelspec": {
   "display_name": "selection-atlas",
   "language": "python",
   "name": "selection-atlas"
  },
  "language_info": {
   "codemirror_mode": {
    "name": "ipython",
    "version": 3
   },
   "file_extension": ".py",
   "mimetype": "text/x-python",
   "name": "python",
   "nbconvert_exporter": "python",
   "pygments_lexer": "ipython3",
   "version": "3.10.9"
  }
 },
 "nbformat": 4,
 "nbformat_minor": 5
}

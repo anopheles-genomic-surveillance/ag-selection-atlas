{
 "cells": [
  {
   "cell_type": "code",
   "execution_count": 6,
   "id": "b351415c",
   "metadata": {},
   "outputs": [],
   "source": [
    "import pandas as pd\n",
    "from pyprojroot import here\n",
    "import yaml"
   ]
  },
  {
   "cell_type": "markdown",
   "id": "0402fbc0",
   "metadata": {},
   "source": [
    "### Generate T.O.C"
   ]
  },
  {
   "cell_type": "code",
   "execution_count": 7,
   "id": "5ca7f516",
   "metadata": {},
   "outputs": [
    {
     "data": {
      "text/html": [
       "<div>\n",
       "<style scoped>\n",
       "    .dataframe tbody tr th:only-of-type {\n",
       "        vertical-align: middle;\n",
       "    }\n",
       "\n",
       "    .dataframe tbody tr th {\n",
       "        vertical-align: top;\n",
       "    }\n",
       "\n",
       "    .dataframe thead th {\n",
       "        text-align: right;\n",
       "    }\n",
       "</style>\n",
       "<table border=\"1\" class=\"dataframe\">\n",
       "  <thead>\n",
       "    <tr style=\"text-align: right;\">\n",
       "      <th></th>\n",
       "      <th>cohort_id</th>\n",
       "      <th>cohort_size</th>\n",
       "      <th>country</th>\n",
       "      <th>admin1_iso</th>\n",
       "      <th>admin1_name</th>\n",
       "      <th>admin2_name</th>\n",
       "      <th>taxon</th>\n",
       "      <th>year</th>\n",
       "      <th>quarter</th>\n",
       "      <th>cohort_label</th>\n",
       "      <th>sample_query</th>\n",
       "      <th>h12_window_size</th>\n",
       "    </tr>\n",
       "  </thead>\n",
       "  <tbody>\n",
       "    <tr>\n",
       "      <th>0</th>\n",
       "      <td>BF-09_Houet_colu_2012_Q3</td>\n",
       "      <td>78</td>\n",
       "      <td>Burkina Faso</td>\n",
       "      <td>BF-09</td>\n",
       "      <td>Hauts-Bassins</td>\n",
       "      <td>Houet</td>\n",
       "      <td>coluzzii</td>\n",
       "      <td>2012</td>\n",
       "      <td>3</td>\n",
       "      <td>Burkina Faso / Houet / coluzzii / 2012 / Q3</td>\n",
       "      <td>cohort_admin2_quarter == 'BF-09_Houet_colu_201...</td>\n",
       "      <td>1000</td>\n",
       "    </tr>\n",
       "    <tr>\n",
       "      <th>1</th>\n",
       "      <td>BF-09_Houet_gamb_2012_Q3</td>\n",
       "      <td>73</td>\n",
       "      <td>Burkina Faso</td>\n",
       "      <td>BF-09</td>\n",
       "      <td>Hauts-Bassins</td>\n",
       "      <td>Houet</td>\n",
       "      <td>gambiae</td>\n",
       "      <td>2012</td>\n",
       "      <td>3</td>\n",
       "      <td>Burkina Faso / Houet / gambiae / 2012 / Q3</td>\n",
       "      <td>cohort_admin2_quarter == 'BF-09_Houet_gamb_201...</td>\n",
       "      <td>1000</td>\n",
       "    </tr>\n",
       "  </tbody>\n",
       "</table>\n",
       "</div>"
      ],
      "text/plain": [
       "                  cohort_id  cohort_size       country admin1_iso  \\\n",
       "0  BF-09_Houet_colu_2012_Q3           78  Burkina Faso      BF-09   \n",
       "1  BF-09_Houet_gamb_2012_Q3           73  Burkina Faso      BF-09   \n",
       "\n",
       "     admin1_name admin2_name     taxon  year  quarter  \\\n",
       "0  Hauts-Bassins       Houet  coluzzii  2012        3   \n",
       "1  Hauts-Bassins       Houet   gambiae  2012        3   \n",
       "\n",
       "                                  cohort_label  \\\n",
       "0  Burkina Faso / Houet / coluzzii / 2012 / Q3   \n",
       "1   Burkina Faso / Houet / gambiae / 2012 / Q3   \n",
       "\n",
       "                                        sample_query  h12_window_size  \n",
       "0  cohort_admin2_quarter == 'BF-09_Houet_colu_201...             1000  \n",
       "1  cohort_admin2_quarter == 'BF-09_Houet_gamb_201...             1000  "
      ]
     },
     "execution_count": 7,
     "metadata": {},
     "output_type": "execute_result"
    }
   ],
   "source": [
    "df_cohorts = pd.read_csv(here() / \"build\" / \"final_cohorts.csv\")\n",
    "df_cohorts.head()"
   ]
  },
  {
   "cell_type": "code",
   "execution_count": 27,
   "id": "6db0fcbf",
   "metadata": {},
   "outputs": [],
   "source": [
    "outdir = \"../../docs/\"\n",
    "\n",
    "toc_output = {\n",
    "    \"format\": 'jb-book',\n",
    "    \"root\": 'landing-page',\n",
    "}\n",
    "\n",
    "# add list of dicts for each cohort \n",
    "for coh in df_cohorts.loc[:, 'cohort_id']:\n",
    "    chapters = [{'file':f\"docs/notebooks/{coh}.ipynb\"} for coh in df_cohorts['cohort_id']]"
   ]
  },
  {
   "cell_type": "code",
   "execution_count": 30,
   "id": "2f5efd5b",
   "metadata": {},
   "outputs": [],
   "source": [
    "parts = [{'caption': 'The malaria vector selection atlas'}, \n",
    "         {'chapters': chapters}]\n",
    "\n",
    "toc_output['parts'] = parts"
   ]
  },
  {
   "cell_type": "code",
   "execution_count": 31,
   "id": "dabc4b40",
   "metadata": {},
   "outputs": [],
   "source": [
    "with open(f\"{outdir}_toc.yml\", mode=\"w\") as output_file:\n",
    "    yaml.safe_dump(toc_output, output_file)"
   ]
  }
 ],
 "metadata": {
  "kernelspec": {
   "display_name": "selection-atlas",
   "language": "python",
   "name": "selection-atlas"
  },
  "language_info": {
   "codemirror_mode": {
    "name": "ipython",
    "version": 3
   },
   "file_extension": ".py",
   "mimetype": "text/x-python",
   "name": "python",
   "nbconvert_exporter": "python",
   "pygments_lexer": "ipython3",
   "version": "3.10.9"
  }
 },
 "nbformat": 4,
 "nbformat_minor": 5
}

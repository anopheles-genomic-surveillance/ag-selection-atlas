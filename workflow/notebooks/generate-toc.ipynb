{
 "cells": [
  {
   "cell_type": "markdown",
   "id": "0402fbc0",
   "metadata": {},
   "source": [
    "# Generate book table of contents\n",
    "\n",
    "Here we generate the Jupyter book table of contents file at `docs/_toc.yml`."
   ]
  },
  {
   "cell_type": "code",
   "execution_count": null,
   "id": "6e7f3c55",
   "metadata": {
    "tags": [
     "parameters"
    ]
   },
   "outputs": [],
   "source": [
    "# Notebook parameters. Values here are for development only and\n",
    "# will be overridden when running via snakemake and papermill.\n",
    "contigs = [\"3L\"]\n",
    "dask_scheduler = \"threads\"\n",
    "analysis_version = \"2025.01.30\""
   ]
  },
  {
   "cell_type": "code",
   "execution_count": null,
   "id": "b351415c",
   "metadata": {
    "tags": []
   },
   "outputs": [],
   "source": [
    "import pandas as pd\n",
    "import geopandas as gpd\n",
    "from pyprojroot import here\n",
    "import yaml\n",
    "import dask\n",
    "\n",
    "dask.config.set(scheduler=dask_scheduler);"
   ]
  },
  {
   "cell_type": "code",
   "execution_count": null,
   "id": "5ca7f516",
   "metadata": {
    "tags": []
   },
   "outputs": [],
   "source": [
    "gdf_cohorts = gpd.read_file(\n",
    "    here() / \"build\" / analysis_version / \"final_cohorts.geojson\"\n",
    ")\n",
    "gdf_cohorts.head()"
   ]
  },
  {
   "cell_type": "code",
   "execution_count": null,
   "id": "e68897f1",
   "metadata": {
    "tags": []
   },
   "outputs": [],
   "source": [
    "gdf_cohorts.columns"
   ]
  },
  {
   "cell_type": "code",
   "execution_count": null,
   "id": "f2689988",
   "metadata": {
    "tags": []
   },
   "outputs": [],
   "source": [
    "countries = gdf_cohorts[\"country_alpha2\"].unique()\n",
    "countries"
   ]
  },
  {
   "cell_type": "code",
   "execution_count": null,
   "id": "385be630",
   "metadata": {
    "tags": []
   },
   "outputs": [],
   "source": [
    "# discover alerts\n",
    "alert_dir = here() / \"workflow\" / \"alerts\"\n",
    "alerts = sorted([\n",
    "    f.name.split(\".\")[0] \n",
    "    for f in alert_dir.iterdir()\n",
    "    if f.name.startswith(\"SA-\")]\n",
    ")\n",
    "alerts"
   ]
  },
  {
   "cell_type": "code",
   "execution_count": null,
   "id": "6db0fcbf",
   "metadata": {
    "tags": []
   },
   "outputs": [],
   "source": [
    "alerts_part = dict(\n",
    "    caption=\"Alerts\",\n",
    "    chapters=[\n",
    "        dict(\n",
    "            file=\"alerts\",\n",
    "            sections=[dict(file=f\"alert/{a}\") for a in alerts],\n",
    "        ),\n",
    "    ],\n",
    ")\n",
    "alerts_part"
   ]
  },
  {
   "cell_type": "code",
   "execution_count": null,
   "id": "8813d652",
   "metadata": {},
   "outputs": [],
   "source": [
    "genome_part = dict(\n",
    "    caption=\"By chromosome\",\n",
    "    chapters=[\n",
    "        dict(\n",
    "            file=f\"genome/ag-{contig}\",\n",
    "        )\n",
    "        for contig in contigs\n",
    "    ],\n",
    ")\n",
    "genome_part"
   ]
  },
  {
   "cell_type": "code",
   "execution_count": null,
   "id": "cdf356bb",
   "metadata": {},
   "outputs": [],
   "source": [
    "def build_country_chapter(country):\n",
    "    cohorts = sorted(gdf_cohorts.query(f\"country_alpha2 == '{country}'\")[\"cohort_id\"])\n",
    "    chapter = dict(\n",
    "        file=f\"country/{country}\",\n",
    "        sections=[\n",
    "            dict(\n",
    "                file=f\"cohort/{cohort}\",\n",
    "            )\n",
    "            for cohort in cohorts\n",
    "        ],\n",
    "    )\n",
    "    return chapter\n"
   ]
  },
  {
   "cell_type": "code",
   "execution_count": null,
   "id": "20069ed1",
   "metadata": {},
   "outputs": [],
   "source": [
    "countries_part = dict(\n",
    "    caption=\"By country\",\n",
    "    chapters=[build_country_chapter(country) for country in countries],\n",
    ")\n",
    "countries_part"
   ]
  },
  {
   "cell_type": "code",
   "execution_count": null,
   "id": "76e17b0d",
   "metadata": {},
   "outputs": [],
   "source": [
    "toc = dict(\n",
    "    format=\"jb-book\",\n",
    "    root=\"home-page\",\n",
    "    parts=[\n",
    "        alerts_part,\n",
    "        genome_part,\n",
    "        countries_part,\n",
    "    ],\n",
    ")\n",
    "toc"
   ]
  },
  {
   "cell_type": "code",
   "execution_count": null,
   "id": "dabc4b40",
   "metadata": {},
   "outputs": [],
   "source": [
    "with open(here() / \"docs\" / \"_toc.yml\", mode=\"w\") as output_file:\n",
    "    yaml.safe_dump(toc, output_file)"
   ]
  },
  {
   "cell_type": "code",
   "execution_count": null,
   "id": "65283e5a",
   "metadata": {},
   "outputs": [],
   "source": []
  }
 ],
 "metadata": {
  "kernelspec": {
   "display_name": "selection-atlas",
   "language": "python",
   "name": "selection-atlas"
  },
  "language_info": {
   "codemirror_mode": {
    "name": "ipython",
    "version": 3
   },
   "file_extension": ".py",
   "mimetype": "text/x-python",
   "name": "python",
   "nbconvert_exporter": "python",
   "pygments_lexer": "ipython3",
   "version": "3.11.11"
  }
 },
 "nbformat": 4,
 "nbformat_minor": 5
}

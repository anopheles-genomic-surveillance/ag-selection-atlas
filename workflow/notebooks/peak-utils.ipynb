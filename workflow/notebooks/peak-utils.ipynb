{
 "cells": [
  {
   "cell_type": "code",
   "execution_count": 1,
   "id": "fd2b01cd-1407-40f9-91f6-0d7912e0b332",
   "metadata": {
    "tags": []
   },
   "outputs": [],
   "source": [
    "import numpy as np\n",
    "import numba\n",
    "import pandas as pd\n",
    "import malariagen_data\n",
    "import itertools\n",
    "import functools\n",
    "from pyprojroot import here"
   ]
  },
  {
   "cell_type": "code",
   "execution_count": 2,
   "id": "7fbb2e1c-46b0-4719-a399-fed1affcb713",
   "metadata": {
    "tags": []
   },
   "outputs": [],
   "source": [
    "def exponential_peak(x, center, amplitude, decay, baseline, floor, ceiling):\n",
    "    \"\"\"Symmetric exponential peak function.\n",
    "\n",
    "    Parameters\n",
    "    ----------\n",
    "    x : ndarray\n",
    "        Independent variable.\n",
    "    center : int or float\n",
    "        The center of the peak.\n",
    "    amplitude : float\n",
    "        Amplitude parameter.\n",
    "    decay : float\n",
    "        Decay parameter.\n",
    "    baseline : float\n",
    "        Baseline parameter.\n",
    "    floor : float\n",
    "        Minimum value that the result can take.\n",
    "    ceiling : float\n",
    "        Maximum value that the result can take.\n",
    "\n",
    "    Returns\n",
    "    -------\n",
    "    y : ndarray\n",
    "\n",
    "    \"\"\"\n",
    "\n",
    "    # locate the index at which to split data into left and right flanks\n",
    "    ix_split = bisect_right(x, center)\n",
    "\n",
    "    # compute left flank\n",
    "    xl = center - x[:ix_split]\n",
    "    yl = baseline + amplitude * np.exp(-xl / decay)\n",
    "\n",
    "    # compute right flank\n",
    "    xr = x[ix_split:] - center\n",
    "    yr = baseline + amplitude * np.exp(-xr / decay)\n",
    "\n",
    "    # prepare output\n",
    "    y = np.concatenate([yl, yr])\n",
    "\n",
    "    # apply limits\n",
    "    y = y.clip(floor, ceiling)\n",
    "\n",
    "    return y"
   ]
  },
  {
   "cell_type": "code",
   "execution_count": 3,
   "id": "339c5785-4cac-4245-8292-4239988ccf8a",
   "metadata": {
    "tags": []
   },
   "outputs": [],
   "source": [
    "def skewed_exponential_peak(x, center, amplitude, decay, skew, baseline, floor, ceiling):\n",
    "    \"\"\"Asymmetric exponential decay peak function.\n",
    "\n",
    "    Parameters\n",
    "    ----------\n",
    "    x : ndarray\n",
    "        Independent variable.\n",
    "    center : int or float\n",
    "        The center of the peak.\n",
    "    amplitude : float\n",
    "        Amplitude parameter.\n",
    "    decay : float\n",
    "        Decay parameter.\n",
    "    skew : float\n",
    "        Skew parameter.\n",
    "    baseline : float\n",
    "        Baseline parameter.\n",
    "    floor : float\n",
    "        Minimum value that the result can take.\n",
    "    ceiling : float\n",
    "        Maximum value that the result can take.\n",
    "\n",
    "    Returns\n",
    "    -------\n",
    "    y : ndarray\n",
    "\n",
    "    \"\"\"\n",
    "\n",
    "    decay_right = 2**(-skew) * decay\n",
    "    decay_left = 2**skew * decay\n",
    "\n",
    "    # locate the index at which to split data into left and right flanks\n",
    "    ix_split = bisect_right(x, center)\n",
    "\n",
    "    # compute left flank\n",
    "    xl = center - x[:ix_split]\n",
    "    yl = baseline + amplitude * np.exp(-xl / decay_left)\n",
    "\n",
    "    # compute right flank\n",
    "    xr = x[ix_split:] - center\n",
    "    yr = baseline + amplitude * np.exp(-xr / decay_right)\n",
    "\n",
    "    # prepare output\n",
    "    y = np.concatenate([yl, yr])\n",
    "\n",
    "    # apply limits\n",
    "    y = y.clip(floor, ceiling)\n",
    "\n",
    "    return y"
   ]
  },
  {
   "cell_type": "code",
   "execution_count": 4,
   "id": "fc59faa7-6e29-4387-aded-1c7dbf4cb283",
   "metadata": {
    "tags": []
   },
   "outputs": [],
   "source": [
    "def gaussian_peak(x, center, amplitude, sigma, baseline, floor, ceiling):\n",
    "    \"\"\"Gaussian peak function.\n",
    "\n",
    "    Parameters\n",
    "    ----------\n",
    "    x : ndarray\n",
    "        Independent variable.\n",
    "    center : int or float\n",
    "        The center of the peak.\n",
    "    amplitude : float\n",
    "        Amplitude parameter.\n",
    "    sigma : float\n",
    "        Width parameter.\n",
    "    baseline : float\n",
    "        Baseline parameter.\n",
    "    floor : float\n",
    "        Minimum value that the result can take.\n",
    "    ceiling : float\n",
    "        Maximum value that the result can take.\n",
    "\n",
    "    Returns\n",
    "    -------\n",
    "    y : ndarray\n",
    "\n",
    "    \"\"\"\n",
    "\n",
    "    y = (baseline +\n",
    "         amplitude *\n",
    "         np.exp(-(x - center)**2 / (2 * sigma**2)))\n",
    "\n",
    "    # apply limits\n",
    "    y = y.clip(floor, ceiling)\n",
    "\n",
    "    return y"
   ]
  },
  {
   "cell_type": "code",
   "execution_count": 5,
   "id": "5654fc88-f717-4d46-bd36-9a1bc1a4b3e0",
   "metadata": {
    "tags": []
   },
   "outputs": [],
   "source": [
    "def skewed_gaussian_peak(x, center, amplitude, sigma, skew, baseline, floor, ceiling):\n",
    "    \"\"\"Asymmetric Gaussian peak function.\n",
    "\n",
    "    Parameters\n",
    "    ----------\n",
    "    x : ndarray\n",
    "        Independent variable.\n",
    "    center : int or float\n",
    "        The center of the peak.\n",
    "    amplitude : float\n",
    "        Amplitude parameter.\n",
    "    sigma : float\n",
    "        Width parameter.\n",
    "    skew : float\n",
    "        Skew parameter.\n",
    "    baseline : float\n",
    "        Baseline parameter.\n",
    "    floor : float\n",
    "        Minimum value that the result can take.\n",
    "    ceiling : float\n",
    "        Maximum value that the result can take.\n",
    "\n",
    "    Returns\n",
    "    -------\n",
    "    y : ndarray\n",
    "\n",
    "    \"\"\"\n",
    "\n",
    "    sigma_right = 2**(-skew) * sigma\n",
    "    sigma_left = 2**skew * sigma\n",
    "\n",
    "    # locate the index at which to split data into left and right flanks\n",
    "    ix_split = bisect_right(x, center)\n",
    "\n",
    "    # compute left flank\n",
    "    xl = center - x[:ix_split]\n",
    "    yl = (baseline +\n",
    "          amplitude *\n",
    "          np.exp(-xl**2 / (2 * sigma_left**2)))\n",
    "\n",
    "    # compute right flank\n",
    "    xr = x[ix_split:] - center\n",
    "    yr = (baseline +\n",
    "          amplitude *\n",
    "          np.exp(-xr**2 / (2 * sigma_right**2)))\n",
    "\n",
    "    # prepare output\n",
    "    y = np.concatenate([yl, yr])\n",
    "\n",
    "    # apply limits\n",
    "    y = y.clip(floor, ceiling)\n",
    "\n",
    "    return y"
   ]
  },
  {
   "cell_type": "code",
   "execution_count": 6,
   "id": "99c7fe6d-bbc2-4083-980c-0b7cd6c1cd0c",
   "metadata": {
    "tags": []
   },
   "outputs": [],
   "source": [
    "@numba.njit\n",
    "def hampel_filter(x, size, t=3):\n",
    "    # https://link.springer.com/article/10.1186/s13634-016-0383-6\n",
    "    # https://towardsdatascience.com/outlier-detection-with-hampel-filter-85ddf523c73d\n",
    "    \n",
    "    y = x.copy()\n",
    "    mad_scale_factor = 1.4826\n",
    "    \n",
    "    for i in range(size, len(x) - size):\n",
    "        # window\n",
    "        w = x[i - size:i + size]\n",
    "        # window median\n",
    "        m = np.median(w)\n",
    "        # median absolute deviation\n",
    "        mad = np.median(np.abs(w - m))\n",
    "        # MAD scale estimate\n",
    "        s = mad_scale_factor * mad\n",
    "        # construct response\n",
    "        if np.abs(x[i] - m) > (t * s):\n",
    "            y[i] = m\n",
    "    \n",
    "    return y"
   ]
  },
  {
   "cell_type": "code",
   "execution_count": 7,
   "id": "8ef79718-76b4-446c-bb17-32193b01587d",
   "metadata": {
    "tags": []
   },
   "outputs": [],
   "source": [
    "@numba.njit\n",
    "def recursive_hampel_filter(x, size, t=3):\n",
    "    # https://link.springer.com/article/10.1186/s13634-016-0383-6\n",
    "    # https://towardsdatascience.com/outlier-detection-with-hampel-filter-85ddf523c73d\n",
    "    \n",
    "    y = x.copy()\n",
    "    mad_scale_factor = 1.4826\n",
    "    \n",
    "    for i in range(size, len(x) - size):\n",
    "        # window\n",
    "        w = y[i - size:i + size]\n",
    "        # window median\n",
    "        m = np.median(w)\n",
    "        # median absolute deviation\n",
    "        mad = np.median(np.abs(w - m))\n",
    "        # MAD scale estimate\n",
    "        S = mad_scale_factor * mad\n",
    "        # construct response\n",
    "        if np.abs(y[i] - m) > (t * S):\n",
    "            y[i] = m\n",
    "    \n",
    "    return y"
   ]
  },
  {
   "cell_type": "code",
   "execution_count": 8,
   "id": "864cb6ef-d07c-4e39-a06d-5e6b3e4b8200",
   "metadata": {
    "tags": []
   },
   "outputs": [],
   "source": [
    "@functools.lru_cache(maxsize=None)\n",
    "def ag_gmap(contig):\n",
    "    ag3 = malariagen_data.Ag3()\n",
    "        \n",
    "    # read in the genetic map file\n",
    "    df_gmap = pd.read_csv(here() / f\"workflow/notebooks/ag_{contig}.gmap\", sep=\"\\t\")\n",
    "\n",
    "    # set up an array of per-base recombination rate values\n",
    "    rr = np.zeros(len(ag3.genome_sequence(contig)), dtype=\"f8\")\n",
    "\n",
    "    # fill in the recombination rate values from the genetic map file\n",
    "    for row, next_row in zip(\n",
    "        itertools.islice(df_gmap.itertuples(), 0, len(df_gmap)-1), \n",
    "        itertools.islice(df_gmap.itertuples(), 1, None)):\n",
    "        \n",
    "        # N.B., the genetic map file is in units of cM / Mbp\n",
    "        # we multiple by 1e-6 to convert to cM / bp\n",
    "        rr[row.pposition-1:next_row.pposition] = row.rrate * 1e-6\n",
    "    \n",
    "    # compute mapping from physical to genetic position\n",
    "    gmap = np.cumsum(rr)\n",
    "        \n",
    "    return gmap\n"
   ]
  },
  {
   "cell_type": "code",
   "execution_count": 9,
   "id": "735e1a42-95a0-4e73-aebc-27874fb13417",
   "metadata": {
    "tags": []
   },
   "outputs": [],
   "source": [
    "def ag_p2g(contig, ppos):\n",
    "    \"\"\"Convert physical position (bp) to genetic position (cM).\"\"\"\n",
    "    gmap = ag_gmap(contig)\n",
    "    gpos = gmap[ppos - 1]\n",
    "    return gpos"
   ]
  },
  {
   "cell_type": "code",
   "execution_count": 10,
   "id": "3f549ddb-4223-43c4-839b-618a9ef148c0",
   "metadata": {
    "tags": []
   },
   "outputs": [],
   "source": [
    "# TODO\n",
    "# implement a peak_scan method, similar to...\n",
    "# https://github.com/alimanfoo/shiny-train/blob/peak-fitting-20200916/notebooks/artwork/peak-scans.ipynb"
   ]
  },
  {
   "cell_type": "markdown",
   "id": "815b034f-28fe-44f1-b40d-e3e119a63e75",
   "metadata": {},
   "source": [
    "## Testing"
   ]
  },
  {
   "cell_type": "code",
   "execution_count": 15,
   "id": "9ed9cd5e-a195-4a25-a2a5-d521fb4f1d39",
   "metadata": {
    "tags": []
   },
   "outputs": [],
   "source": [
    "# ag_p2g(\"2L\", 10_000_000)"
   ]
  },
  {
   "cell_type": "code",
   "execution_count": 16,
   "id": "a3ebdd1d-cf00-4330-bf51-6c07dcfdb297",
   "metadata": {
    "tags": []
   },
   "outputs": [],
   "source": [
    "# import matplotlib.pyplot as plt\n",
    "# %matplotlib inline"
   ]
  },
  {
   "cell_type": "code",
   "execution_count": 17,
   "id": "04ed9675-0c5e-4b05-9af9-f2c0b1525ec0",
   "metadata": {
    "tags": []
   },
   "outputs": [],
   "source": [
    "# fig, ax = plt.subplots()\n",
    "# ax.plot(ag_gmap(\"2L\"))\n",
    "# ax.set_xlabel('Physical position (bp)')\n",
    "# ax.set_ylabel('Genetic position (cM)');"
   ]
  },
  {
   "cell_type": "code",
   "execution_count": 18,
   "id": "35feb1a2-e332-4a38-9f1b-13d06371f723",
   "metadata": {
    "tags": []
   },
   "outputs": [],
   "source": [
    "# fig, ax = plt.subplots()\n",
    "# ax.plot(ag_gmap(\"2R\"))\n",
    "# ax.set_xlabel('Physical position (bp)')\n",
    "# ax.set_ylabel('Genetic position (cM)');"
   ]
  },
  {
   "cell_type": "code",
   "execution_count": null,
   "id": "6b503653-0289-4804-8691-36375457ffad",
   "metadata": {},
   "outputs": [],
   "source": []
  }
 ],
 "metadata": {
  "kernelspec": {
   "display_name": "Python 3 (ipykernel)",
   "language": "python",
   "name": "python3"
  },
  "language_info": {
   "codemirror_mode": {
    "name": "ipython",
    "version": 3
   },
   "file_extension": ".py",
   "mimetype": "text/x-python",
   "name": "python",
   "nbconvert_exporter": "python",
   "pygments_lexer": "ipython3",
   "version": "3.10.9"
  },
  "widgets": {
   "application/vnd.jupyter.widget-state+json": {
    "state": {},
    "version_major": 2,
    "version_minor": 0
   }
  }
 },
 "nbformat": 4,
 "nbformat_minor": 5
}

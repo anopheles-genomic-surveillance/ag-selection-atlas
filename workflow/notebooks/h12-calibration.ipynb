{
 "cells": [
  {
   "cell_type": "markdown",
   "id": "558a69f6-cc5c-4f18-be1f-bb216f865599",
   "metadata": {},
   "source": [
    "# H12 window size calibration"
   ]
  },
  {
   "cell_type": "markdown",
   "id": "dfd0560d-d3cf-42c0-94ad-5e91835ca4f1",
   "metadata": {},
   "source": [
    "## Notebook parameters"
   ]
  },
  {
   "cell_type": "code",
   "execution_count": 1,
   "id": "6d27b780-05f9-4b0a-99da-749a874ef10f",
   "metadata": {
    "tags": [
     "parameters"
    ]
   },
   "outputs": [],
   "source": [
    "cohort_id = 'BF-09_Houet_colu_2012_Q3'"
   ]
  },
  {
   "cell_type": "markdown",
   "id": "87a7858c-e05a-47dc-ac14-7dff6afc0789",
   "metadata": {},
   "source": [
    "## Setup"
   ]
  },
  {
   "cell_type": "code",
   "execution_count": 2,
   "id": "a43f9a9b-f202-426f-830e-e430a8f762d7",
   "metadata": {
    "tags": []
   },
   "outputs": [],
   "source": [
    "import yaml\n",
    "import pandas as pd\n",
    "import malariagen_data\n",
    "from pyprojroot import here\n",
    "import numpy as np\n",
    "import os"
   ]
  },
  {
   "cell_type": "code",
   "execution_count": 3,
   "id": "a69ce329-790e-42c2-afe9-89d98e93b92a",
   "metadata": {
    "tags": []
   },
   "outputs": [
    {
     "data": {
      "text/plain": [
       "{'min_cohort_size': 20,\n",
       " 'max_cohort_size': 50,\n",
       " 'ag': {'sample_sets': ['AG1000G-BF-A'],\n",
       "  'contigs': ['2R'],\n",
       "  'cohorts_analysis': '20230223',\n",
       "  'h12_calibration_contig': '3L'}}"
      ]
     },
     "execution_count": 3,
     "metadata": {},
     "output_type": "execute_result"
    }
   ],
   "source": [
    "with open(\"workflow/config.yaml\") as config_file:\n",
    "    workflow_config = yaml.safe_load(config_file)\n",
    "workflow_config"
   ]
  },
  {
   "cell_type": "code",
   "execution_count": 4,
   "id": "f608754e-203a-4bc1-9ba0-aacb02909f08",
   "metadata": {
    "tags": []
   },
   "outputs": [
    {
     "data": {
      "text/plain": [
       "['AG1000G-BF-A']"
      ]
     },
     "execution_count": 4,
     "metadata": {},
     "output_type": "execute_result"
    }
   ],
   "source": [
    "sample_sets = workflow_config[\"ag\"][\"sample_sets\"]\n",
    "sample_sets"
   ]
  },
  {
   "cell_type": "code",
   "execution_count": 5,
   "id": "444cbbad-32b5-4e30-8e91-179b2fadaa6b",
   "metadata": {
    "tags": []
   },
   "outputs": [
    {
     "data": {
      "application/javascript": "(function(root) {\n  function now() {\n    return new Date();\n  }\n\n  const force = true;\n\n  if (typeof root._bokeh_onload_callbacks === \"undefined\" || force === true) {\n    root._bokeh_onload_callbacks = [];\n    root._bokeh_is_loading = undefined;\n  }\n\nconst JS_MIME_TYPE = 'application/javascript';\n  const HTML_MIME_TYPE = 'text/html';\n  const EXEC_MIME_TYPE = 'application/vnd.bokehjs_exec.v0+json';\n  const CLASS_NAME = 'output_bokeh rendered_html';\n\n  /**\n   * Render data to the DOM node\n   */\n  function render(props, node) {\n    const script = document.createElement(\"script\");\n    node.appendChild(script);\n  }\n\n  /**\n   * Handle when an output is cleared or removed\n   */\n  function handleClearOutput(event, handle) {\n    const cell = handle.cell;\n\n    const id = cell.output_area._bokeh_element_id;\n    const server_id = cell.output_area._bokeh_server_id;\n    // Clean up Bokeh references\n    if (id != null && id in Bokeh.index) {\n      Bokeh.index[id].model.document.clear();\n      delete Bokeh.index[id];\n    }\n\n    if (server_id !== undefined) {\n      // Clean up Bokeh references\n      const cmd_clean = \"from bokeh.io.state import curstate; print(curstate().uuid_to_server['\" + server_id + \"'].get_sessions()[0].document.roots[0]._id)\";\n      cell.notebook.kernel.execute(cmd_clean, {\n        iopub: {\n          output: function(msg) {\n            const id = msg.content.text.trim();\n            if (id in Bokeh.index) {\n              Bokeh.index[id].model.document.clear();\n              delete Bokeh.index[id];\n            }\n          }\n        }\n      });\n      // Destroy server and session\n      const cmd_destroy = \"import bokeh.io.notebook as ion; ion.destroy_server('\" + server_id + \"')\";\n      cell.notebook.kernel.execute(cmd_destroy);\n    }\n  }\n\n  /**\n   * Handle when a new output is added\n   */\n  function handleAddOutput(event, handle) {\n    const output_area = handle.output_area;\n    const output = handle.output;\n\n    // limit handleAddOutput to display_data with EXEC_MIME_TYPE content only\n    if ((output.output_type != \"display_data\") || (!Object.prototype.hasOwnProperty.call(output.data, EXEC_MIME_TYPE))) {\n      return\n    }\n\n    const toinsert = output_area.element.find(\".\" + CLASS_NAME.split(' ')[0]);\n\n    if (output.metadata[EXEC_MIME_TYPE][\"id\"] !== undefined) {\n      toinsert[toinsert.length - 1].firstChild.textContent = output.data[JS_MIME_TYPE];\n      // store reference to embed id on output_area\n      output_area._bokeh_element_id = output.metadata[EXEC_MIME_TYPE][\"id\"];\n    }\n    if (output.metadata[EXEC_MIME_TYPE][\"server_id\"] !== undefined) {\n      const bk_div = document.createElement(\"div\");\n      bk_div.innerHTML = output.data[HTML_MIME_TYPE];\n      const script_attrs = bk_div.children[0].attributes;\n      for (let i = 0; i < script_attrs.length; i++) {\n        toinsert[toinsert.length - 1].firstChild.setAttribute(script_attrs[i].name, script_attrs[i].value);\n        toinsert[toinsert.length - 1].firstChild.textContent = bk_div.children[0].textContent\n      }\n      // store reference to server id on output_area\n      output_area._bokeh_server_id = output.metadata[EXEC_MIME_TYPE][\"server_id\"];\n    }\n  }\n\n  function register_renderer(events, OutputArea) {\n\n    function append_mime(data, metadata, element) {\n      // create a DOM node to render to\n      const toinsert = this.create_output_subarea(\n        metadata,\n        CLASS_NAME,\n        EXEC_MIME_TYPE\n      );\n      this.keyboard_manager.register_events(toinsert);\n      // Render to node\n      const props = {data: data, metadata: metadata[EXEC_MIME_TYPE]};\n      render(props, toinsert[toinsert.length - 1]);\n      element.append(toinsert);\n      return toinsert\n    }\n\n    /* Handle when an output is cleared or removed */\n    events.on('clear_output.CodeCell', handleClearOutput);\n    events.on('delete.Cell', handleClearOutput);\n\n    /* Handle when a new output is added */\n    events.on('output_added.OutputArea', handleAddOutput);\n\n    /**\n     * Register the mime type and append_mime function with output_area\n     */\n    OutputArea.prototype.register_mime_type(EXEC_MIME_TYPE, append_mime, {\n      /* Is output safe? */\n      safe: true,\n      /* Index of renderer in `output_area.display_order` */\n      index: 0\n    });\n  }\n\n  // register the mime type if in Jupyter Notebook environment and previously unregistered\n  if (root.Jupyter !== undefined) {\n    const events = require('base/js/events');\n    const OutputArea = require('notebook/js/outputarea').OutputArea;\n\n    if (OutputArea.prototype.mime_types().indexOf(EXEC_MIME_TYPE) == -1) {\n      register_renderer(events, OutputArea);\n    }\n  }\n  if (typeof (root._bokeh_timeout) === \"undefined\" || force === true) {\n    root._bokeh_timeout = Date.now() + 5000;\n    root._bokeh_failed_load = false;\n  }\n\n  const NB_LOAD_WARNING = {'data': {'text/html':\n     \"<div style='background-color: #fdd'>\\n\"+\n     \"<p>\\n\"+\n     \"BokehJS does not appear to have successfully loaded. If loading BokehJS from CDN, this \\n\"+\n     \"may be due to a slow or bad network connection. Possible fixes:\\n\"+\n     \"</p>\\n\"+\n     \"<ul>\\n\"+\n     \"<li>re-rerun `output_notebook()` to attempt to load from CDN again, or</li>\\n\"+\n     \"<li>use INLINE resources instead, as so:</li>\\n\"+\n     \"</ul>\\n\"+\n     \"<code>\\n\"+\n     \"from bokeh.resources import INLINE\\n\"+\n     \"output_notebook(resources=INLINE)\\n\"+\n     \"</code>\\n\"+\n     \"</div>\"}};\n\n  function display_loaded() {\n    const el = document.getElementById(null);\n    if (el != null) {\n      el.textContent = \"BokehJS is loading...\";\n    }\n    if (root.Bokeh !== undefined) {\n      if (el != null) {\n        el.textContent = \"BokehJS \" + root.Bokeh.version + \" successfully loaded.\";\n      }\n    } else if (Date.now() < root._bokeh_timeout) {\n      setTimeout(display_loaded, 100)\n    }\n  }\n\n  function run_callbacks() {\n    try {\n      root._bokeh_onload_callbacks.forEach(function(callback) {\n        if (callback != null)\n          callback();\n      });\n    } finally {\n      delete root._bokeh_onload_callbacks\n    }\n    console.debug(\"Bokeh: all callbacks have finished\");\n  }\n\n  function load_libs(css_urls, js_urls, callback) {\n    if (css_urls == null) css_urls = [];\n    if (js_urls == null) js_urls = [];\n\n    root._bokeh_onload_callbacks.push(callback);\n    if (root._bokeh_is_loading > 0) {\n      console.debug(\"Bokeh: BokehJS is being loaded, scheduling callback at\", now());\n      return null;\n    }\n    if (js_urls == null || js_urls.length === 0) {\n      run_callbacks();\n      return null;\n    }\n    console.debug(\"Bokeh: BokehJS not loaded, scheduling load and callback at\", now());\n    root._bokeh_is_loading = css_urls.length + js_urls.length;\n\n    function on_load() {\n      root._bokeh_is_loading--;\n      if (root._bokeh_is_loading === 0) {\n        console.debug(\"Bokeh: all BokehJS libraries/stylesheets loaded\");\n        run_callbacks()\n      }\n    }\n\n    function on_error(url) {\n      console.error(\"failed to load \" + url);\n    }\n\n    for (let i = 0; i < css_urls.length; i++) {\n      const url = css_urls[i];\n      const element = document.createElement(\"link\");\n      element.onload = on_load;\n      element.onerror = on_error.bind(null, url);\n      element.rel = \"stylesheet\";\n      element.type = \"text/css\";\n      element.href = url;\n      console.debug(\"Bokeh: injecting link tag for BokehJS stylesheet: \", url);\n      document.body.appendChild(element);\n    }\n\n    for (let i = 0; i < js_urls.length; i++) {\n      const url = js_urls[i];\n      const element = document.createElement('script');\n      element.onload = on_load;\n      element.onerror = on_error.bind(null, url);\n      element.async = false;\n      element.src = url;\n      console.debug(\"Bokeh: injecting script tag for BokehJS library: \", url);\n      document.head.appendChild(element);\n    }\n  };\n\n  function inject_raw_css(css) {\n    const element = document.createElement(\"style\");\n    element.appendChild(document.createTextNode(css));\n    document.body.appendChild(element);\n  }\n\n  const js_urls = [\"https://cdn.bokeh.org/bokeh/release/bokeh-2.4.3.min.js\", \"https://cdn.bokeh.org/bokeh/release/bokeh-gl-2.4.3.min.js\", \"https://cdn.bokeh.org/bokeh/release/bokeh-widgets-2.4.3.min.js\", \"https://cdn.bokeh.org/bokeh/release/bokeh-tables-2.4.3.min.js\", \"https://cdn.bokeh.org/bokeh/release/bokeh-mathjax-2.4.3.min.js\"];\n  const css_urls = [];\n\n  const inline_js = [    function(Bokeh) {\n      Bokeh.set_log_level(\"info\");\n    },\nfunction(Bokeh) {\n    }\n  ];\n\n  function run_inline_js() {\n    if (root.Bokeh !== undefined || force === true) {\n          for (let i = 0; i < inline_js.length; i++) {\n      inline_js[i].call(root, root.Bokeh);\n    }\n} else if (Date.now() < root._bokeh_timeout) {\n      setTimeout(run_inline_js, 100);\n    } else if (!root._bokeh_failed_load) {\n      console.log(\"Bokeh: BokehJS failed to load within specified timeout.\");\n      root._bokeh_failed_load = true;\n    } else if (force !== true) {\n      const cell = $(document.getElementById(null)).parents('.cell').data().cell;\n      cell.output_area.append_execute_result(NB_LOAD_WARNING)\n    }\n  }\n\n  if (root._bokeh_is_loading === 0) {\n    console.debug(\"Bokeh: BokehJS loaded, going straight to plotting\");\n    run_inline_js();\n  } else {\n    load_libs(css_urls, js_urls, function() {\n      console.debug(\"Bokeh: BokehJS plotting callback run at\", now());\n      run_inline_js();\n    });\n  }\n}(window));",
      "application/vnd.bokehjs_load.v0+json": ""
     },
     "metadata": {},
     "output_type": "display_data"
    },
    {
     "data": {
      "text/html": [
       "\n",
       "            <table class=\"malariagen-ag3\">\n",
       "                <thead>\n",
       "                    <tr>\n",
       "                        <th style=\"text-align: left\" colspan=\"2\">MalariaGEN Ag3 API client</th>\n",
       "                    </tr>\n",
       "                    <tr><td colspan=\"2\" style=\"text-align: left\">\n",
       "                        Please note that data are subject to terms of use,\n",
       "                        for more information see <a href=\"https://www.malariagen.net/data\">\n",
       "                        the MalariaGEN website</a> or contact data@malariagen.net.\n",
       "                        See also the <a href=\"https://malariagen.github.io/vector-data/ag3/api.html\">Ag3 API docs</a>.\n",
       "                    </td></tr>\n",
       "                </thead>\n",
       "                <tbody>\n",
       "                    <tr>\n",
       "                        <th style=\"text-align: left\">\n",
       "                            Storage URL\n",
       "                        </th>\n",
       "                        <td>simplecache::gs://vo_agam_release</td>\n",
       "                    </tr>\n",
       "                    <tr>\n",
       "                        <th style=\"text-align: left\">\n",
       "                            Data releases available\n",
       "                        </th>\n",
       "                        <td>3.0</td>\n",
       "                    </tr>\n",
       "                    <tr>\n",
       "                        <th style=\"text-align: left\">\n",
       "                            Results cache\n",
       "                        </th>\n",
       "                        <td>/home/aliman/github/anopheles-genomics-surveillance/selection-atlas/malariagen_data_cache</td>\n",
       "                    </tr>\n",
       "                    <tr>\n",
       "                        <th style=\"text-align: left\">\n",
       "                            Cohorts analysis\n",
       "                        </th>\n",
       "                        <td>20230223</td>\n",
       "                    </tr>\n",
       "                    <tr>\n",
       "                        <th style=\"text-align: left\">\n",
       "                            Species analysis\n",
       "                        </th>\n",
       "                        <td>aim_20220528</td>\n",
       "                    </tr>\n",
       "                    <tr>\n",
       "                        <th style=\"text-align: left\">\n",
       "                            Site filters analysis\n",
       "                        </th>\n",
       "                        <td>dt_20200416</td>\n",
       "                    </tr>\n",
       "                    <tr>\n",
       "                        <th style=\"text-align: left\">\n",
       "                            Software version\n",
       "                        </th>\n",
       "                        <td>malariagen_data 7.3.0</td>\n",
       "                    </tr>\n",
       "                    <tr>\n",
       "                        <th style=\"text-align: left\">\n",
       "                            Client location\n",
       "                        </th>\n",
       "                        <td>England, GB</td>\n",
       "                    </tr>\n",
       "                </tbody>\n",
       "            </table>\n",
       "        "
      ],
      "text/plain": [
       "<MalariaGEN Ag3 API client>\n",
       "Storage URL             : simplecache::gs://vo_agam_release\n",
       "Data releases available : 3.0\n",
       "Results cache           : /home/aliman/github/anopheles-genomics-surveillance/selection-atlas/malariagen_data_cache\n",
       "Cohorts analysis        : 20230223\n",
       "Species analysis        : aim_20220528\n",
       "Site filters analysis   : dt_20200416\n",
       "Software version        : malariagen_data 7.3.0\n",
       "Client location         : England, GB\n",
       "---\n",
       "Please note that data are subject to terms of use,\n",
       "for more information see https://www.malariagen.net/data\n",
       "or contact data@malariagen.net. For API documentation see \n",
       "https://malariagen.github.io/vector-data/ag3/api.html"
      ]
     },
     "execution_count": 5,
     "metadata": {},
     "output_type": "execute_result"
    }
   ],
   "source": [
    "ag3 = malariagen_data.Ag3(\n",
    "    # TODO in production build, remove use of simplecache if running inside google cloud\n",
    "    # url = \"gs://vo_agam_release\",\n",
    "    url=\"simplecache::gs://vo_agam_release\",\n",
    "    # pin the version of the cohorts analysis for reproducibility\n",
    "    cohorts_analysis=workflow_config[\"ag\"][\"cohorts_analysis\"],\n",
    "    # TODO remove simplecache config in production\n",
    "    simplecache=dict(cache_storage=(here() / \"gcs_cache\").as_posix()),\n",
    "    results_cache=(here() / \"malariagen_data_cache\").as_posix(),\n",
    ")\n",
    "ag3"
   ]
  },
  {
   "cell_type": "code",
   "execution_count": 6,
   "id": "165f3f10-8301-4b96-bf01-7639efbc47ca",
   "metadata": {
    "tags": []
   },
   "outputs": [
    {
     "data": {
      "text/html": [
       "<div>\n",
       "<style scoped>\n",
       "    .dataframe tbody tr th:only-of-type {\n",
       "        vertical-align: middle;\n",
       "    }\n",
       "\n",
       "    .dataframe tbody tr th {\n",
       "        vertical-align: top;\n",
       "    }\n",
       "\n",
       "    .dataframe thead th {\n",
       "        text-align: right;\n",
       "    }\n",
       "</style>\n",
       "<table border=\"1\" class=\"dataframe\">\n",
       "  <thead>\n",
       "    <tr style=\"text-align: right;\">\n",
       "      <th></th>\n",
       "      <th>cohort_size</th>\n",
       "      <th>country</th>\n",
       "      <th>admin1_iso</th>\n",
       "      <th>admin1_name</th>\n",
       "      <th>admin2_name</th>\n",
       "      <th>taxon</th>\n",
       "      <th>year</th>\n",
       "      <th>quarter</th>\n",
       "      <th>cohort_label</th>\n",
       "      <th>sample_query</th>\n",
       "    </tr>\n",
       "    <tr>\n",
       "      <th>cohort_id</th>\n",
       "      <th></th>\n",
       "      <th></th>\n",
       "      <th></th>\n",
       "      <th></th>\n",
       "      <th></th>\n",
       "      <th></th>\n",
       "      <th></th>\n",
       "      <th></th>\n",
       "      <th></th>\n",
       "      <th></th>\n",
       "    </tr>\n",
       "  </thead>\n",
       "  <tbody>\n",
       "    <tr>\n",
       "      <th>AO-LUA_Luanda_colu_2009_Q2</th>\n",
       "      <td>77</td>\n",
       "      <td>Angola</td>\n",
       "      <td>AO-LUA</td>\n",
       "      <td>Luanda</td>\n",
       "      <td>Luanda</td>\n",
       "      <td>coluzzii</td>\n",
       "      <td>2009</td>\n",
       "      <td>2</td>\n",
       "      <td>Angola / Luanda / coluzzii / 2009 / Q2</td>\n",
       "      <td>cohort_admin2_quarter == 'AO-LUA_Luanda_colu_2...</td>\n",
       "    </tr>\n",
       "    <tr>\n",
       "      <th>BF-09_Houet_colu_2012_Q3</th>\n",
       "      <td>78</td>\n",
       "      <td>Burkina Faso</td>\n",
       "      <td>BF-09</td>\n",
       "      <td>Hauts-Bassins</td>\n",
       "      <td>Houet</td>\n",
       "      <td>coluzzii</td>\n",
       "      <td>2012</td>\n",
       "      <td>3</td>\n",
       "      <td>Burkina Faso / Houet / coluzzii / 2012 / Q3</td>\n",
       "      <td>cohort_admin2_quarter == 'BF-09_Houet_colu_201...</td>\n",
       "    </tr>\n",
       "    <tr>\n",
       "      <th>BF-09_Houet_colu_2014_Q3</th>\n",
       "      <td>32</td>\n",
       "      <td>Burkina Faso</td>\n",
       "      <td>BF-09</td>\n",
       "      <td>Hauts-Bassins</td>\n",
       "      <td>Houet</td>\n",
       "      <td>coluzzii</td>\n",
       "      <td>2014</td>\n",
       "      <td>3</td>\n",
       "      <td>Burkina Faso / Houet / coluzzii / 2014 / Q3</td>\n",
       "      <td>cohort_admin2_quarter == 'BF-09_Houet_colu_201...</td>\n",
       "    </tr>\n",
       "    <tr>\n",
       "      <th>BF-09_Houet_gamb_2012_Q3</th>\n",
       "      <td>73</td>\n",
       "      <td>Burkina Faso</td>\n",
       "      <td>BF-09</td>\n",
       "      <td>Hauts-Bassins</td>\n",
       "      <td>Houet</td>\n",
       "      <td>gambiae</td>\n",
       "      <td>2012</td>\n",
       "      <td>3</td>\n",
       "      <td>Burkina Faso / Houet / gambiae / 2012 / Q3</td>\n",
       "      <td>cohort_admin2_quarter == 'BF-09_Houet_gamb_201...</td>\n",
       "    </tr>\n",
       "    <tr>\n",
       "      <th>BF-09_Houet_gamb_2014_Q3</th>\n",
       "      <td>41</td>\n",
       "      <td>Burkina Faso</td>\n",
       "      <td>BF-09</td>\n",
       "      <td>Hauts-Bassins</td>\n",
       "      <td>Houet</td>\n",
       "      <td>gambiae</td>\n",
       "      <td>2014</td>\n",
       "      <td>3</td>\n",
       "      <td>Burkina Faso / Houet / gambiae / 2014 / Q3</td>\n",
       "      <td>cohort_admin2_quarter == 'BF-09_Houet_gamb_201...</td>\n",
       "    </tr>\n",
       "  </tbody>\n",
       "</table>\n",
       "</div>"
      ],
      "text/plain": [
       "                            cohort_size       country admin1_iso  \\\n",
       "cohort_id                                                          \n",
       "AO-LUA_Luanda_colu_2009_Q2           77        Angola     AO-LUA   \n",
       "BF-09_Houet_colu_2012_Q3             78  Burkina Faso      BF-09   \n",
       "BF-09_Houet_colu_2014_Q3             32  Burkina Faso      BF-09   \n",
       "BF-09_Houet_gamb_2012_Q3             73  Burkina Faso      BF-09   \n",
       "BF-09_Houet_gamb_2014_Q3             41  Burkina Faso      BF-09   \n",
       "\n",
       "                              admin1_name admin2_name     taxon  year  \\\n",
       "cohort_id                                                               \n",
       "AO-LUA_Luanda_colu_2009_Q2         Luanda      Luanda  coluzzii  2009   \n",
       "BF-09_Houet_colu_2012_Q3    Hauts-Bassins       Houet  coluzzii  2012   \n",
       "BF-09_Houet_colu_2014_Q3    Hauts-Bassins       Houet  coluzzii  2014   \n",
       "BF-09_Houet_gamb_2012_Q3    Hauts-Bassins       Houet   gambiae  2012   \n",
       "BF-09_Houet_gamb_2014_Q3    Hauts-Bassins       Houet   gambiae  2014   \n",
       "\n",
       "                            quarter  \\\n",
       "cohort_id                             \n",
       "AO-LUA_Luanda_colu_2009_Q2        2   \n",
       "BF-09_Houet_colu_2012_Q3          3   \n",
       "BF-09_Houet_colu_2014_Q3          3   \n",
       "BF-09_Houet_gamb_2012_Q3          3   \n",
       "BF-09_Houet_gamb_2014_Q3          3   \n",
       "\n",
       "                                                           cohort_label  \\\n",
       "cohort_id                                                                 \n",
       "AO-LUA_Luanda_colu_2009_Q2       Angola / Luanda / coluzzii / 2009 / Q2   \n",
       "BF-09_Houet_colu_2012_Q3    Burkina Faso / Houet / coluzzii / 2012 / Q3   \n",
       "BF-09_Houet_colu_2014_Q3    Burkina Faso / Houet / coluzzii / 2014 / Q3   \n",
       "BF-09_Houet_gamb_2012_Q3     Burkina Faso / Houet / gambiae / 2012 / Q3   \n",
       "BF-09_Houet_gamb_2014_Q3     Burkina Faso / Houet / gambiae / 2014 / Q3   \n",
       "\n",
       "                                                                 sample_query  \n",
       "cohort_id                                                                      \n",
       "AO-LUA_Luanda_colu_2009_Q2  cohort_admin2_quarter == 'AO-LUA_Luanda_colu_2...  \n",
       "BF-09_Houet_colu_2012_Q3    cohort_admin2_quarter == 'BF-09_Houet_colu_201...  \n",
       "BF-09_Houet_colu_2014_Q3    cohort_admin2_quarter == 'BF-09_Houet_colu_201...  \n",
       "BF-09_Houet_gamb_2012_Q3    cohort_admin2_quarter == 'BF-09_Houet_gamb_201...  \n",
       "BF-09_Houet_gamb_2014_Q3    cohort_admin2_quarter == 'BF-09_Houet_gamb_201...  "
      ]
     },
     "execution_count": 6,
     "metadata": {},
     "output_type": "execute_result"
    }
   ],
   "source": [
    "df_cohorts = pd.read_csv(\"build/cohorts.csv\").set_index(\"cohort_id\")\n",
    "df_cohorts.head()"
   ]
  },
  {
   "cell_type": "code",
   "execution_count": 7,
   "id": "4b8994d6-1f03-4613-9aeb-1dffe9e3c745",
   "metadata": {
    "tags": []
   },
   "outputs": [
    {
     "data": {
      "text/plain": [
       "cohort_size                                                    78\n",
       "country                                              Burkina Faso\n",
       "admin1_iso                                                  BF-09\n",
       "admin1_name                                         Hauts-Bassins\n",
       "admin2_name                                                 Houet\n",
       "taxon                                                    coluzzii\n",
       "year                                                         2012\n",
       "quarter                                                         3\n",
       "cohort_label          Burkina Faso / Houet / coluzzii / 2012 / Q3\n",
       "sample_query    cohort_admin2_quarter == 'BF-09_Houet_colu_201...\n",
       "Name: BF-09_Houet_colu_2012_Q3, dtype: object"
      ]
     },
     "execution_count": 7,
     "metadata": {},
     "output_type": "execute_result"
    }
   ],
   "source": [
    "cohort = df_cohorts.loc[cohort_id]\n",
    "cohort"
   ]
  },
  {
   "cell_type": "code",
   "execution_count": 8,
   "id": "ae14434e-fb63-40e2-b11f-445f10c0e8f2",
   "metadata": {
    "tags": []
   },
   "outputs": [
    {
     "data": {
      "text/plain": [
       "'coluzzii'"
      ]
     },
     "execution_count": 8,
     "metadata": {},
     "output_type": "execute_result"
    }
   ],
   "source": [
    "# determine the phasing analysis to use\n",
    "cohort.taxon"
   ]
  },
  {
   "cell_type": "code",
   "execution_count": 14,
   "id": "795e6a08-85d3-4445-a729-d4064533e106",
   "metadata": {
    "tags": []
   },
   "outputs": [
    {
     "data": {
      "text/plain": [
       "\"cohort_admin2_quarter == 'BF-09_Houet_colu_2012_Q3' and sex_call == 'F'\""
      ]
     },
     "execution_count": 14,
     "metadata": {},
     "output_type": "execute_result"
    }
   ],
   "source": [
    "sample_query = cohort.sample_query\n",
    "sample_query"
   ]
  },
  {
   "cell_type": "code",
   "execution_count": 9,
   "id": "53b4eb48-ccc9-443f-bd6d-d0595ea1b5cf",
   "metadata": {
    "tags": []
   },
   "outputs": [
    {
     "data": {
      "text/plain": [
       "'gamb_colu'"
      ]
     },
     "execution_count": 9,
     "metadata": {},
     "output_type": "execute_result"
    }
   ],
   "source": [
    "if cohort.taxon == 'arabiensis':\n",
    "    phasing_analysis = 'arab'\n",
    "else:\n",
    "    phasing_analysis = 'gamb_colu'\n",
    "phasing_analysis"
   ]
  },
  {
   "cell_type": "code",
   "execution_count": 10,
   "id": "dc84acde-7774-4f66-b200-77cb7ac7ae85",
   "metadata": {
    "tags": []
   },
   "outputs": [
    {
     "data": {
      "text/plain": [
       "50"
      ]
     },
     "execution_count": 10,
     "metadata": {},
     "output_type": "execute_result"
    }
   ],
   "source": [
    "if cohort.cohort_size > workflow_config['max_cohort_size']:\n",
    "    # downsampling for computational efficiency\n",
    "    cohort_size = workflow_config['max_cohort_size']\n",
    "else:\n",
    "    # no downsampling\n",
    "    cohort_size = None \n",
    "cohort_size"
   ]
  },
  {
   "cell_type": "code",
   "execution_count": 11,
   "id": "364bb11b-76c4-4e6e-b342-d41a9f07912c",
   "metadata": {
    "tags": []
   },
   "outputs": [
    {
     "data": {
      "text/plain": [
       "'3L'"
      ]
     },
     "execution_count": 11,
     "metadata": {},
     "output_type": "execute_result"
    }
   ],
   "source": [
    "contig = workflow_config[\"ag\"][\"h12_calibration_contig\"]\n",
    "contig"
   ]
  },
  {
   "cell_type": "code",
   "execution_count": 12,
   "id": "32c68d4a-ba77-451e-957a-42fe3528a2ee",
   "metadata": {
    "tags": []
   },
   "outputs": [],
   "source": [
    "window_sizes = (100, 200, 500, 1000, 2000, 5000, 10000, 20000)"
   ]
  },
  {
   "cell_type": "markdown",
   "id": "1a281281-2954-46e3-9757-cb3e07b8a403",
   "metadata": {},
   "source": [
    "## Run calibration"
   ]
  },
  {
   "cell_type": "code",
   "execution_count": 15,
   "id": "b3bbf103-0a6b-453a-b564-4dc71a1682d1",
   "metadata": {
    "tags": []
   },
   "outputs": [
    {
     "data": {
      "application/vnd.jupyter.widget-view+json": {
       "model_id": "63881ab4f5274030af22fdfb64bcb018",
       "version_major": 2,
       "version_minor": 0
      },
      "text/plain": [
       "Load sample metadata:   0%|          | 0/1 [00:00<?, ?it/s]"
      ]
     },
     "metadata": {},
     "output_type": "display_data"
    },
    {
     "data": {
      "application/vnd.jupyter.widget-view+json": {
       "model_id": "a4e5dee255b24bcda19648099f73ee7e",
       "version_major": 2,
       "version_minor": 0
      },
      "text/plain": [
       "Load haplotypes:   0%|          | 0/264 [00:00<?, ?it/s]"
      ]
     },
     "metadata": {},
     "output_type": "display_data"
    },
    {
     "data": {
      "application/vnd.jupyter.widget-view+json": {
       "model_id": "4e26340658e341808fb154a870145f6d",
       "version_major": 2,
       "version_minor": 0
      },
      "text/plain": [
       "Compute H12:   0%|          | 0/8 [00:00<?, ?it/s]"
      ]
     },
     "metadata": {},
     "output_type": "display_data"
    },
    {
     "data": {
      "text/html": [
       "\n",
       "  <div class=\"bk-root\" id=\"fc83692f-c32b-4662-86f3-00b822e9018d\" data-root-id=\"1002\"></div>\n"
      ]
     },
     "metadata": {},
     "output_type": "display_data"
    },
    {
     "data": {
      "application/javascript": "(function(root) {\n  function embed_document(root) {\n  const docs_json = {\"463d37f2-e778-4409-8552-8423568e8810\":{\"defs\":[],\"roots\":{\"references\":[{\"attributes\":{\"below\":[{\"id\":\"1011\"}],\"center\":[{\"id\":\"1014\"},{\"id\":\"1018\"},{\"id\":\"1050\"}],\"height\":400,\"left\":[{\"id\":\"1015\"}],\"renderers\":[{\"id\":\"1037\"},{\"id\":\"1056\"},{\"id\":\"1076\"},{\"id\":\"1098\"}],\"title\":{\"id\":\"1103\"},\"toolbar\":{\"id\":\"1026\"},\"width\":700,\"x_range\":{\"id\":\"1102\"},\"x_scale\":{\"id\":\"1007\"},\"y_range\":{\"id\":\"1005\"},\"y_scale\":{\"id\":\"1009\"}},\"id\":\"1002\",\"subtype\":\"Figure\",\"type\":\"Plot\"},{\"attributes\":{\"fill_alpha\":0.2,\"fill_color\":\"#1f77b4\",\"hatch_alpha\":0.2,\"line_alpha\":0.2,\"line_color\":\"#1f77b4\",\"line_width\":2,\"x\":{\"field\":\"x\"},\"y\":{\"field\":\"y\"}},\"id\":\"1036\",\"type\":\"Patch\"},{\"attributes\":{\"line_alpha\":0.1,\"line_width\":4,\"x\":{\"field\":\"x\"},\"y\":{\"field\":\"y\"}},\"id\":\"1074\",\"type\":\"Line\"},{\"attributes\":{\"coordinates\":null,\"data_source\":{\"id\":\"1094\"},\"glyph\":{\"id\":\"1095\"},\"group\":null,\"hover_glyph\":null,\"muted_glyph\":{\"id\":\"1097\"},\"nonselection_glyph\":{\"id\":\"1096\"},\"view\":{\"id\":\"1099\"}},\"id\":\"1098\",\"type\":\"GlyphRenderer\"},{\"attributes\":{\"line_alpha\":0.2,\"line_width\":4,\"x\":{\"field\":\"x\"},\"y\":{\"field\":\"y\"}},\"id\":\"1075\",\"type\":\"Line\"},{\"attributes\":{\"data\":{\"x\":[100,200,500,1000,2000,5000,10000,20000],\"y\":[0.4822000000000001,0.17900000000000002,0.023799999999999998,0.013000000000000003,0.0116,0.010600000000000002,0.0102,0.0102]},\"selected\":{\"id\":\"1091\"},\"selection_policy\":{\"id\":\"1090\"}},\"id\":\"1072\",\"type\":\"ColumnDataSource\"},{\"attributes\":{},\"id\":\"1043\",\"type\":\"AllLabels\"},{\"attributes\":{\"data\":{\"x\":[100,200,500,1000,2000,5000,10000,20000,20000,10000,5000,2000,1000,500,200,100],\"y\":[0.8528,0.597,0.21120000000000003,0.08719999999999999,0.036439999999999965,0.016109999999999947,0.012,0.010600000000000002,0.0102,0.0102,0.0102,0.0102,0.011200000000000003,0.013000000000000003,0.042800000000000005,0.14919999999999997]},\"selected\":{\"id\":\"1069\"},\"selection_policy\":{\"id\":\"1068\"}},\"id\":\"1052\",\"type\":\"ColumnDataSource\"},{\"attributes\":{},\"id\":\"1016\",\"type\":\"BasicTicker\"},{\"attributes\":{},\"id\":\"1047\",\"type\":\"UnionRenderers\"},{\"attributes\":{\"overlay\":{\"id\":\"1025\"}},\"id\":\"1021\",\"type\":\"BoxZoomTool\"},{\"attributes\":{\"coordinates\":null,\"formatter\":{\"id\":\"1045\"},\"group\":null,\"major_label_policy\":{\"id\":\"1046\"},\"ticker\":{\"id\":\"1100\"}},\"id\":\"1011\",\"type\":\"LogAxis\"},{\"attributes\":{},\"id\":\"1022\",\"type\":\"SaveTool\"},{\"attributes\":{},\"id\":\"1091\",\"type\":\"Selection\"},{\"attributes\":{\"coordinates\":null,\"group\":null,\"items\":[{\"id\":\"1051\"},{\"id\":\"1071\"},{\"id\":\"1093\"}]},\"id\":\"1050\",\"type\":\"Legend\"},{\"attributes\":{\"axis\":{\"id\":\"1011\"},\"coordinates\":null,\"group\":null,\"ticker\":null},\"id\":\"1014\",\"type\":\"Grid\"},{\"attributes\":{\"ticks\":[100,200,500,1000,2000,5000,10000,20000]},\"id\":\"1100\",\"type\":\"FixedTicker\"},{\"attributes\":{\"coordinates\":null,\"data_source\":{\"id\":\"1033\"},\"glyph\":{\"id\":\"1034\"},\"group\":null,\"hover_glyph\":null,\"muted_glyph\":{\"id\":\"1036\"},\"nonselection_glyph\":{\"id\":\"1035\"},\"view\":{\"id\":\"1038\"}},\"id\":\"1037\",\"type\":\"GlyphRenderer\"},{\"attributes\":{\"data\":{\"x\":[100,200,500,1000,2000,5000,10000,20000,20000,10000,5000,2000,1000,500,200,100],\"y\":[0.6590000000000001,0.31400000000000006,0.0492,0.0178,0.0132,0.011399999999999999,0.010600000000000002,0.0102,0.0102,0.0102,0.0102,0.011200000000000003,0.0118,0.0168,0.0952,0.31360000000000005]},\"selected\":{\"id\":\"1048\"},\"selection_policy\":{\"id\":\"1047\"}},\"id\":\"1033\",\"type\":\"ColumnDataSource\"},{\"attributes\":{},\"id\":\"1090\",\"type\":\"UnionRenderers\"},{\"attributes\":{},\"id\":\"1009\",\"type\":\"LinearScale\"},{\"attributes\":{},\"id\":\"1046\",\"type\":\"AllLabels\"},{\"attributes\":{\"label\":{\"value\":\"25-75%\"},\"renderers\":[{\"id\":\"1037\"}]},\"id\":\"1051\",\"type\":\"LegendItem\"},{\"attributes\":{\"fill_alpha\":{\"value\":0.1},\"fill_color\":{\"value\":\"black\"},\"hatch_alpha\":{\"value\":0.1},\"line_alpha\":{\"value\":0.1},\"size\":{\"value\":8},\"x\":{\"field\":\"x\"},\"y\":{\"field\":\"y\"}},\"id\":\"1096\",\"type\":\"Circle\"},{\"attributes\":{\"axis\":{\"id\":\"1015\"},\"coordinates\":null,\"dimension\":1,\"group\":null,\"ticker\":null},\"id\":\"1018\",\"type\":\"Grid\"},{\"attributes\":{},\"id\":\"1068\",\"type\":\"UnionRenderers\"},{\"attributes\":{\"fill_alpha\":0.75,\"fill_color\":\"#1f77b4\",\"hatch_alpha\":0.75,\"line_alpha\":0.75,\"line_color\":\"#1f77b4\",\"line_width\":2,\"x\":{\"field\":\"x\"},\"y\":{\"field\":\"y\"}},\"id\":\"1034\",\"type\":\"Patch\"},{\"attributes\":{\"source\":{\"id\":\"1094\"}},\"id\":\"1099\",\"type\":\"CDSView\"},{\"attributes\":{\"fill_alpha\":0.2,\"fill_color\":\"#1f77b4\",\"hatch_alpha\":0.2,\"line_alpha\":0.2,\"line_color\":\"#1f77b4\",\"line_width\":2,\"x\":{\"field\":\"x\"},\"y\":{\"field\":\"y\"}},\"id\":\"1055\",\"type\":\"Patch\"},{\"attributes\":{\"end\":20000,\"start\":100},\"id\":\"1102\",\"type\":\"Range1d\"},{\"attributes\":{\"fill_alpha\":0.5,\"fill_color\":\"#1f77b4\",\"hatch_alpha\":0.5,\"line_alpha\":0.5,\"line_color\":\"#1f77b4\",\"line_width\":2,\"x\":{\"field\":\"x\"},\"y\":{\"field\":\"y\"}},\"id\":\"1053\",\"type\":\"Patch\"},{\"attributes\":{\"coordinates\":null,\"data_source\":{\"id\":\"1072\"},\"glyph\":{\"id\":\"1073\"},\"group\":null,\"hover_glyph\":null,\"muted_glyph\":{\"id\":\"1075\"},\"nonselection_glyph\":{\"id\":\"1074\"},\"view\":{\"id\":\"1077\"}},\"id\":\"1076\",\"type\":\"GlyphRenderer\"},{\"attributes\":{\"fill_alpha\":0.1,\"fill_color\":\"#1f77b4\",\"hatch_alpha\":0.1,\"line_alpha\":0.1,\"line_color\":\"#1f77b4\",\"line_width\":2,\"x\":{\"field\":\"x\"},\"y\":{\"field\":\"y\"}},\"id\":\"1035\",\"type\":\"Patch\"},{\"attributes\":{\"fill_alpha\":0.1,\"fill_color\":\"#1f77b4\",\"hatch_alpha\":0.1,\"line_alpha\":0.1,\"line_color\":\"#1f77b4\",\"line_width\":2,\"x\":{\"field\":\"x\"},\"y\":{\"field\":\"y\"}},\"id\":\"1054\",\"type\":\"Patch\"},{\"attributes\":{\"fill_color\":{\"value\":\"black\"},\"size\":{\"value\":8},\"x\":{\"field\":\"x\"},\"y\":{\"field\":\"y\"}},\"id\":\"1095\",\"type\":\"Circle\"},{\"attributes\":{\"source\":{\"id\":\"1052\"}},\"id\":\"1057\",\"type\":\"CDSView\"},{\"attributes\":{\"label\":{\"value\":\"median\"},\"renderers\":[{\"id\":\"1076\"}]},\"id\":\"1093\",\"type\":\"LegendItem\"},{\"attributes\":{\"fill_alpha\":{\"value\":0.2},\"fill_color\":{\"value\":\"black\"},\"hatch_alpha\":{\"value\":0.2},\"line_alpha\":{\"value\":0.2},\"size\":{\"value\":8},\"x\":{\"field\":\"x\"},\"y\":{\"field\":\"y\"}},\"id\":\"1097\",\"type\":\"Circle\"},{\"attributes\":{},\"id\":\"1069\",\"type\":\"Selection\"},{\"attributes\":{\"tools\":[{\"id\":\"1019\"},{\"id\":\"1020\"},{\"id\":\"1021\"},{\"id\":\"1022\"},{\"id\":\"1023\"},{\"id\":\"1024\"}]},\"id\":\"1026\",\"type\":\"Toolbar\"},{\"attributes\":{\"coordinates\":null,\"formatter\":{\"id\":\"1042\"},\"group\":null,\"major_label_policy\":{\"id\":\"1043\"},\"ticker\":{\"id\":\"1016\"}},\"id\":\"1015\",\"type\":\"LinearAxis\"},{\"attributes\":{},\"id\":\"1117\",\"type\":\"UnionRenderers\"},{\"attributes\":{},\"id\":\"1048\",\"type\":\"Selection\"},{\"attributes\":{\"ticker\":null},\"id\":\"1045\",\"type\":\"LogTickFormatter\"},{\"attributes\":{},\"id\":\"1024\",\"type\":\"HelpTool\"},{\"attributes\":{},\"id\":\"1005\",\"type\":\"DataRange1d\"},{\"attributes\":{\"source\":{\"id\":\"1033\"}},\"id\":\"1038\",\"type\":\"CDSView\"},{\"attributes\":{\"coordinates\":null,\"group\":null,\"text\":\"cohort_admin2_quarter == 'BF-09_Houet_colu_2012_Q3' and sex_call == 'F'\"},\"id\":\"1103\",\"type\":\"Title\"},{\"attributes\":{},\"id\":\"1118\",\"type\":\"Selection\"},{\"attributes\":{},\"id\":\"1019\",\"type\":\"PanTool\"},{\"attributes\":{\"coordinates\":null,\"data_source\":{\"id\":\"1052\"},\"glyph\":{\"id\":\"1053\"},\"group\":null,\"hover_glyph\":null,\"muted_glyph\":{\"id\":\"1055\"},\"nonselection_glyph\":{\"id\":\"1054\"},\"view\":{\"id\":\"1057\"}},\"id\":\"1056\",\"type\":\"GlyphRenderer\"},{\"attributes\":{},\"id\":\"1020\",\"type\":\"WheelZoomTool\"},{\"attributes\":{\"bottom_units\":\"screen\",\"coordinates\":null,\"fill_alpha\":0.5,\"fill_color\":\"lightgrey\",\"group\":null,\"left_units\":\"screen\",\"level\":\"overlay\",\"line_alpha\":1.0,\"line_color\":\"black\",\"line_dash\":[4,4],\"line_width\":2,\"right_units\":\"screen\",\"syncable\":false,\"top_units\":\"screen\"},\"id\":\"1025\",\"type\":\"BoxAnnotation\"},{\"attributes\":{},\"id\":\"1023\",\"type\":\"ResetTool\"},{\"attributes\":{\"source\":{\"id\":\"1072\"}},\"id\":\"1077\",\"type\":\"CDSView\"},{\"attributes\":{\"data\":{\"x\":[100,200,500,1000,2000,5000,10000,20000],\"y\":[0.4822000000000001,0.17900000000000002,0.023799999999999998,0.013000000000000003,0.0116,0.010600000000000002,0.0102,0.0102]},\"selected\":{\"id\":\"1118\"},\"selection_policy\":{\"id\":\"1117\"}},\"id\":\"1094\",\"type\":\"ColumnDataSource\"},{\"attributes\":{},\"id\":\"1042\",\"type\":\"BasicTickFormatter\"},{\"attributes\":{},\"id\":\"1007\",\"type\":\"LogScale\"},{\"attributes\":{\"label\":{\"value\":\"5-95%\"},\"renderers\":[{\"id\":\"1056\"}]},\"id\":\"1071\",\"type\":\"LegendItem\"},{\"attributes\":{\"line_width\":4,\"x\":{\"field\":\"x\"},\"y\":{\"field\":\"y\"}},\"id\":\"1073\",\"type\":\"Line\"}],\"root_ids\":[\"1002\"]},\"title\":\"Bokeh Application\",\"version\":\"2.4.3\"}};\n  const render_items = [{\"docid\":\"463d37f2-e778-4409-8552-8423568e8810\",\"root_ids\":[\"1002\"],\"roots\":{\"1002\":\"fc83692f-c32b-4662-86f3-00b822e9018d\"}}];\n  root.Bokeh.embed.embed_items_notebook(docs_json, render_items);\n  }\n  if (root.Bokeh !== undefined) {\n    embed_document(root);\n  } else {\n    let attempts = 0;\n    const timer = setInterval(function(root) {\n      if (root.Bokeh !== undefined) {\n        clearInterval(timer);\n        embed_document(root);\n      } else {\n        attempts++;\n        if (attempts > 100) {\n          clearInterval(timer);\n          console.log(\"Bokeh: ERROR: Unable to run BokehJS code because BokehJS library is missing\");\n        }\n      }\n    }, 10, root)\n  }\n})(window);",
      "application/vnd.bokehjs_exec.v0+json": ""
     },
     "metadata": {
      "application/vnd.bokehjs_exec.v0+json": {
       "id": "1002"
      }
     },
     "output_type": "display_data"
    }
   ],
   "source": [
    "ag3.plot_h12_calibration(\n",
    "    contig=contig,\n",
    "    analysis=phasing_analysis,\n",
    "    sample_sets=sample_sets,\n",
    "    sample_query=sample_query,\n",
    "    cohort_size=cohort_size,\n",
    "    window_sizes=window_sizes,\n",
    ")"
   ]
  },
  {
   "cell_type": "code",
   "execution_count": 16,
   "id": "57bf7410-1693-4e5e-ac0a-9f83880d34ba",
   "metadata": {
    "tags": []
   },
   "outputs": [
    {
     "data": {
      "text/plain": [
       "<numpy.lib.npyio.NpzFile at 0x7f85041433a0>"
      ]
     },
     "execution_count": 16,
     "metadata": {},
     "output_type": "execute_result"
    }
   ],
   "source": [
    "calibration_runs = ag3.h12_calibration(\n",
    "    contig=contig,\n",
    "    analysis=phasing_analysis,\n",
    "    sample_sets=sample_sets,\n",
    "    sample_query=sample_query,\n",
    "    cohort_size=cohort_size,\n",
    "    window_sizes=window_sizes,\n",
    ")\n",
    "calibration_runs"
   ]
  },
  {
   "cell_type": "code",
   "execution_count": 17,
   "id": "aa92376f-7073-43c9-a33d-5edab1628402",
   "metadata": {
    "tags": []
   },
   "outputs": [
    {
     "data": {
      "text/plain": [
       "1000"
      ]
     },
     "execution_count": 17,
     "metadata": {},
     "output_type": "execute_result"
    }
   ],
   "source": [
    "selected_window_size = None\n",
    "for window_size in window_sizes:\n",
    "    x = calibration_runs[str(window_size)]\n",
    "    x95 = np.percentile(x, 95)\n",
    "    if x95 < 0.1:\n",
    "        selected_window_size = window_size\n",
    "        break\n",
    "selected_window_size"
   ]
  },
  {
   "cell_type": "markdown",
   "id": "5ba0820e-7797-48f8-aa48-366937a005bc",
   "metadata": {},
   "source": [
    "## Write outputs"
   ]
  },
  {
   "cell_type": "code",
   "execution_count": 18,
   "id": "f1be8ce6-5174-40ab-8cb4-d131d0649d32",
   "metadata": {
    "tags": []
   },
   "outputs": [],
   "source": [
    "outdir = \"build/h12-calibration\"\n",
    "os.makedirs(outdir, exist_ok=True)"
   ]
  },
  {
   "cell_type": "code",
   "execution_count": 19,
   "id": "8ee2e373-cafd-40c2-ae84-264fc56b03e3",
   "metadata": {
    "tags": []
   },
   "outputs": [],
   "source": [
    "output = {\n",
    "    \"h12_window_size\": selected_window_size\n",
    "}\n",
    "with open(os.path.join(outdir, f\"{cohort_id}.yaml\"), mode=\"w\") as output_file:\n",
    "    yaml.safe_dump(output, output_file)\n",
    "    "
   ]
  }
 ],
 "metadata": {
  "kernelspec": {
   "display_name": "Python 3 (ipykernel)",
   "language": "python",
   "name": "python3"
  },
  "language_info": {
   "codemirror_mode": {
    "name": "ipython",
    "version": 3
   },
   "file_extension": ".py",
   "mimetype": "text/x-python",
   "name": "python",
   "nbconvert_exporter": "python",
   "pygments_lexer": "ipython3",
   "version": "3.10.9"
  },
  "widgets": {
   "application/vnd.jupyter.widget-state+json": {
    "state": {},
    "version_major": 2,
    "version_minor": 0
   }
  }
 },
 "nbformat": 4,
 "nbformat_minor": 5
}

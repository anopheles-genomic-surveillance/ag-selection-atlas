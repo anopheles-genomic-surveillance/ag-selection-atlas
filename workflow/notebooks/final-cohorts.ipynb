{
 "cells": [
  {
   "cell_type": "markdown",
   "id": "9df0f0a7",
   "metadata": {},
   "source": [
    "# Finalise cohorts\n",
    "\n",
    "Here we finalise the list of cohorts to include in the site, removing cohorts which fail H12 window size calibration."
   ]
  },
  {
   "cell_type": "code",
   "execution_count": null,
   "id": "bd9005c4",
   "metadata": {},
   "outputs": [],
   "source": [
    "import yaml\n",
    "import pandas as pd\n",
    "from pyprojroot import here\n",
    "import numpy as np"
   ]
  },
  {
   "cell_type": "code",
   "execution_count": null,
   "id": "16db0806",
   "metadata": {},
   "outputs": [],
   "source": [
    "df_cohorts = pd.read_csv(here() / \"build\" / \"cohorts.csv\")\n",
    "df_cohorts.head()"
   ]
  },
  {
   "cell_type": "code",
   "execution_count": null,
   "id": "34d463a2",
   "metadata": {},
   "outputs": [],
   "source": [
    "window_size = []\n",
    "\n",
    "for cohort_id in df_cohorts.loc[:, 'cohort_id']:\n",
    "\n",
    "    # load window sizes \n",
    "    outdir = here() / \"build\" / \"h12-calibration\"\n",
    "    with open(outdir / f\"{cohort_id}.yaml\") as params_file:\n",
    "        window_size_params = yaml.safe_load(params_file)\n",
    "    \n",
    "    window_size.append(window_size_params['h12_window_size'])\n",
    "    \n",
    "df_cohorts.loc[:, 'h12_window_size'] = window_size"
   ]
  },
  {
   "cell_type": "code",
   "execution_count": null,
   "id": "42e46bfe",
   "metadata": {},
   "outputs": [],
   "source": [
    "df_cohorts = df_cohorts.query(\"~h12_window_size.isna()\", engine='python')\n",
    "df_cohorts.to_csv(here() / \"build\" / \"final_cohorts.csv\", sep=\",\", index=None)"
   ]
  }
 ],
 "metadata": {
  "kernelspec": {
   "display_name": "alimanfoo-selection-atlas",
   "language": "python",
   "name": "conda-env-alimanfoo-selection-atlas-py"
  },
  "language_info": {
   "codemirror_mode": {
    "name": "ipython",
    "version": 3
   },
   "file_extension": ".py",
   "mimetype": "text/x-python",
   "name": "python",
   "nbconvert_exporter": "python",
   "pygments_lexer": "ipython3",
   "version": "3.10.11"
  }
 },
 "nbformat": 4,
 "nbformat_minor": 5
}

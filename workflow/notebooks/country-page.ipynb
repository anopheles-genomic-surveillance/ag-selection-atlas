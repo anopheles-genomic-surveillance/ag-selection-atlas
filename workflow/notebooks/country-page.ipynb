{
 "cells": [
  {
   "cell_type": "code",
   "execution_count": null,
   "id": "76d2e44c",
   "metadata": {
    "tags": [
     "parameters",
     "remove-input"
    ]
   },
   "outputs": [],
   "source": [
    "country = 'ML'"
   ]
  },
  {
   "cell_type": "code",
   "execution_count": null,
   "id": "ead60adb",
   "metadata": {
    "tags": [
     "remove-input"
    ]
   },
   "outputs": [],
   "source": [
    "from IPython.display import Markdown, HTML, display\n",
    "from pyprojroot import here\n",
    "import geopandas as gpd"
   ]
  },
  {
   "cell_type": "markdown",
   "id": "d8675443",
   "metadata": {},
   "source": []
  },
  {
   "attachments": {},
   "cell_type": "markdown",
   "id": "95e21b75",
   "metadata": {},
   "source": [
    "The map below shows regions where mosquito genomic data are available and genome-wide \n",
    "selection scans have been performed.\n",
    "\n",
    "Click on a region to see more information about mosquito cohorts for which data are \n",
    "available."
   ]
  },
  {
   "cell_type": "code",
   "execution_count": null,
   "id": "c05dd564",
   "metadata": {
    "tags": [
     "remove-input"
    ]
   },
   "outputs": [],
   "source": [
    "gdf_cohorts = gpd.read_file(here() / \"build\" / \"final_cohorts.geojson\")\n",
    "gdf_cohorts = gdf_cohorts.query(f\"country_alpha2 == '{country}'\")"
   ]
  },
  {
   "cell_type": "code",
   "execution_count": null,
   "id": "a9ee7cc7",
   "metadata": {
    "tags": [
     "remove-input"
    ]
   },
   "outputs": [],
   "source": [
    "from ipyleaflet import Map, Marker, basemaps\n",
    "from ipywidgets import HTML\n",
    "\n",
    "center = gdf_cohorts[['latitude', 'longitude']].mean().to_list()\n",
    "m = Map(center=center, zoom=8, basemap=basemaps.OpenTopoMap)\n",
    "\n",
    "for coh_id, row in gdf_cohorts.iterrows():\n",
    "    lat, long = row[['latitude', 'longitude']]\n",
    "    \n",
    "    if row['taxon'] == 'gambiae':\n",
    "        color= 'red'\n",
    "    elif row['taxon'] == 'coluzzii':\n",
    "        color='cadetblue'\n",
    "    elif row['taxon'] == 'arabiensis':\n",
    "        color='lightgreen'\n",
    "    else: \n",
    "        color='gray'\n",
    "    \n",
    "    marker = Marker(location=(lat, long), draggable=True, opacity=0.7, color=color)\n",
    "    m.add_layer(marker);\n",
    "    \n",
    "    message2 = HTML()\n",
    "    message2.value = f'<a href=\"https://github.com/anopheles-genomic-surveillance/selection-atlas\">{coh_id}</a>'\n",
    "    marker.popup = message2\n",
    "\n",
    "display(m)"
   ]
  },
  {
   "cell_type": "code",
   "execution_count": null,
   "id": "bc53e915",
   "metadata": {
    "tags": [
     "remove-input"
    ]
   },
   "outputs": [],
   "source": [
    "gdf_cohorts['cohort page'] = gdf_cohorts['cohort_id'].apply(lambda x: f'<a href=\"../cohort/{x}.html\">{x}</a>')\n",
    "gdf_cohorts = gdf_cohorts[['cohort_label', 'cohort_size', 'admin1_name', 'admin2_name', 'taxon', 'year', 'cohort page']]\n",
    "gdf_cohorts.columns = ['Cohort', 'Cohort size', 'Admin1 area', 'Admin2 area', 'Taxon', 'Year', 'Cohort page']\n",
    "\n",
    "HTML(gdf_cohorts.to_html(escape=False))"
   ]
  }
 ],
 "metadata": {
  "celltoolbar": "Tags",
  "kernelspec": {
   "display_name": "Python 3 (ipykernel)",
   "language": "python",
   "name": "python3"
  },
  "language_info": {
   "codemirror_mode": {
    "name": "ipython",
    "version": 3
   },
   "file_extension": ".py",
   "mimetype": "text/x-python",
   "name": "python",
   "nbconvert_exporter": "python",
   "pygments_lexer": "ipython3",
   "version": "3.7.12"
  }
 },
 "nbformat": 4,
 "nbformat_minor": 5
}

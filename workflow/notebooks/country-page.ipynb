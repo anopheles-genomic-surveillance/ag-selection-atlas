{
 "cells": [
  {
   "cell_type": "code",
   "execution_count": 2,
   "id": "76d2e44c",
   "metadata": {
    "tags": [
     "parameters"
    ]
   },
   "outputs": [],
   "source": [
    "country_iso = 'BF'"
   ]
  },
  {
   "cell_type": "code",
   "execution_count": 3,
   "id": "ead60adb",
   "metadata": {},
   "outputs": [],
   "source": [
    "import malariagen_data\n",
    "import pandas as pd\n",
    "import numpy as np\n",
    "from pyprojroot import here\n",
    "from myst_nb import glue\n",
    "import yaml\n",
    "import geopandas as gpd"
   ]
  },
  {
   "cell_type": "code",
   "execution_count": 5,
   "id": "c05dd564",
   "metadata": {},
   "outputs": [
    {
     "data": {
      "text/plain": [
       "array(['Burkina Faso'], dtype=object)"
      ]
     },
     "metadata": {
      "scrapbook": {
       "mime_prefix": "",
       "name": "country"
      }
     },
     "output_type": "display_data"
    },
    {
     "data": {
      "text/html": [
       "<div>\n",
       "<style scoped>\n",
       "    .dataframe tbody tr th:only-of-type {\n",
       "        vertical-align: middle;\n",
       "    }\n",
       "\n",
       "    .dataframe tbody tr th {\n",
       "        vertical-align: top;\n",
       "    }\n",
       "\n",
       "    .dataframe thead th {\n",
       "        text-align: right;\n",
       "    }\n",
       "</style>\n",
       "<table border=\"1\" class=\"dataframe\">\n",
       "  <thead>\n",
       "    <tr style=\"text-align: right;\">\n",
       "      <th></th>\n",
       "      <th>cohort_size</th>\n",
       "      <th>country</th>\n",
       "      <th>admin1_iso</th>\n",
       "      <th>admin1_name</th>\n",
       "      <th>admin2_name</th>\n",
       "      <th>taxon</th>\n",
       "      <th>year</th>\n",
       "      <th>quarter</th>\n",
       "      <th>cohort_label</th>\n",
       "      <th>sample_query</th>\n",
       "      <th>...</th>\n",
       "      <th>h12_window_size</th>\n",
       "      <th>country_alpha3</th>\n",
       "      <th>shapeName</th>\n",
       "      <th>shapeISO</th>\n",
       "      <th>shapeID</th>\n",
       "      <th>shapeGroup</th>\n",
       "      <th>shapeType</th>\n",
       "      <th>representative_lon</th>\n",
       "      <th>representative_lat</th>\n",
       "      <th>geometry</th>\n",
       "    </tr>\n",
       "  </thead>\n",
       "  <tbody>\n",
       "    <tr>\n",
       "      <th>0</th>\n",
       "      <td>78</td>\n",
       "      <td>Burkina Faso</td>\n",
       "      <td>BF-09</td>\n",
       "      <td>Hauts-Bassins</td>\n",
       "      <td>Houet</td>\n",
       "      <td>coluzzii</td>\n",
       "      <td>2012</td>\n",
       "      <td>3</td>\n",
       "      <td>Burkina Faso / Houet / coluzzii / 2012 / Q3</td>\n",
       "      <td>cohort_admin2_quarter == 'BF-09_Houet_colu_201...</td>\n",
       "      <td>...</td>\n",
       "      <td>1000</td>\n",
       "      <td>BFA</td>\n",
       "      <td>Houet</td>\n",
       "      <td></td>\n",
       "      <td>67063806B43041068804188</td>\n",
       "      <td>BFA</td>\n",
       "      <td>ADM2</td>\n",
       "      <td>-4.311852</td>\n",
       "      <td>11.389151</td>\n",
       "      <td>POLYGON ((-3.97513 11.93914, -4.00000 11.93960...</td>\n",
       "    </tr>\n",
       "    <tr>\n",
       "      <th>1</th>\n",
       "      <td>73</td>\n",
       "      <td>Burkina Faso</td>\n",
       "      <td>BF-09</td>\n",
       "      <td>Hauts-Bassins</td>\n",
       "      <td>Houet</td>\n",
       "      <td>gambiae</td>\n",
       "      <td>2012</td>\n",
       "      <td>3</td>\n",
       "      <td>Burkina Faso / Houet / gambiae / 2012 / Q3</td>\n",
       "      <td>cohort_admin2_quarter == 'BF-09_Houet_gamb_201...</td>\n",
       "      <td>...</td>\n",
       "      <td>1000</td>\n",
       "      <td>BFA</td>\n",
       "      <td>Houet</td>\n",
       "      <td></td>\n",
       "      <td>67063806B43041068804188</td>\n",
       "      <td>BFA</td>\n",
       "      <td>ADM2</td>\n",
       "      <td>-4.311852</td>\n",
       "      <td>11.389151</td>\n",
       "      <td>POLYGON ((-3.97513 11.93914, -4.00000 11.93960...</td>\n",
       "    </tr>\n",
       "  </tbody>\n",
       "</table>\n",
       "<p>2 rows × 22 columns</p>\n",
       "</div>"
      ],
      "text/plain": [
       "   cohort_size       country admin1_iso    admin1_name admin2_name     taxon  \\\n",
       "0           78  Burkina Faso      BF-09  Hauts-Bassins       Houet  coluzzii   \n",
       "1           73  Burkina Faso      BF-09  Hauts-Bassins       Houet   gambiae   \n",
       "\n",
       "   year  quarter                                 cohort_label  \\\n",
       "0  2012        3  Burkina Faso / Houet / coluzzii / 2012 / Q3   \n",
       "1  2012        3   Burkina Faso / Houet / gambiae / 2012 / Q3   \n",
       "\n",
       "                                        sample_query  ...  h12_window_size  \\\n",
       "0  cohort_admin2_quarter == 'BF-09_Houet_colu_201...  ...             1000   \n",
       "1  cohort_admin2_quarter == 'BF-09_Houet_gamb_201...  ...             1000   \n",
       "\n",
       "   country_alpha3  shapeName shapeISO                  shapeID shapeGroup  \\\n",
       "0             BFA      Houet           67063806B43041068804188        BFA   \n",
       "1             BFA      Houet           67063806B43041068804188        BFA   \n",
       "\n",
       "  shapeType representative_lon representative_lat  \\\n",
       "0      ADM2          -4.311852          11.389151   \n",
       "1      ADM2          -4.311852          11.389151   \n",
       "\n",
       "                                            geometry  \n",
       "0  POLYGON ((-3.97513 11.93914, -4.00000 11.93960...  \n",
       "1  POLYGON ((-3.97513 11.93914, -4.00000 11.93960...  \n",
       "\n",
       "[2 rows x 22 columns]"
      ]
     },
     "execution_count": 5,
     "metadata": {},
     "output_type": "execute_result"
    }
   ],
   "source": [
    "gdf_cohorts = gpd.read_file(here() / \"build\" / \"final_cohorts.geojson\")\n",
    "gdf_cohorts = gdf_cohorts.query(f\"country_alpha2 == '{country_iso}'\")\n",
    "country_name = gdf_cohorts['country'].unique()\n",
    "glue(\"country\", country_name)\n",
    "gdf_cohorts.head()"
   ]
  },
  {
   "cell_type": "markdown",
   "id": "fe8f683a",
   "metadata": {},
   "source": [
    "# {glue:}`country`!"
   ]
  },
  {
   "cell_type": "code",
   "execution_count": 12,
   "id": "a9ee7cc7",
   "metadata": {},
   "outputs": [
    {
     "data": {
      "application/vnd.jupyter.widget-view+json": {
       "model_id": "c1bade00224b48898698333f53de9708",
       "version_major": 2,
       "version_minor": 0
      },
      "text/plain": [
       "Map(center=[11.209212429169746, -4.323225424981523], controls=(ZoomControl(options=['position', 'zoom_in_text'…"
      ]
     },
     "metadata": {},
     "output_type": "display_data"
    }
   ],
   "source": [
    "import pandas as pd\n",
    "from ipyleaflet import Map, Marker, basemaps, AwesomeIcon, Popup\n",
    "from ipywidgets import HTML\n",
    "\n",
    "center = gdf_cohorts[['latitude', 'longitude']].mean().to_list()\n",
    "m = Map(center=center, zoom=8, basemap=basemaps.OpenTopoMap)\n",
    "\n",
    "for coh_id, row in gdf_cohorts.iterrows():\n",
    "    lat, long = row[['latitude', 'longitude']]\n",
    "    \n",
    "    if row['taxon'] == 'gambiae':\n",
    "        color= 'red'\n",
    "    elif row['taxon'] == 'coluzzii':\n",
    "        color='cadetblue'\n",
    "    elif row['taxon'] == 'arabiensis':\n",
    "        color='lightgreen'\n",
    "    else: \n",
    "        color='gray'\n",
    "    \n",
    "    marker = Marker(location=(lat, long), draggable=True, opacity=0.7, color=color)\n",
    "    m.add_layer(marker);\n",
    "    \n",
    "    message2 = HTML()\n",
    "    message2.value = f'<a href=\"https://github.com/anopheles-genomic-surveillance/selection-atlas\">{coh_id}</a>'\n",
    "    marker.popup = message2\n",
    "\n",
    "display(m)"
   ]
  },
  {
   "cell_type": "code",
   "execution_count": null,
   "id": "54163b71",
   "metadata": {},
   "outputs": [],
   "source": []
  }
 ],
 "metadata": {
  "celltoolbar": "Tags",
  "kernelspec": {
   "display_name": "Python 3 (ipykernel)",
   "language": "python",
   "name": "python3"
  },
  "language_info": {
   "codemirror_mode": {
    "name": "ipython",
    "version": 3
   },
   "file_extension": ".py",
   "mimetype": "text/x-python",
   "name": "python",
   "nbconvert_exporter": "python",
   "pygments_lexer": "ipython3",
   "version": "3.7.12"
  }
 },
 "nbformat": 4,
 "nbformat_minor": 5
}

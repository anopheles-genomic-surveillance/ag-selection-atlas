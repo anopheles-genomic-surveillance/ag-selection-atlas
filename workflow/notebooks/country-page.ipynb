{
 "cells": [
  {
   "cell_type": "code",
   "execution_count": null,
   "id": "76d2e44c",
   "metadata": {
    "tags": [
     "parameters",
     "remove-input"
    ]
   },
   "outputs": [],
   "source": [
    "# Notebook parameters. Values here are for development only and \n",
    "# will be overridden when running via snakemake and papermill.\n",
    "country = 'ML'\n",
    "use_gcs_cache = False\n",
    "dask_scheduler = \"threads\""
   ]
  },
  {
   "cell_type": "code",
   "execution_count": null,
   "id": "ead60adb",
   "metadata": {
    "tags": [
     "remove-input"
    ]
   },
   "outputs": [],
   "source": [
    "from pyprojroot import here\n",
    "import geopandas as gpd\n",
    "import dask\n",
    "dask.config.set(scheduler=dask_scheduler);"
   ]
  },
  {
   "cell_type": "markdown",
   "id": "d8675443",
   "metadata": {},
   "source": []
  },
  {
   "cell_type": "markdown",
   "id": "95e21b75",
   "metadata": {},
   "source": [
    "The map below shows regions where mosquito genomic data are available and genome-wide \n",
    "selection scans have been performed.\n",
    "\n",
    "Click on a region to see more information about mosquito cohorts for which data are \n",
    "available."
   ]
  },
  {
   "cell_type": "code",
   "execution_count": null,
   "id": "c05dd564",
   "metadata": {
    "tags": [
     "remove-input"
    ]
   },
   "outputs": [],
   "source": [
    "gdf_cohorts = gpd.read_file(here() / \"build\" / \"final_cohorts.geojson\").set_index('cohort_id')\n",
    "gdf_cohorts = gdf_cohorts.query(f\"country_alpha2 == '{country}'\")"
   ]
  },
  {
   "cell_type": "code",
   "execution_count": null,
   "id": "a9ee7cc7",
   "metadata": {
    "tags": [
     "remove-input"
    ]
   },
   "outputs": [],
   "source": [
    "from ipyleaflet import Map, Marker, basemaps\n",
    "from ipywidgets import HTML\n",
    "\n",
    "center = gdf_cohorts[['latitude', 'longitude']].mean().to_list()\n",
    "m = Map(center=center, zoom=8, basemap=basemaps.OpenTopoMap)\n",
    "\n",
    "for coh_id, row in gdf_cohorts.iterrows():\n",
    "    lat, long = row[['latitude', 'longitude']]\n",
    "    coh_label = row['cohort_label']\n",
    "    \n",
    "    if row['taxon'] == 'gambiae':\n",
    "        color= 'red'\n",
    "    elif row['taxon'] == 'coluzzii':\n",
    "        color='cadetblue'\n",
    "    elif row['taxon'] == 'arabiensis':\n",
    "        color='lightgreen'\n",
    "    else: \n",
    "        color='gray'\n",
    "    \n",
    "    marker = Marker(location=(lat, long), draggable=True, opacity=0.7, color=color)\n",
    "    m.add_layer(marker);\n",
    "    \n",
    "    message2 = HTML()\n",
    "    message2.value = f'<a href=\"../cohort/{coh_id}.html\">{coh_label}</a>'\n",
    "    marker.popup = message2\n",
    "\n",
    "m"
   ]
  },
  {
   "cell_type": "markdown",
   "id": "922ac724",
   "metadata": {},
   "source": [
    "<br></br>"
   ]
  },
  {
   "cell_type": "code",
   "execution_count": null,
   "id": "6dd7ddb3",
   "metadata": {
    "tags": [
     "remove-input"
    ]
   },
   "outputs": [],
   "source": [
    "def make_clickable(url, name):\n",
    "    return '<a href=\"{}\" rel=\"noopener noreferrer\" target=\"_blank\">{}</a>'.format(url,name)"
   ]
  },
  {
   "cell_type": "code",
   "execution_count": null,
   "id": "bc53e915",
   "metadata": {
    "tags": [
     "remove-input"
    ]
   },
   "outputs": [],
   "source": [
    "gdf_cohorts = gdf_cohorts.reset_index()\n",
    "gdf_cohorts['url'] = \"../cohort/\" + gdf_cohorts['cohort_id'] + \".html\"\n",
    "gdf_cohorts['cohort_label'] = gdf_cohorts.apply(lambda x: make_clickable(x['url'], x['cohort_label']), axis=1)\n",
    "\n",
    "gdf_cohorts = gdf_cohorts[['cohort_label', 'cohort_size', 'admin1_name', 'admin2_name', 'taxon', 'year', 'quarter']]\n",
    "gdf_cohorts = gdf_cohorts.rename(columns={'cohort_label':'Cohort label'}).set_index('Cohort label')\n",
    "gdf_cohorts.columns = ['Cohort size', 'Admin1 area', 'Admin2 area', 'Taxon', 'Year', 'Quarter']\n",
    "gdf_cohorts.style"
   ]
  }
 ],
 "metadata": {
  "celltoolbar": "Tags",
  "kernelspec": {
   "display_name": "Python 3 (ipykernel)",
   "language": "python",
   "name": "python3"
  },
  "language_info": {
   "codemirror_mode": {
    "name": "ipython",
    "version": 3
   },
   "file_extension": ".py",
   "mimetype": "text/x-python",
   "name": "python",
   "nbconvert_exporter": "python",
   "pygments_lexer": "ipython3",
   "version": "3.10.11"
  }
 },
 "nbformat": 4,
 "nbformat_minor": 5
}

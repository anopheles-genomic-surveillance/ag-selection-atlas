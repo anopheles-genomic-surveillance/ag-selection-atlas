{
 "cells": [
  {
   "cell_type": "code",
   "execution_count": 8,
   "id": "ead60adb",
   "metadata": {},
   "outputs": [],
   "source": [
    "import malariagen_data\n",
    "import pandas as pd\n",
    "import numpy as np\n",
    "from pyprojroot import here"
   ]
  },
  {
   "cell_type": "code",
   "execution_count": 9,
   "id": "76d2e44c",
   "metadata": {},
   "outputs": [],
   "source": [
    "country = 'Burkina Faso'"
   ]
  },
  {
   "cell_type": "code",
   "execution_count": 10,
   "id": "80879436",
   "metadata": {},
   "outputs": [
    {
     "data": {
      "text/html": [
       "<div>\n",
       "<style scoped>\n",
       "    .dataframe tbody tr th:only-of-type {\n",
       "        vertical-align: middle;\n",
       "    }\n",
       "\n",
       "    .dataframe tbody tr th {\n",
       "        vertical-align: top;\n",
       "    }\n",
       "\n",
       "    .dataframe thead th {\n",
       "        text-align: right;\n",
       "    }\n",
       "</style>\n",
       "<table border=\"1\" class=\"dataframe\">\n",
       "  <thead>\n",
       "    <tr style=\"text-align: right;\">\n",
       "      <th></th>\n",
       "      <th>cohort_size</th>\n",
       "      <th>country</th>\n",
       "      <th>admin1_iso</th>\n",
       "      <th>admin1_name</th>\n",
       "      <th>admin2_name</th>\n",
       "      <th>taxon</th>\n",
       "      <th>year</th>\n",
       "      <th>quarter</th>\n",
       "      <th>cohort_label</th>\n",
       "      <th>sample_query</th>\n",
       "      <th>latitude</th>\n",
       "      <th>longitude</th>\n",
       "      <th>h12_window_size</th>\n",
       "    </tr>\n",
       "    <tr>\n",
       "      <th>cohort_id</th>\n",
       "      <th></th>\n",
       "      <th></th>\n",
       "      <th></th>\n",
       "      <th></th>\n",
       "      <th></th>\n",
       "      <th></th>\n",
       "      <th></th>\n",
       "      <th></th>\n",
       "      <th></th>\n",
       "      <th></th>\n",
       "      <th></th>\n",
       "      <th></th>\n",
       "      <th></th>\n",
       "    </tr>\n",
       "  </thead>\n",
       "  <tbody>\n",
       "    <tr>\n",
       "      <th>BF-09_Houet_colu_2012_Q3</th>\n",
       "      <td>78</td>\n",
       "      <td>Burkina Faso</td>\n",
       "      <td>BF-09</td>\n",
       "      <td>Hauts-Bassins</td>\n",
       "      <td>Houet</td>\n",
       "      <td>coluzzii</td>\n",
       "      <td>2012</td>\n",
       "      <td>3</td>\n",
       "      <td>Burkina Faso / Houet / coluzzii / 2012 / Q3</td>\n",
       "      <td>cohort_admin2_quarter == 'BF-09_Houet_colu_201...</td>\n",
       "      <td>11.223768</td>\n",
       "      <td>-4.356390</td>\n",
       "      <td>1000</td>\n",
       "    </tr>\n",
       "    <tr>\n",
       "      <th>BF-09_Houet_gamb_2012_Q3</th>\n",
       "      <td>73</td>\n",
       "      <td>Burkina Faso</td>\n",
       "      <td>BF-09</td>\n",
       "      <td>Hauts-Bassins</td>\n",
       "      <td>Houet</td>\n",
       "      <td>gambiae</td>\n",
       "      <td>2012</td>\n",
       "      <td>3</td>\n",
       "      <td>Burkina Faso / Houet / gambiae / 2012 / Q3</td>\n",
       "      <td>cohort_admin2_quarter == 'BF-09_Houet_gamb_201...</td>\n",
       "      <td>11.194657</td>\n",
       "      <td>-4.290061</td>\n",
       "      <td>1000</td>\n",
       "    </tr>\n",
       "  </tbody>\n",
       "</table>\n",
       "</div>"
      ],
      "text/plain": [
       "                          cohort_size       country admin1_iso    admin1_name  \\\n",
       "cohort_id                                                                       \n",
       "BF-09_Houet_colu_2012_Q3           78  Burkina Faso      BF-09  Hauts-Bassins   \n",
       "BF-09_Houet_gamb_2012_Q3           73  Burkina Faso      BF-09  Hauts-Bassins   \n",
       "\n",
       "                         admin2_name     taxon  year  quarter  \\\n",
       "cohort_id                                                       \n",
       "BF-09_Houet_colu_2012_Q3       Houet  coluzzii  2012        3   \n",
       "BF-09_Houet_gamb_2012_Q3       Houet   gambiae  2012        3   \n",
       "\n",
       "                                                         cohort_label  \\\n",
       "cohort_id                                                               \n",
       "BF-09_Houet_colu_2012_Q3  Burkina Faso / Houet / coluzzii / 2012 / Q3   \n",
       "BF-09_Houet_gamb_2012_Q3   Burkina Faso / Houet / gambiae / 2012 / Q3   \n",
       "\n",
       "                                                               sample_query  \\\n",
       "cohort_id                                                                     \n",
       "BF-09_Houet_colu_2012_Q3  cohort_admin2_quarter == 'BF-09_Houet_colu_201...   \n",
       "BF-09_Houet_gamb_2012_Q3  cohort_admin2_quarter == 'BF-09_Houet_gamb_201...   \n",
       "\n",
       "                           latitude  longitude  h12_window_size  \n",
       "cohort_id                                                        \n",
       "BF-09_Houet_colu_2012_Q3  11.223768  -4.356390             1000  \n",
       "BF-09_Houet_gamb_2012_Q3  11.194657  -4.290061             1000  "
      ]
     },
     "execution_count": 10,
     "metadata": {},
     "output_type": "execute_result"
    }
   ],
   "source": [
    "# load cohorts to find sample query \n",
    "df_cohorts = pd.read_csv(here() / \"build\" / \"final_cohorts.csv\").set_index(\"cohort_id\")\n",
    "df_cohorts.query(f\"country == '{country}'\")"
   ]
  },
  {
   "cell_type": "markdown",
   "id": "fe8f683a",
   "metadata": {},
   "source": [
    "# MAPPPPPPPPPPPPP!"
   ]
  },
  {
   "cell_type": "code",
   "execution_count": null,
   "id": "a9ee7cc7",
   "metadata": {},
   "outputs": [],
   "source": []
  }
 ],
 "metadata": {
  "kernelspec": {
   "display_name": "selection-atlas",
   "language": "python",
   "name": "selection-atlas"
  },
  "language_info": {
   "codemirror_mode": {
    "name": "ipython",
    "version": 3
   },
   "file_extension": ".py",
   "mimetype": "text/x-python",
   "name": "python",
   "nbconvert_exporter": "python",
   "pygments_lexer": "ipython3",
   "version": "3.7.13"
  }
 },
 "nbformat": 4,
 "nbformat_minor": 5
}

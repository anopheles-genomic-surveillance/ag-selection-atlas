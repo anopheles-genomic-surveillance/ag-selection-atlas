{
 "cells": [
  {
   "cell_type": "code",
   "execution_count": null,
   "metadata": {
    "tags": [
     "parameters"
    ]
   },
   "outputs": [],
   "source": [
    "wildcard = ''\n",
    "input_nb = ''\n",
    "output_nb = ''\n",
    "page_type = ''\n",
    "analysis_version = 'dev'"
   ]
  },
  {
   "cell_type": "code",
   "execution_count": 2,
   "metadata": {},
   "outputs": [],
   "source": [
    "import json\n",
    "import geopandas as gpd\n",
    "from pyprojroot import here"
   ]
  },
  {
   "cell_type": "code",
   "execution_count": null,
   "metadata": {},
   "outputs": [],
   "source": [
    "def add_header_and_remove_tag(input_nb, output_nb, header, page_type, cell=3):\n",
    "\n",
    "    with open(input_nb, mode= \"r\", encoding= \"utf-8\") as f:\n",
    "        my_nb = json.loads(f.read())\n",
    "    \n",
    "    if not page_type == 'homepage':\n",
    "        my_nb['cells'][cell]['source'] = header\n",
    "        \n",
    "    my_nb['cells'][1]['metadata']['tags'] = ['remove-input']\n",
    "    \n",
    "    with open(output_nb, 'w') as f:\n",
    "        json.dump(my_nb, f)"
   ]
  },
  {
   "cell_type": "markdown",
   "metadata": {},
   "source": [
    "## Add headers"
   ]
  },
  {
   "cell_type": "code",
   "execution_count": 6,
   "metadata": {},
   "outputs": [],
   "source": [
    "gpd_df = gpd.read_file(here() / \"build\" / analysis_version / \"final_cohorts.geojson\")\n",
    "\n",
    "if page_type == 'country':\n",
    "    df = gpd_df.query(f\"country_alpha2 == '{wildcard}'\")\n",
    "    country_name = df['country'].unique()[0]\n",
    "    title = country_name\n",
    "elif page_type == 'chrom':\n",
    "    title = f\"Chromosome {wildcard}\"\n",
    "elif page_type == 'cohort':\n",
    "    df = gpd_df.query(f\"cohort_id == '{wildcard}'\")\n",
    "    cohort_label = df['cohort_label'].unique()[0]\n",
    "    title = cohort_label\n",
    "elif page_type == 'homepage':\n",
    "    title = \"\"\n",
    "elif page_type == 'alert':\n",
    "    title = \"Alert TODO\""
   ]
  },
  {
   "cell_type": "code",
   "execution_count": null,
   "metadata": {},
   "outputs": [],
   "source": [
    "add_header_and_remove_tag(\n",
    "    input_nb = input_nb,\n",
    "    output_nb = output_nb,\n",
    "    header = f'# {title}',\n",
    "    page_type = page_type,\n",
    ")"
   ]
  }
 ],
 "metadata": {
  "kernelspec": {
   "display_name": "Python 3 (ipykernel)",
   "language": "python",
   "name": "python3"
  },
  "language_info": {
   "codemirror_mode": {
    "name": "ipython",
    "version": 3
   },
   "file_extension": ".py",
   "mimetype": "text/x-python",
   "name": "python",
   "nbconvert_exporter": "python",
   "pygments_lexer": "ipython3",
   "version": "3.10.11"
  }
 },
 "nbformat": 4,
 "nbformat_minor": 4
}

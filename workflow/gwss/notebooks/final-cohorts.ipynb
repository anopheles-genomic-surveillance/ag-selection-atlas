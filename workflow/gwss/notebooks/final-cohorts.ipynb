{
 "cells": [
  {
   "cell_type": "code",
   "execution_count": null,
   "id": "0747232a-2555-4d3a-9d61-36a2978d29a2",
   "metadata": {
    "tags": [
     "parameters"
    ]
   },
   "outputs": [],
   "source": [
    "# Notebook parameters. Values here are for development only and\n",
    "# will be overridden when running via snakemake and papermill.\n",
    "sample_sets = \"AG1000G-BF-A\"\n",
    "contigs = [\"3L\"]\n",
    "cohorts_analysis = \"20240924\"\n",
    "min_cohort_size = 20\n",
    "max_cohort_size = 50\n",
    "dask_scheduler = \"single-threaded\"\n",
    "analysis_version = \"dev\""
   ]
  },
  {
   "cell_type": "markdown",
   "id": "9df0f0a7",
   "metadata": {},
   "source": [
    "# Finalise cohorts\n",
    "\n",
    "Here we finalise the list of cohorts to include in the site, removing cohorts which fail H12 window size calibration."
   ]
  },
  {
   "cell_type": "code",
   "execution_count": null,
   "id": "bd9005c4",
   "metadata": {},
   "outputs": [],
   "source": [
    "from pyprojroot import here\n",
    "\n",
    "root = here()\n",
    "%run -i {root}/workflow/scripts/setup.py"
   ]
  },
  {
   "cell_type": "code",
   "execution_count": null,
   "id": "16db0806",
   "metadata": {},
   "outputs": [],
   "source": [
    "df_cohorts = pd.read_csv(cohorts_file)\n",
    "df_cohorts.head()"
   ]
  },
  {
   "cell_type": "code",
   "execution_count": null,
   "id": "34d463a2",
   "metadata": {},
   "outputs": [],
   "source": [
    "window_size = []\n",
    "\n",
    "for cohort_id in df_cohorts.loc[:, \"cohort_id\"]:\n",
    "    # Load window sizes.\n",
    "    h12_calibration_file = h12_calibration_files.as_posix().format(cohort=cohort_id)\n",
    "    with open(h12_calibration_file) as params_file:\n",
    "        window_size_params = yaml.safe_load(params_file)\n",
    "\n",
    "    window_size.append(window_size_params[\"h12_window_size\"])\n",
    "\n",
    "df_cohorts.loc[:, \"h12_window_size\"] = window_size"
   ]
  },
  {
   "cell_type": "code",
   "execution_count": null,
   "id": "42e46bfe",
   "metadata": {},
   "outputs": [],
   "source": [
    "df_cohorts = df_cohorts.query(\"~h12_window_size.isna()\", engine=\"python\")\n",
    "df_cohorts.to_csv(final_cohorts_file, index=None)"
   ]
  }
 ],
 "metadata": {
  "kernelspec": {
   "display_name": "Python 3.12.8",
   "language": "python",
   "name": "python3"
  },
  "language_info": {
   "codemirror_mode": {
    "name": "ipython",
    "version": 3
   },
   "file_extension": ".py",
   "mimetype": "text/x-python",
   "name": "python",
   "nbconvert_exporter": "python",
   "pygments_lexer": "ipython3",
   "version": "3.12.8"
  },
  "vscode": {
   "interpreter": {
    "hash": "413cdeb219e8bff135b0b2763a87a5764c0fe7d0a4036c131f34ed4d6caa02ac"
   }
  }
 },
 "nbformat": 4,
 "nbformat_minor": 5
}
